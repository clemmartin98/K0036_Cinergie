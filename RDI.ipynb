{
 "cells": [
  {
   "cell_type": "code",
   "execution_count": null,
   "metadata": {},
   "outputs": [],
   "source": [
    "import pandas as pd\n",
    "import glob\n",
    "\n",
    "# Get all CSV files in current directory\n",
    "csv_files = glob.glob('*.csv')\n",
    "\n",
    "# Initialize empty list to store dataframes\n",
    "dfs = []\n",
    "# Read each CSV file and store in list\n",
    "for file in csv_files:\n",
    "    df = pd.read_csv(file, sep = ',', header = 1)\n",
    "    display(df.head())\n",
    "    # Ensure timestamp column exists and is in datetime format\n",
    "    if 'timestamp' in df.columns:\n",
    "        df['timestamp'] = pd.to_datetime(df['timestamp'])\n",
    "        # Convert only string columns to numeric by removing units\n",
    "        for col in df.columns:\n",
    "            if col != 'timestamp' and df[col].dtype == 'object':\n",
    "                try:\n",
    "                    df[col] = df[col].str.extract('([-+]?\\d*\\.?\\d+)').astype(float)\n",
    "                except AttributeError:\n",
    "                    # Column is not string type, skip it\n",
    "                    continue\n",
    "        # Save modified dataframe\n",
    "        output_filename = file.replace('.csv', '_modified.csv')\n",
    "        df.to_csv(output_filename, index=False)\n",
    "        dfs.append(df)\n",
    "    else:\n",
    "        print(f\"Warning: {file} does not contain timestamp column\")\n",
    "\n",
    "    display(df.head())\n",
    "if len(dfs) > 0:\n",
    "    # Merge all dataframes on timestamp column, keeping only matching timestamps\n",
    "    merged_df = dfs[0]\n",
    "    for df in dfs[1:]:\n",
    "        merged_df = pd.merge(merged_df, df, on='timestamp', how='inner')\n",
    "    \n",
    "    # Forward fill NA values within each period\n",
    "    merged_df = merged_df.fillna(method='ffill')\n",
    "    \n",
    "    print(f\"Successfully merged {len(dfs)} CSV files\")\n",
    "    print(f\"Final dataframe shape: {merged_df.shape}\")\n",
    "else:\n",
    "    print(\"No valid CSV files found for merging\")\n"
   ]
  },
  {
   "cell_type": "code",
   "execution_count": 63,
   "metadata": {},
   "outputs": [
    {
     "name": "stderr",
     "output_type": "stream",
     "text": [
      "/var/folders/db/7cgt90md11n4t0mcrzd15fv00000gn/T/ipykernel_2233/1870602052.py:9: UserWarning:\n",
      "\n",
      "Could not infer format, so each element will be parsed individually, falling back to `dateutil`. To ensure parsing is consistent and as-expected, please specify a format.\n",
      "\n",
      "/var/folders/db/7cgt90md11n4t0mcrzd15fv00000gn/T/ipykernel_2233/1870602052.py:9: UserWarning:\n",
      "\n",
      "Could not infer format, so each element will be parsed individually, falling back to `dateutil`. To ensure parsing is consistent and as-expected, please specify a format.\n",
      "\n"
     ]
    },
    {
     "data": {
      "text/html": [
       "<div>\n",
       "<style scoped>\n",
       "    .dataframe tbody tr th:only-of-type {\n",
       "        vertical-align: middle;\n",
       "    }\n",
       "\n",
       "    .dataframe tbody tr th {\n",
       "        vertical-align: top;\n",
       "    }\n",
       "\n",
       "    .dataframe thead th {\n",
       "        text-align: right;\n",
       "    }\n",
       "</style>\n",
       "<table border=\"1\" class=\"dataframe\">\n",
       "  <thead>\n",
       "    <tr style=\"text-align: right;\">\n",
       "      <th></th>\n",
       "      <th>LIEB_Tc</th>\n",
       "      <th>LIEB_Tf</th>\n",
       "      <th>LIEB_Q</th>\n",
       "      <th>LIEB_P</th>\n",
       "      <th>JEN1_Tc</th>\n",
       "      <th>JEN1_Tf</th>\n",
       "      <th>JEN1_Q</th>\n",
       "      <th>JEN1_P</th>\n",
       "      <th>JEN2_Tc</th>\n",
       "      <th>JEN2_Tf</th>\n",
       "      <th>JEN2_Q</th>\n",
       "      <th>JEN2_P</th>\n",
       "      <th>HX1_P</th>\n",
       "      <th>HX2_P</th>\n",
       "      <th>Sech_P</th>\n",
       "      <th>Dig_P</th>\n",
       "    </tr>\n",
       "    <tr>\n",
       "      <th>timestamp</th>\n",
       "      <th></th>\n",
       "      <th></th>\n",
       "      <th></th>\n",
       "      <th></th>\n",
       "      <th></th>\n",
       "      <th></th>\n",
       "      <th></th>\n",
       "      <th></th>\n",
       "      <th></th>\n",
       "      <th></th>\n",
       "      <th></th>\n",
       "      <th></th>\n",
       "      <th></th>\n",
       "      <th></th>\n",
       "      <th></th>\n",
       "      <th></th>\n",
       "    </tr>\n",
       "  </thead>\n",
       "  <tbody>\n",
       "    <tr>\n",
       "      <th>2025-02-12 11:11:57</th>\n",
       "      <td>59</td>\n",
       "      <td>62</td>\n",
       "      <td>9</td>\n",
       "      <td>30</td>\n",
       "      <td>78</td>\n",
       "      <td>63</td>\n",
       "      <td>57</td>\n",
       "      <td>938</td>\n",
       "      <td>79</td>\n",
       "      <td>65</td>\n",
       "      <td>59</td>\n",
       "      <td>954</td>\n",
       "      <td>358</td>\n",
       "      <td>348</td>\n",
       "      <td>1082</td>\n",
       "      <td>0</td>\n",
       "    </tr>\n",
       "    <tr>\n",
       "      <th>2025-02-12 11:15:00</th>\n",
       "      <td>59</td>\n",
       "      <td>62</td>\n",
       "      <td>9</td>\n",
       "      <td>31</td>\n",
       "      <td>78</td>\n",
       "      <td>63</td>\n",
       "      <td>57</td>\n",
       "      <td>956</td>\n",
       "      <td>80</td>\n",
       "      <td>65</td>\n",
       "      <td>60</td>\n",
       "      <td>1039</td>\n",
       "      <td>342</td>\n",
       "      <td>364</td>\n",
       "      <td>1140</td>\n",
       "      <td>0</td>\n",
       "    </tr>\n",
       "    <tr>\n",
       "      <th>2025-02-12 11:30:00</th>\n",
       "      <td>59</td>\n",
       "      <td>62</td>\n",
       "      <td>9</td>\n",
       "      <td>32</td>\n",
       "      <td>77</td>\n",
       "      <td>63</td>\n",
       "      <td>57</td>\n",
       "      <td>867</td>\n",
       "      <td>81</td>\n",
       "      <td>65</td>\n",
       "      <td>60</td>\n",
       "      <td>1101</td>\n",
       "      <td>336</td>\n",
       "      <td>351</td>\n",
       "      <td>1198</td>\n",
       "      <td>0</td>\n",
       "    </tr>\n",
       "    <tr>\n",
       "      <th>2025-02-12 11:45:00</th>\n",
       "      <td>59</td>\n",
       "      <td>62</td>\n",
       "      <td>9</td>\n",
       "      <td>33</td>\n",
       "      <td>76</td>\n",
       "      <td>63</td>\n",
       "      <td>57</td>\n",
       "      <td>821</td>\n",
       "      <td>81</td>\n",
       "      <td>65</td>\n",
       "      <td>62</td>\n",
       "      <td>1142</td>\n",
       "      <td>355</td>\n",
       "      <td>372</td>\n",
       "      <td>1198</td>\n",
       "      <td>0</td>\n",
       "    </tr>\n",
       "    <tr>\n",
       "      <th>2025-02-12 12:00:00</th>\n",
       "      <td>59</td>\n",
       "      <td>62</td>\n",
       "      <td>9</td>\n",
       "      <td>30</td>\n",
       "      <td>77</td>\n",
       "      <td>63</td>\n",
       "      <td>57</td>\n",
       "      <td>877</td>\n",
       "      <td>81</td>\n",
       "      <td>64</td>\n",
       "      <td>60</td>\n",
       "      <td>1130</td>\n",
       "      <td>363</td>\n",
       "      <td>370</td>\n",
       "      <td>1252</td>\n",
       "      <td>0</td>\n",
       "    </tr>\n",
       "  </tbody>\n",
       "</table>\n",
       "</div>"
      ],
      "text/plain": [
       "                     LIEB_Tc  LIEB_Tf  LIEB_Q  LIEB_P  JEN1_Tc  JEN1_Tf  \\\n",
       "timestamp                                                                 \n",
       "2025-02-12 11:11:57       59       62       9      30       78       63   \n",
       "2025-02-12 11:15:00       59       62       9      31       78       63   \n",
       "2025-02-12 11:30:00       59       62       9      32       77       63   \n",
       "2025-02-12 11:45:00       59       62       9      33       76       63   \n",
       "2025-02-12 12:00:00       59       62       9      30       77       63   \n",
       "\n",
       "                     JEN1_Q  JEN1_P  JEN2_Tc  JEN2_Tf  JEN2_Q  JEN2_P  HX1_P  \\\n",
       "timestamp                                                                      \n",
       "2025-02-12 11:11:57      57     938       79       65      59     954    358   \n",
       "2025-02-12 11:15:00      57     956       80       65      60    1039    342   \n",
       "2025-02-12 11:30:00      57     867       81       65      60    1101    336   \n",
       "2025-02-12 11:45:00      57     821       81       65      62    1142    355   \n",
       "2025-02-12 12:00:00      57     877       81       64      60    1130    363   \n",
       "\n",
       "                     HX2_P  Sech_P  Dig_P  \n",
       "timestamp                                  \n",
       "2025-02-12 11:11:57    348    1082      0  \n",
       "2025-02-12 11:15:00    364    1140      0  \n",
       "2025-02-12 11:30:00    351    1198      0  \n",
       "2025-02-12 11:45:00    372    1198      0  \n",
       "2025-02-12 12:00:00    370    1252      0  "
      ]
     },
     "metadata": {},
     "output_type": "display_data"
    },
    {
     "data": {
      "text/html": [
       "<div>\n",
       "<style scoped>\n",
       "    .dataframe tbody tr th:only-of-type {\n",
       "        vertical-align: middle;\n",
       "    }\n",
       "\n",
       "    .dataframe tbody tr th {\n",
       "        vertical-align: top;\n",
       "    }\n",
       "\n",
       "    .dataframe thead th {\n",
       "        text-align: right;\n",
       "    }\n",
       "</style>\n",
       "<table border=\"1\" class=\"dataframe\">\n",
       "  <thead>\n",
       "    <tr style=\"text-align: right;\">\n",
       "      <th></th>\n",
       "      <th>Tc_RU</th>\n",
       "      <th>Tf_RU</th>\n",
       "      <th>Hz1_RU</th>\n",
       "      <th>Hz2_RU</th>\n",
       "      <th>DP_RU</th>\n",
       "      <th>Tc_HX1_RU</th>\n",
       "      <th>Tc_HX2_RU</th>\n",
       "      <th>Tc_HX1_CIN</th>\n",
       "      <th>Tf_HX1_CIN</th>\n",
       "      <th>Q_HX1_CIN</th>\n",
       "      <th>Hz_HX1_CIN</th>\n",
       "      <th>Tc_HX2_CIN</th>\n",
       "      <th>Tf_HX2_CIN</th>\n",
       "      <th>Q_HX2_CIN</th>\n",
       "      <th>Hz_HX2_CIN</th>\n",
       "    </tr>\n",
       "    <tr>\n",
       "      <th>timestamp</th>\n",
       "      <th></th>\n",
       "      <th></th>\n",
       "      <th></th>\n",
       "      <th></th>\n",
       "      <th></th>\n",
       "      <th></th>\n",
       "      <th></th>\n",
       "      <th></th>\n",
       "      <th></th>\n",
       "      <th></th>\n",
       "      <th></th>\n",
       "      <th></th>\n",
       "      <th></th>\n",
       "      <th></th>\n",
       "      <th></th>\n",
       "    </tr>\n",
       "  </thead>\n",
       "  <tbody>\n",
       "    <tr>\n",
       "      <th>2025-02-12 11:12:08</th>\n",
       "      <td>70</td>\n",
       "      <td>58</td>\n",
       "      <td>50</td>\n",
       "      <td>50</td>\n",
       "      <td>0</td>\n",
       "      <td>69</td>\n",
       "      <td>71</td>\n",
       "      <td>72</td>\n",
       "      <td>62</td>\n",
       "      <td>30</td>\n",
       "      <td>51</td>\n",
       "      <td>73</td>\n",
       "      <td>62</td>\n",
       "      <td>30</td>\n",
       "      <td>51</td>\n",
       "    </tr>\n",
       "    <tr>\n",
       "      <th>2025-02-12 11:15:00</th>\n",
       "      <td>70</td>\n",
       "      <td>58</td>\n",
       "      <td>50</td>\n",
       "      <td>50</td>\n",
       "      <td>0</td>\n",
       "      <td>68</td>\n",
       "      <td>71</td>\n",
       "      <td>71</td>\n",
       "      <td>63</td>\n",
       "      <td>30</td>\n",
       "      <td>51</td>\n",
       "      <td>74</td>\n",
       "      <td>62</td>\n",
       "      <td>31</td>\n",
       "      <td>51</td>\n",
       "    </tr>\n",
       "    <tr>\n",
       "      <th>2025-02-12 11:30:00</th>\n",
       "      <td>69</td>\n",
       "      <td>58</td>\n",
       "      <td>50</td>\n",
       "      <td>49</td>\n",
       "      <td>0</td>\n",
       "      <td>68</td>\n",
       "      <td>71</td>\n",
       "      <td>71</td>\n",
       "      <td>63</td>\n",
       "      <td>30</td>\n",
       "      <td>51</td>\n",
       "      <td>73</td>\n",
       "      <td>62</td>\n",
       "      <td>30</td>\n",
       "      <td>51</td>\n",
       "    </tr>\n",
       "    <tr>\n",
       "      <th>2025-02-12 11:45:00</th>\n",
       "      <td>70</td>\n",
       "      <td>58</td>\n",
       "      <td>50</td>\n",
       "      <td>50</td>\n",
       "      <td>0</td>\n",
       "      <td>69</td>\n",
       "      <td>71</td>\n",
       "      <td>71</td>\n",
       "      <td>63</td>\n",
       "      <td>30</td>\n",
       "      <td>51</td>\n",
       "      <td>72</td>\n",
       "      <td>62</td>\n",
       "      <td>31</td>\n",
       "      <td>51</td>\n",
       "    </tr>\n",
       "    <tr>\n",
       "      <th>2025-02-12 12:00:00</th>\n",
       "      <td>70</td>\n",
       "      <td>58</td>\n",
       "      <td>50</td>\n",
       "      <td>50</td>\n",
       "      <td>0</td>\n",
       "      <td>68</td>\n",
       "      <td>71</td>\n",
       "      <td>72</td>\n",
       "      <td>63</td>\n",
       "      <td>30</td>\n",
       "      <td>51</td>\n",
       "      <td>73</td>\n",
       "      <td>62</td>\n",
       "      <td>30</td>\n",
       "      <td>51</td>\n",
       "    </tr>\n",
       "  </tbody>\n",
       "</table>\n",
       "</div>"
      ],
      "text/plain": [
       "                     Tc_RU  Tf_RU  Hz1_RU  Hz2_RU  DP_RU  Tc_HX1_RU  \\\n",
       "timestamp                                                             \n",
       "2025-02-12 11:12:08     70     58      50      50      0         69   \n",
       "2025-02-12 11:15:00     70     58      50      50      0         68   \n",
       "2025-02-12 11:30:00     69     58      50      49      0         68   \n",
       "2025-02-12 11:45:00     70     58      50      50      0         69   \n",
       "2025-02-12 12:00:00     70     58      50      50      0         68   \n",
       "\n",
       "                     Tc_HX2_RU  Tc_HX1_CIN  Tf_HX1_CIN  Q_HX1_CIN  Hz_HX1_CIN  \\\n",
       "timestamp                                                                       \n",
       "2025-02-12 11:12:08         71          72          62         30          51   \n",
       "2025-02-12 11:15:00         71          71          63         30          51   \n",
       "2025-02-12 11:30:00         71          71          63         30          51   \n",
       "2025-02-12 11:45:00         71          71          63         30          51   \n",
       "2025-02-12 12:00:00         71          72          63         30          51   \n",
       "\n",
       "                     Tc_HX2_CIN  Tf_HX2_CIN  Q_HX2_CIN  Hz_HX2_CIN  \n",
       "timestamp                                                           \n",
       "2025-02-12 11:12:08          73          62         30          51  \n",
       "2025-02-12 11:15:00          74          62         31          51  \n",
       "2025-02-12 11:30:00          73          62         30          51  \n",
       "2025-02-12 11:45:00          72          62         31          51  \n",
       "2025-02-12 12:00:00          73          62         30          51  "
      ]
     },
     "metadata": {},
     "output_type": "display_data"
    },
    {
     "data": {
      "application/vnd.plotly.v1+json": {
       "config": {
        "plotlyServerURL": "https://plot.ly"
       },
       "data": [
        {
         "hovertemplate": "variable=Tc_RU<br>timestamp=%{x}<br>value=%{y}<extra></extra>",
         "legendgroup": "Tc_RU",
         "line": {
          "color": "orange",
          "dash": "solid",
          "shape": "spline"
         },
         "marker": {
          "symbol": "circle"
         },
         "mode": "lines",
         "name": "Tc_RU",
         "orientation": "v",
         "showlegend": true,
         "type": "scatter",
         "x": [
          "2025-02-12T11:12:08",
          "2025-02-12T11:15:00",
          "2025-02-12T11:30:00",
          "2025-02-12T11:45:00",
          "2025-02-12T12:00:00",
          "2025-02-12T12:15:00",
          "2025-02-12T12:30:00",
          "2025-02-12T12:45:00",
          "2025-02-12T13:00:00",
          "2025-02-12T13:15:00",
          "2025-02-12T13:30:00",
          "2025-02-12T13:45:00",
          "2025-02-12T14:00:00",
          "2025-02-12T14:15:00",
          "2025-02-12T14:30:00",
          "2025-02-12T14:45:00",
          "2025-02-12T15:00:00",
          "2025-02-12T15:15:00",
          "2025-02-12T15:30:00",
          "2025-02-12T15:45:00",
          "2025-02-12T16:00:00",
          "2025-02-12T16:15:00",
          "2025-02-12T16:30:00",
          "2025-02-12T16:45:00",
          "2025-02-12T17:00:00",
          "2025-02-12T17:15:00",
          "2025-02-12T17:30:00",
          "2025-02-12T17:45:00",
          "2025-02-12T18:00:00",
          "2025-02-12T18:15:00",
          "2025-02-12T18:30:00",
          "2025-02-12T18:45:00",
          "2025-02-12T19:00:00",
          "2025-02-12T19:15:00",
          "2025-02-12T19:30:00",
          "2025-02-12T19:45:00",
          "2025-02-12T20:00:00",
          "2025-02-12T20:15:00",
          "2025-02-12T20:30:00",
          "2025-02-12T20:45:00",
          "2025-02-12T21:00:00",
          "2025-02-12T21:15:00",
          "2025-02-12T21:30:00",
          "2025-02-12T21:45:00",
          "2025-02-12T22:00:00",
          "2025-02-12T22:15:00",
          "2025-02-12T22:30:00",
          "2025-02-12T22:45:00",
          "2025-02-12T23:00:00",
          "2025-02-12T23:15:00",
          "2025-02-12T23:30:00",
          "2025-02-12T23:45:00",
          "2025-02-13T00:00:00",
          "2025-02-13T00:15:00",
          "2025-02-13T00:30:00",
          "2025-02-13T00:45:00",
          "2025-02-13T01:00:00",
          "2025-02-13T01:15:00",
          "2025-02-13T01:30:00",
          "2025-02-13T01:45:00",
          "2025-02-13T02:00:00",
          "2025-02-13T02:15:00",
          "2025-02-13T02:30:00",
          "2025-02-13T02:45:00",
          "2025-02-13T03:00:00",
          "2025-02-13T03:15:00",
          "2025-02-13T03:30:00",
          "2025-02-13T03:45:00",
          "2025-02-13T04:00:00",
          "2025-02-13T04:15:00",
          "2025-02-13T04:30:00",
          "2025-02-13T04:45:00",
          "2025-02-13T05:00:00",
          "2025-02-13T05:15:00",
          "2025-02-13T05:30:00",
          "2025-02-13T05:45:00",
          "2025-02-13T06:00:00",
          "2025-02-13T06:15:00",
          "2025-02-13T06:30:00",
          "2025-02-13T06:45:00",
          "2025-02-13T07:00:00",
          "2025-02-13T07:15:00",
          "2025-02-13T07:30:00",
          "2025-02-13T07:45:00",
          "2025-02-13T08:00:00",
          "2025-02-13T08:15:00",
          "2025-02-13T08:30:00",
          "2025-02-13T08:45:00",
          "2025-02-13T09:00:00",
          "2025-02-13T09:15:00",
          "2025-02-13T09:30:00",
          "2025-02-13T09:45:00",
          "2025-02-13T10:00:00",
          "2025-02-13T10:15:00",
          "2025-02-13T10:30:00",
          "2025-02-13T10:45:00",
          "2025-02-13T11:00:00",
          "2025-02-13T11:15:00",
          "2025-02-13T11:30:00",
          "2025-02-13T11:45:00",
          "2025-02-13T12:00:00",
          "2025-02-13T12:15:00",
          "2025-02-13T12:30:00",
          "2025-02-13T12:45:00",
          "2025-02-13T13:00:00",
          "2025-02-13T13:15:00",
          "2025-02-13T13:30:00",
          "2025-02-13T13:45:00",
          "2025-02-13T14:00:00",
          "2025-02-13T14:15:00",
          "2025-02-13T14:30:00",
          "2025-02-13T14:45:00",
          "2025-02-13T15:00:00",
          "2025-02-13T15:15:00",
          "2025-02-13T15:30:00",
          "2025-02-13T15:45:00",
          "2025-02-13T16:00:00"
         ],
         "xaxis": "x",
         "y": [
          70,
          70,
          69,
          70,
          70,
          67,
          70,
          71,
          72,
          72,
          72,
          72,
          72,
          73,
          73,
          72,
          65,
          73,
          73,
          66,
          66,
          72,
          73,
          72,
          73,
          71,
          64,
          58,
          63,
          73,
          73,
          72,
          72,
          72,
          72,
          73,
          72,
          74,
          73,
          73,
          73,
          74,
          74,
          75,
          75,
          75,
          75,
          75,
          74,
          75,
          75,
          76,
          75,
          76,
          76,
          75,
          75,
          75,
          75,
          75,
          75,
          75,
          76,
          75,
          75,
          75,
          75,
          76,
          75,
          75,
          74,
          74,
          73,
          74,
          73,
          72,
          71,
          72,
          73,
          72,
          72,
          72,
          73,
          73,
          73,
          72,
          72,
          69,
          71,
          70,
          70,
          70,
          69,
          70,
          70,
          70,
          69,
          71,
          69,
          68,
          69,
          69,
          69,
          69,
          69,
          69,
          69,
          70,
          70,
          70,
          70,
          70,
          71,
          71,
          69,
          69,
          69
         ],
         "yaxis": "y"
        },
        {
         "hovertemplate": "variable=Tf_RU<br>timestamp=%{x}<br>value=%{y}<extra></extra>",
         "legendgroup": "Tf_RU",
         "line": {
          "color": "blue",
          "dash": "solid",
          "shape": "spline"
         },
         "marker": {
          "symbol": "circle"
         },
         "mode": "lines",
         "name": "Tf_RU",
         "orientation": "v",
         "showlegend": true,
         "type": "scatter",
         "x": [
          "2025-02-12T11:12:08",
          "2025-02-12T11:15:00",
          "2025-02-12T11:30:00",
          "2025-02-12T11:45:00",
          "2025-02-12T12:00:00",
          "2025-02-12T12:15:00",
          "2025-02-12T12:30:00",
          "2025-02-12T12:45:00",
          "2025-02-12T13:00:00",
          "2025-02-12T13:15:00",
          "2025-02-12T13:30:00",
          "2025-02-12T13:45:00",
          "2025-02-12T14:00:00",
          "2025-02-12T14:15:00",
          "2025-02-12T14:30:00",
          "2025-02-12T14:45:00",
          "2025-02-12T15:00:00",
          "2025-02-12T15:15:00",
          "2025-02-12T15:30:00",
          "2025-02-12T15:45:00",
          "2025-02-12T16:00:00",
          "2025-02-12T16:15:00",
          "2025-02-12T16:30:00",
          "2025-02-12T16:45:00",
          "2025-02-12T17:00:00",
          "2025-02-12T17:15:00",
          "2025-02-12T17:30:00",
          "2025-02-12T17:45:00",
          "2025-02-12T18:00:00",
          "2025-02-12T18:15:00",
          "2025-02-12T18:30:00",
          "2025-02-12T18:45:00",
          "2025-02-12T19:00:00",
          "2025-02-12T19:15:00",
          "2025-02-12T19:30:00",
          "2025-02-12T19:45:00",
          "2025-02-12T20:00:00",
          "2025-02-12T20:15:00",
          "2025-02-12T20:30:00",
          "2025-02-12T20:45:00",
          "2025-02-12T21:00:00",
          "2025-02-12T21:15:00",
          "2025-02-12T21:30:00",
          "2025-02-12T21:45:00",
          "2025-02-12T22:00:00",
          "2025-02-12T22:15:00",
          "2025-02-12T22:30:00",
          "2025-02-12T22:45:00",
          "2025-02-12T23:00:00",
          "2025-02-12T23:15:00",
          "2025-02-12T23:30:00",
          "2025-02-12T23:45:00",
          "2025-02-13T00:00:00",
          "2025-02-13T00:15:00",
          "2025-02-13T00:30:00",
          "2025-02-13T00:45:00",
          "2025-02-13T01:00:00",
          "2025-02-13T01:15:00",
          "2025-02-13T01:30:00",
          "2025-02-13T01:45:00",
          "2025-02-13T02:00:00",
          "2025-02-13T02:15:00",
          "2025-02-13T02:30:00",
          "2025-02-13T02:45:00",
          "2025-02-13T03:00:00",
          "2025-02-13T03:15:00",
          "2025-02-13T03:30:00",
          "2025-02-13T03:45:00",
          "2025-02-13T04:00:00",
          "2025-02-13T04:15:00",
          "2025-02-13T04:30:00",
          "2025-02-13T04:45:00",
          "2025-02-13T05:00:00",
          "2025-02-13T05:15:00",
          "2025-02-13T05:30:00",
          "2025-02-13T05:45:00",
          "2025-02-13T06:00:00",
          "2025-02-13T06:15:00",
          "2025-02-13T06:30:00",
          "2025-02-13T06:45:00",
          "2025-02-13T07:00:00",
          "2025-02-13T07:15:00",
          "2025-02-13T07:30:00",
          "2025-02-13T07:45:00",
          "2025-02-13T08:00:00",
          "2025-02-13T08:15:00",
          "2025-02-13T08:30:00",
          "2025-02-13T08:45:00",
          "2025-02-13T09:00:00",
          "2025-02-13T09:15:00",
          "2025-02-13T09:30:00",
          "2025-02-13T09:45:00",
          "2025-02-13T10:00:00",
          "2025-02-13T10:15:00",
          "2025-02-13T10:30:00",
          "2025-02-13T10:45:00",
          "2025-02-13T11:00:00",
          "2025-02-13T11:15:00",
          "2025-02-13T11:30:00",
          "2025-02-13T11:45:00",
          "2025-02-13T12:00:00",
          "2025-02-13T12:15:00",
          "2025-02-13T12:30:00",
          "2025-02-13T12:45:00",
          "2025-02-13T13:00:00",
          "2025-02-13T13:15:00",
          "2025-02-13T13:30:00",
          "2025-02-13T13:45:00",
          "2025-02-13T14:00:00",
          "2025-02-13T14:15:00",
          "2025-02-13T14:30:00",
          "2025-02-13T14:45:00",
          "2025-02-13T15:00:00",
          "2025-02-13T15:15:00",
          "2025-02-13T15:30:00",
          "2025-02-13T15:45:00",
          "2025-02-13T16:00:00"
         ],
         "xaxis": "x",
         "y": [
          58,
          58,
          58,
          58,
          58,
          57,
          58,
          58,
          58,
          58,
          58,
          58,
          58,
          58,
          58,
          58,
          59,
          59,
          59,
          60,
          58,
          60,
          60,
          59,
          59,
          58,
          58,
          56,
          57,
          59,
          60,
          59,
          58,
          58,
          57,
          57,
          57,
          60,
          59,
          59,
          60,
          60,
          60,
          61,
          61,
          61,
          61,
          60,
          62,
          62,
          62,
          62,
          61,
          61,
          62,
          60,
          60,
          60,
          61,
          61,
          62,
          61,
          62,
          61,
          61,
          61,
          62,
          60,
          60,
          61,
          60,
          61,
          60,
          60,
          60,
          59,
          59,
          59,
          60,
          61,
          60,
          59,
          59,
          59,
          59,
          59,
          59,
          58,
          59,
          58,
          59,
          59,
          58,
          58,
          58,
          58,
          57,
          57,
          57,
          57,
          57,
          57,
          57,
          57,
          57,
          57,
          57,
          57,
          57,
          57,
          57,
          57,
          57,
          57,
          57,
          57,
          57
         ],
         "yaxis": "y"
        },
        {
         "line": {
          "color": "red",
          "shape": "spline"
         },
         "mode": "markers",
         "name": "Tc_ru > 74°C",
         "showlegend": false,
         "type": "scatter",
         "x": [
          "2025-02-12T21:45:00",
          "2025-02-12T22:00:00",
          "2025-02-12T22:15:00",
          "2025-02-12T22:30:00",
          "2025-02-12T22:45:00",
          "2025-02-12T23:15:00",
          "2025-02-12T23:30:00",
          "2025-02-12T23:45:00",
          "2025-02-13T00:00:00",
          "2025-02-13T00:15:00",
          "2025-02-13T00:30:00",
          "2025-02-13T00:45:00",
          "2025-02-13T01:00:00",
          "2025-02-13T01:15:00",
          "2025-02-13T01:30:00",
          "2025-02-13T01:45:00",
          "2025-02-13T02:00:00",
          "2025-02-13T02:15:00",
          "2025-02-13T02:30:00",
          "2025-02-13T02:45:00",
          "2025-02-13T03:00:00",
          "2025-02-13T03:15:00",
          "2025-02-13T03:30:00",
          "2025-02-13T03:45:00",
          "2025-02-13T04:00:00",
          "2025-02-13T04:15:00"
         ],
         "y": [
          75,
          75,
          75,
          75,
          75,
          75,
          75,
          76,
          75,
          76,
          76,
          75,
          75,
          75,
          75,
          75,
          75,
          75,
          76,
          75,
          75,
          75,
          75,
          76,
          75,
          75
         ]
        }
       ],
       "layout": {
        "height": 600,
        "legend": {
         "title": {
          "text": "variable"
         },
         "tracegroupgap": 0
        },
        "margin": {
         "t": 60
        },
        "template": {
         "data": {
          "bar": [
           {
            "error_x": {
             "color": "rgb(36,36,36)"
            },
            "error_y": {
             "color": "rgb(36,36,36)"
            },
            "marker": {
             "line": {
              "color": "white",
              "width": 0.5
             },
             "pattern": {
              "fillmode": "overlay",
              "size": 10,
              "solidity": 0.2
             }
            },
            "type": "bar"
           }
          ],
          "barpolar": [
           {
            "marker": {
             "line": {
              "color": "white",
              "width": 0.5
             },
             "pattern": {
              "fillmode": "overlay",
              "size": 10,
              "solidity": 0.2
             }
            },
            "type": "barpolar"
           }
          ],
          "carpet": [
           {
            "aaxis": {
             "endlinecolor": "rgb(36,36,36)",
             "gridcolor": "white",
             "linecolor": "white",
             "minorgridcolor": "white",
             "startlinecolor": "rgb(36,36,36)"
            },
            "baxis": {
             "endlinecolor": "rgb(36,36,36)",
             "gridcolor": "white",
             "linecolor": "white",
             "minorgridcolor": "white",
             "startlinecolor": "rgb(36,36,36)"
            },
            "type": "carpet"
           }
          ],
          "choropleth": [
           {
            "colorbar": {
             "outlinewidth": 1,
             "tickcolor": "rgb(36,36,36)",
             "ticks": "outside"
            },
            "type": "choropleth"
           }
          ],
          "contour": [
           {
            "colorbar": {
             "outlinewidth": 1,
             "tickcolor": "rgb(36,36,36)",
             "ticks": "outside"
            },
            "colorscale": [
             [
              0,
              "#440154"
             ],
             [
              0.1111111111111111,
              "#482878"
             ],
             [
              0.2222222222222222,
              "#3e4989"
             ],
             [
              0.3333333333333333,
              "#31688e"
             ],
             [
              0.4444444444444444,
              "#26828e"
             ],
             [
              0.5555555555555556,
              "#1f9e89"
             ],
             [
              0.6666666666666666,
              "#35b779"
             ],
             [
              0.7777777777777778,
              "#6ece58"
             ],
             [
              0.8888888888888888,
              "#b5de2b"
             ],
             [
              1,
              "#fde725"
             ]
            ],
            "type": "contour"
           }
          ],
          "contourcarpet": [
           {
            "colorbar": {
             "outlinewidth": 1,
             "tickcolor": "rgb(36,36,36)",
             "ticks": "outside"
            },
            "type": "contourcarpet"
           }
          ],
          "heatmap": [
           {
            "colorbar": {
             "outlinewidth": 1,
             "tickcolor": "rgb(36,36,36)",
             "ticks": "outside"
            },
            "colorscale": [
             [
              0,
              "#440154"
             ],
             [
              0.1111111111111111,
              "#482878"
             ],
             [
              0.2222222222222222,
              "#3e4989"
             ],
             [
              0.3333333333333333,
              "#31688e"
             ],
             [
              0.4444444444444444,
              "#26828e"
             ],
             [
              0.5555555555555556,
              "#1f9e89"
             ],
             [
              0.6666666666666666,
              "#35b779"
             ],
             [
              0.7777777777777778,
              "#6ece58"
             ],
             [
              0.8888888888888888,
              "#b5de2b"
             ],
             [
              1,
              "#fde725"
             ]
            ],
            "type": "heatmap"
           }
          ],
          "heatmapgl": [
           {
            "colorbar": {
             "outlinewidth": 1,
             "tickcolor": "rgb(36,36,36)",
             "ticks": "outside"
            },
            "colorscale": [
             [
              0,
              "#440154"
             ],
             [
              0.1111111111111111,
              "#482878"
             ],
             [
              0.2222222222222222,
              "#3e4989"
             ],
             [
              0.3333333333333333,
              "#31688e"
             ],
             [
              0.4444444444444444,
              "#26828e"
             ],
             [
              0.5555555555555556,
              "#1f9e89"
             ],
             [
              0.6666666666666666,
              "#35b779"
             ],
             [
              0.7777777777777778,
              "#6ece58"
             ],
             [
              0.8888888888888888,
              "#b5de2b"
             ],
             [
              1,
              "#fde725"
             ]
            ],
            "type": "heatmapgl"
           }
          ],
          "histogram": [
           {
            "marker": {
             "line": {
              "color": "white",
              "width": 0.6
             }
            },
            "type": "histogram"
           }
          ],
          "histogram2d": [
           {
            "colorbar": {
             "outlinewidth": 1,
             "tickcolor": "rgb(36,36,36)",
             "ticks": "outside"
            },
            "colorscale": [
             [
              0,
              "#440154"
             ],
             [
              0.1111111111111111,
              "#482878"
             ],
             [
              0.2222222222222222,
              "#3e4989"
             ],
             [
              0.3333333333333333,
              "#31688e"
             ],
             [
              0.4444444444444444,
              "#26828e"
             ],
             [
              0.5555555555555556,
              "#1f9e89"
             ],
             [
              0.6666666666666666,
              "#35b779"
             ],
             [
              0.7777777777777778,
              "#6ece58"
             ],
             [
              0.8888888888888888,
              "#b5de2b"
             ],
             [
              1,
              "#fde725"
             ]
            ],
            "type": "histogram2d"
           }
          ],
          "histogram2dcontour": [
           {
            "colorbar": {
             "outlinewidth": 1,
             "tickcolor": "rgb(36,36,36)",
             "ticks": "outside"
            },
            "colorscale": [
             [
              0,
              "#440154"
             ],
             [
              0.1111111111111111,
              "#482878"
             ],
             [
              0.2222222222222222,
              "#3e4989"
             ],
             [
              0.3333333333333333,
              "#31688e"
             ],
             [
              0.4444444444444444,
              "#26828e"
             ],
             [
              0.5555555555555556,
              "#1f9e89"
             ],
             [
              0.6666666666666666,
              "#35b779"
             ],
             [
              0.7777777777777778,
              "#6ece58"
             ],
             [
              0.8888888888888888,
              "#b5de2b"
             ],
             [
              1,
              "#fde725"
             ]
            ],
            "type": "histogram2dcontour"
           }
          ],
          "mesh3d": [
           {
            "colorbar": {
             "outlinewidth": 1,
             "tickcolor": "rgb(36,36,36)",
             "ticks": "outside"
            },
            "type": "mesh3d"
           }
          ],
          "parcoords": [
           {
            "line": {
             "colorbar": {
              "outlinewidth": 1,
              "tickcolor": "rgb(36,36,36)",
              "ticks": "outside"
             }
            },
            "type": "parcoords"
           }
          ],
          "pie": [
           {
            "automargin": true,
            "type": "pie"
           }
          ],
          "scatter": [
           {
            "fillpattern": {
             "fillmode": "overlay",
             "size": 10,
             "solidity": 0.2
            },
            "type": "scatter"
           }
          ],
          "scatter3d": [
           {
            "line": {
             "colorbar": {
              "outlinewidth": 1,
              "tickcolor": "rgb(36,36,36)",
              "ticks": "outside"
             }
            },
            "marker": {
             "colorbar": {
              "outlinewidth": 1,
              "tickcolor": "rgb(36,36,36)",
              "ticks": "outside"
             }
            },
            "type": "scatter3d"
           }
          ],
          "scattercarpet": [
           {
            "marker": {
             "colorbar": {
              "outlinewidth": 1,
              "tickcolor": "rgb(36,36,36)",
              "ticks": "outside"
             }
            },
            "type": "scattercarpet"
           }
          ],
          "scattergeo": [
           {
            "marker": {
             "colorbar": {
              "outlinewidth": 1,
              "tickcolor": "rgb(36,36,36)",
              "ticks": "outside"
             }
            },
            "type": "scattergeo"
           }
          ],
          "scattergl": [
           {
            "marker": {
             "colorbar": {
              "outlinewidth": 1,
              "tickcolor": "rgb(36,36,36)",
              "ticks": "outside"
             }
            },
            "type": "scattergl"
           }
          ],
          "scattermapbox": [
           {
            "marker": {
             "colorbar": {
              "outlinewidth": 1,
              "tickcolor": "rgb(36,36,36)",
              "ticks": "outside"
             }
            },
            "type": "scattermapbox"
           }
          ],
          "scatterpolar": [
           {
            "marker": {
             "colorbar": {
              "outlinewidth": 1,
              "tickcolor": "rgb(36,36,36)",
              "ticks": "outside"
             }
            },
            "type": "scatterpolar"
           }
          ],
          "scatterpolargl": [
           {
            "marker": {
             "colorbar": {
              "outlinewidth": 1,
              "tickcolor": "rgb(36,36,36)",
              "ticks": "outside"
             }
            },
            "type": "scatterpolargl"
           }
          ],
          "scatterternary": [
           {
            "marker": {
             "colorbar": {
              "outlinewidth": 1,
              "tickcolor": "rgb(36,36,36)",
              "ticks": "outside"
             }
            },
            "type": "scatterternary"
           }
          ],
          "surface": [
           {
            "colorbar": {
             "outlinewidth": 1,
             "tickcolor": "rgb(36,36,36)",
             "ticks": "outside"
            },
            "colorscale": [
             [
              0,
              "#440154"
             ],
             [
              0.1111111111111111,
              "#482878"
             ],
             [
              0.2222222222222222,
              "#3e4989"
             ],
             [
              0.3333333333333333,
              "#31688e"
             ],
             [
              0.4444444444444444,
              "#26828e"
             ],
             [
              0.5555555555555556,
              "#1f9e89"
             ],
             [
              0.6666666666666666,
              "#35b779"
             ],
             [
              0.7777777777777778,
              "#6ece58"
             ],
             [
              0.8888888888888888,
              "#b5de2b"
             ],
             [
              1,
              "#fde725"
             ]
            ],
            "type": "surface"
           }
          ],
          "table": [
           {
            "cells": {
             "fill": {
              "color": "rgb(237,237,237)"
             },
             "line": {
              "color": "white"
             }
            },
            "header": {
             "fill": {
              "color": "rgb(217,217,217)"
             },
             "line": {
              "color": "white"
             }
            },
            "type": "table"
           }
          ]
         },
         "layout": {
          "annotationdefaults": {
           "arrowhead": 0,
           "arrowwidth": 1
          },
          "autotypenumbers": "strict",
          "coloraxis": {
           "colorbar": {
            "outlinewidth": 1,
            "tickcolor": "rgb(36,36,36)",
            "ticks": "outside"
           }
          },
          "colorscale": {
           "diverging": [
            [
             0,
             "rgb(103,0,31)"
            ],
            [
             0.1,
             "rgb(178,24,43)"
            ],
            [
             0.2,
             "rgb(214,96,77)"
            ],
            [
             0.3,
             "rgb(244,165,130)"
            ],
            [
             0.4,
             "rgb(253,219,199)"
            ],
            [
             0.5,
             "rgb(247,247,247)"
            ],
            [
             0.6,
             "rgb(209,229,240)"
            ],
            [
             0.7,
             "rgb(146,197,222)"
            ],
            [
             0.8,
             "rgb(67,147,195)"
            ],
            [
             0.9,
             "rgb(33,102,172)"
            ],
            [
             1,
             "rgb(5,48,97)"
            ]
           ],
           "sequential": [
            [
             0,
             "#440154"
            ],
            [
             0.1111111111111111,
             "#482878"
            ],
            [
             0.2222222222222222,
             "#3e4989"
            ],
            [
             0.3333333333333333,
             "#31688e"
            ],
            [
             0.4444444444444444,
             "#26828e"
            ],
            [
             0.5555555555555556,
             "#1f9e89"
            ],
            [
             0.6666666666666666,
             "#35b779"
            ],
            [
             0.7777777777777778,
             "#6ece58"
            ],
            [
             0.8888888888888888,
             "#b5de2b"
            ],
            [
             1,
             "#fde725"
            ]
           ],
           "sequentialminus": [
            [
             0,
             "#440154"
            ],
            [
             0.1111111111111111,
             "#482878"
            ],
            [
             0.2222222222222222,
             "#3e4989"
            ],
            [
             0.3333333333333333,
             "#31688e"
            ],
            [
             0.4444444444444444,
             "#26828e"
            ],
            [
             0.5555555555555556,
             "#1f9e89"
            ],
            [
             0.6666666666666666,
             "#35b779"
            ],
            [
             0.7777777777777778,
             "#6ece58"
            ],
            [
             0.8888888888888888,
             "#b5de2b"
            ],
            [
             1,
             "#fde725"
            ]
           ]
          },
          "colorway": [
           "#1F77B4",
           "#FF7F0E",
           "#2CA02C",
           "#D62728",
           "#9467BD",
           "#8C564B",
           "#E377C2",
           "#7F7F7F",
           "#BCBD22",
           "#17BECF"
          ],
          "font": {
           "color": "rgb(36,36,36)"
          },
          "geo": {
           "bgcolor": "white",
           "lakecolor": "white",
           "landcolor": "white",
           "showlakes": true,
           "showland": true,
           "subunitcolor": "white"
          },
          "hoverlabel": {
           "align": "left"
          },
          "hovermode": "closest",
          "mapbox": {
           "style": "light"
          },
          "paper_bgcolor": "white",
          "plot_bgcolor": "white",
          "polar": {
           "angularaxis": {
            "gridcolor": "rgb(232,232,232)",
            "linecolor": "rgb(36,36,36)",
            "showgrid": false,
            "showline": true,
            "ticks": "outside"
           },
           "bgcolor": "white",
           "radialaxis": {
            "gridcolor": "rgb(232,232,232)",
            "linecolor": "rgb(36,36,36)",
            "showgrid": false,
            "showline": true,
            "ticks": "outside"
           }
          },
          "scene": {
           "xaxis": {
            "backgroundcolor": "white",
            "gridcolor": "rgb(232,232,232)",
            "gridwidth": 2,
            "linecolor": "rgb(36,36,36)",
            "showbackground": true,
            "showgrid": false,
            "showline": true,
            "ticks": "outside",
            "zeroline": false,
            "zerolinecolor": "rgb(36,36,36)"
           },
           "yaxis": {
            "backgroundcolor": "white",
            "gridcolor": "rgb(232,232,232)",
            "gridwidth": 2,
            "linecolor": "rgb(36,36,36)",
            "showbackground": true,
            "showgrid": false,
            "showline": true,
            "ticks": "outside",
            "zeroline": false,
            "zerolinecolor": "rgb(36,36,36)"
           },
           "zaxis": {
            "backgroundcolor": "white",
            "gridcolor": "rgb(232,232,232)",
            "gridwidth": 2,
            "linecolor": "rgb(36,36,36)",
            "showbackground": true,
            "showgrid": false,
            "showline": true,
            "ticks": "outside",
            "zeroline": false,
            "zerolinecolor": "rgb(36,36,36)"
           }
          },
          "shapedefaults": {
           "fillcolor": "black",
           "line": {
            "width": 0
           },
           "opacity": 0.3
          },
          "ternary": {
           "aaxis": {
            "gridcolor": "rgb(232,232,232)",
            "linecolor": "rgb(36,36,36)",
            "showgrid": false,
            "showline": true,
            "ticks": "outside"
           },
           "baxis": {
            "gridcolor": "rgb(232,232,232)",
            "linecolor": "rgb(36,36,36)",
            "showgrid": false,
            "showline": true,
            "ticks": "outside"
           },
           "bgcolor": "white",
           "caxis": {
            "gridcolor": "rgb(232,232,232)",
            "linecolor": "rgb(36,36,36)",
            "showgrid": false,
            "showline": true,
            "ticks": "outside"
           }
          },
          "title": {
           "x": 0.05
          },
          "xaxis": {
           "automargin": true,
           "gridcolor": "rgb(232,232,232)",
           "linecolor": "rgb(36,36,36)",
           "showgrid": false,
           "showline": true,
           "ticks": "outside",
           "title": {
            "standoff": 15
           },
           "zeroline": false,
           "zerolinecolor": "rgb(36,36,36)"
          },
          "yaxis": {
           "automargin": true,
           "gridcolor": "rgb(232,232,232)",
           "linecolor": "rgb(36,36,36)",
           "showgrid": false,
           "showline": true,
           "ticks": "outside",
           "title": {
            "standoff": 15
           },
           "zeroline": false,
           "zerolinecolor": "rgb(36,36,36)"
          }
         }
        },
        "title": {
         "text": "Temperature Réseau Urbain"
        },
        "xaxis": {
         "anchor": "y",
         "domain": [
          0,
          1
         ],
         "title": {
          "text": "Date"
         }
        },
        "yaxis": {
         "anchor": "x",
         "domain": [
          0,
          1
         ],
         "title": {
          "text": "Temperature (°C)"
         }
        }
       }
      }
     },
     "metadata": {},
     "output_type": "display_data"
    },
    {
     "data": {
      "application/vnd.plotly.v1+json": {
       "config": {
        "plotlyServerURL": "https://plot.ly"
       },
       "data": [
        {
         "hovertemplate": "variable=dT_RU<br>timestamp=%{x}<br>value=%{y}<extra></extra>",
         "legendgroup": "dT_RU",
         "line": {
          "color": "#636efa",
          "dash": "solid",
          "shape": "spline"
         },
         "marker": {
          "symbol": "circle"
         },
         "mode": "lines",
         "name": "dT_RU",
         "orientation": "v",
         "showlegend": true,
         "type": "scatter",
         "x": [
          "2025-02-12T11:12:08",
          "2025-02-12T11:15:00",
          "2025-02-12T11:30:00",
          "2025-02-12T11:45:00",
          "2025-02-12T12:00:00",
          "2025-02-12T12:15:00",
          "2025-02-12T12:30:00",
          "2025-02-12T12:45:00",
          "2025-02-12T13:00:00",
          "2025-02-12T13:15:00",
          "2025-02-12T13:30:00",
          "2025-02-12T13:45:00",
          "2025-02-12T14:00:00",
          "2025-02-12T14:15:00",
          "2025-02-12T14:30:00",
          "2025-02-12T14:45:00",
          "2025-02-12T15:00:00",
          "2025-02-12T15:15:00",
          "2025-02-12T15:30:00",
          "2025-02-12T15:45:00",
          "2025-02-12T16:00:00",
          "2025-02-12T16:15:00",
          "2025-02-12T16:30:00",
          "2025-02-12T16:45:00",
          "2025-02-12T17:00:00",
          "2025-02-12T17:15:00",
          "2025-02-12T17:30:00",
          "2025-02-12T17:45:00",
          "2025-02-12T18:00:00",
          "2025-02-12T18:15:00",
          "2025-02-12T18:30:00",
          "2025-02-12T18:45:00",
          "2025-02-12T19:00:00",
          "2025-02-12T19:15:00",
          "2025-02-12T19:30:00",
          "2025-02-12T19:45:00",
          "2025-02-12T20:00:00",
          "2025-02-12T20:15:00",
          "2025-02-12T20:30:00",
          "2025-02-12T20:45:00",
          "2025-02-12T21:00:00",
          "2025-02-12T21:15:00",
          "2025-02-12T21:30:00",
          "2025-02-12T21:45:00",
          "2025-02-12T22:00:00",
          "2025-02-12T22:15:00",
          "2025-02-12T22:30:00",
          "2025-02-12T22:45:00",
          "2025-02-12T23:00:00",
          "2025-02-12T23:15:00",
          "2025-02-12T23:30:00",
          "2025-02-12T23:45:00",
          "2025-02-13T00:00:00",
          "2025-02-13T00:15:00",
          "2025-02-13T00:30:00",
          "2025-02-13T00:45:00",
          "2025-02-13T01:00:00",
          "2025-02-13T01:15:00",
          "2025-02-13T01:30:00",
          "2025-02-13T01:45:00",
          "2025-02-13T02:00:00",
          "2025-02-13T02:15:00",
          "2025-02-13T02:30:00",
          "2025-02-13T02:45:00",
          "2025-02-13T03:00:00",
          "2025-02-13T03:15:00",
          "2025-02-13T03:30:00",
          "2025-02-13T03:45:00",
          "2025-02-13T04:00:00",
          "2025-02-13T04:15:00",
          "2025-02-13T04:30:00",
          "2025-02-13T04:45:00",
          "2025-02-13T05:00:00",
          "2025-02-13T05:15:00",
          "2025-02-13T05:30:00",
          "2025-02-13T05:45:00",
          "2025-02-13T06:00:00",
          "2025-02-13T06:15:00",
          "2025-02-13T06:30:00",
          "2025-02-13T06:45:00",
          "2025-02-13T07:00:00",
          "2025-02-13T07:15:00",
          "2025-02-13T07:30:00",
          "2025-02-13T07:45:00",
          "2025-02-13T08:00:00",
          "2025-02-13T08:15:00",
          "2025-02-13T08:30:00",
          "2025-02-13T08:45:00",
          "2025-02-13T09:00:00",
          "2025-02-13T09:15:00",
          "2025-02-13T09:30:00",
          "2025-02-13T09:45:00",
          "2025-02-13T10:00:00",
          "2025-02-13T10:15:00",
          "2025-02-13T10:30:00",
          "2025-02-13T10:45:00",
          "2025-02-13T11:00:00",
          "2025-02-13T11:15:00",
          "2025-02-13T11:30:00",
          "2025-02-13T11:45:00",
          "2025-02-13T12:00:00",
          "2025-02-13T12:15:00",
          "2025-02-13T12:30:00",
          "2025-02-13T12:45:00",
          "2025-02-13T13:00:00",
          "2025-02-13T13:15:00",
          "2025-02-13T13:30:00",
          "2025-02-13T13:45:00",
          "2025-02-13T14:00:00",
          "2025-02-13T14:15:00",
          "2025-02-13T14:30:00",
          "2025-02-13T14:45:00",
          "2025-02-13T15:00:00",
          "2025-02-13T15:15:00",
          "2025-02-13T15:30:00",
          "2025-02-13T15:45:00",
          "2025-02-13T16:00:00"
         ],
         "xaxis": "x",
         "y": [
          12,
          12,
          11,
          12,
          12,
          10,
          12,
          13,
          14,
          14,
          14,
          14,
          14,
          15,
          15,
          14,
          6,
          14,
          14,
          6,
          8,
          12,
          13,
          13,
          14,
          13,
          6,
          2,
          6,
          14,
          13,
          13,
          14,
          14,
          15,
          16,
          15,
          14,
          14,
          14,
          13,
          14,
          14,
          14,
          14,
          14,
          14,
          15,
          12,
          13,
          13,
          14,
          14,
          15,
          14,
          15,
          15,
          15,
          14,
          14,
          13,
          14,
          14,
          14,
          14,
          14,
          13,
          16,
          15,
          14,
          14,
          13,
          13,
          14,
          13,
          13,
          12,
          13,
          13,
          11,
          12,
          13,
          14,
          14,
          14,
          13,
          13,
          11,
          12,
          12,
          11,
          11,
          11,
          12,
          12,
          12,
          12,
          14,
          12,
          11,
          12,
          12,
          12,
          12,
          12,
          12,
          12,
          13,
          13,
          13,
          13,
          13,
          14,
          14,
          12,
          12,
          12
         ],
         "yaxis": "y"
        }
       ],
       "layout": {
        "legend": {
         "title": {
          "text": "variable"
         },
         "tracegroupgap": 0
        },
        "margin": {
         "t": 60
        },
        "template": {
         "data": {
          "bar": [
           {
            "error_x": {
             "color": "#2a3f5f"
            },
            "error_y": {
             "color": "#2a3f5f"
            },
            "marker": {
             "line": {
              "color": "#E5ECF6",
              "width": 0.5
             },
             "pattern": {
              "fillmode": "overlay",
              "size": 10,
              "solidity": 0.2
             }
            },
            "type": "bar"
           }
          ],
          "barpolar": [
           {
            "marker": {
             "line": {
              "color": "#E5ECF6",
              "width": 0.5
             },
             "pattern": {
              "fillmode": "overlay",
              "size": 10,
              "solidity": 0.2
             }
            },
            "type": "barpolar"
           }
          ],
          "carpet": [
           {
            "aaxis": {
             "endlinecolor": "#2a3f5f",
             "gridcolor": "white",
             "linecolor": "white",
             "minorgridcolor": "white",
             "startlinecolor": "#2a3f5f"
            },
            "baxis": {
             "endlinecolor": "#2a3f5f",
             "gridcolor": "white",
             "linecolor": "white",
             "minorgridcolor": "white",
             "startlinecolor": "#2a3f5f"
            },
            "type": "carpet"
           }
          ],
          "choropleth": [
           {
            "colorbar": {
             "outlinewidth": 0,
             "ticks": ""
            },
            "type": "choropleth"
           }
          ],
          "contour": [
           {
            "colorbar": {
             "outlinewidth": 0,
             "ticks": ""
            },
            "colorscale": [
             [
              0,
              "#0d0887"
             ],
             [
              0.1111111111111111,
              "#46039f"
             ],
             [
              0.2222222222222222,
              "#7201a8"
             ],
             [
              0.3333333333333333,
              "#9c179e"
             ],
             [
              0.4444444444444444,
              "#bd3786"
             ],
             [
              0.5555555555555556,
              "#d8576b"
             ],
             [
              0.6666666666666666,
              "#ed7953"
             ],
             [
              0.7777777777777778,
              "#fb9f3a"
             ],
             [
              0.8888888888888888,
              "#fdca26"
             ],
             [
              1,
              "#f0f921"
             ]
            ],
            "type": "contour"
           }
          ],
          "contourcarpet": [
           {
            "colorbar": {
             "outlinewidth": 0,
             "ticks": ""
            },
            "type": "contourcarpet"
           }
          ],
          "heatmap": [
           {
            "colorbar": {
             "outlinewidth": 0,
             "ticks": ""
            },
            "colorscale": [
             [
              0,
              "#0d0887"
             ],
             [
              0.1111111111111111,
              "#46039f"
             ],
             [
              0.2222222222222222,
              "#7201a8"
             ],
             [
              0.3333333333333333,
              "#9c179e"
             ],
             [
              0.4444444444444444,
              "#bd3786"
             ],
             [
              0.5555555555555556,
              "#d8576b"
             ],
             [
              0.6666666666666666,
              "#ed7953"
             ],
             [
              0.7777777777777778,
              "#fb9f3a"
             ],
             [
              0.8888888888888888,
              "#fdca26"
             ],
             [
              1,
              "#f0f921"
             ]
            ],
            "type": "heatmap"
           }
          ],
          "heatmapgl": [
           {
            "colorbar": {
             "outlinewidth": 0,
             "ticks": ""
            },
            "colorscale": [
             [
              0,
              "#0d0887"
             ],
             [
              0.1111111111111111,
              "#46039f"
             ],
             [
              0.2222222222222222,
              "#7201a8"
             ],
             [
              0.3333333333333333,
              "#9c179e"
             ],
             [
              0.4444444444444444,
              "#bd3786"
             ],
             [
              0.5555555555555556,
              "#d8576b"
             ],
             [
              0.6666666666666666,
              "#ed7953"
             ],
             [
              0.7777777777777778,
              "#fb9f3a"
             ],
             [
              0.8888888888888888,
              "#fdca26"
             ],
             [
              1,
              "#f0f921"
             ]
            ],
            "type": "heatmapgl"
           }
          ],
          "histogram": [
           {
            "marker": {
             "pattern": {
              "fillmode": "overlay",
              "size": 10,
              "solidity": 0.2
             }
            },
            "type": "histogram"
           }
          ],
          "histogram2d": [
           {
            "colorbar": {
             "outlinewidth": 0,
             "ticks": ""
            },
            "colorscale": [
             [
              0,
              "#0d0887"
             ],
             [
              0.1111111111111111,
              "#46039f"
             ],
             [
              0.2222222222222222,
              "#7201a8"
             ],
             [
              0.3333333333333333,
              "#9c179e"
             ],
             [
              0.4444444444444444,
              "#bd3786"
             ],
             [
              0.5555555555555556,
              "#d8576b"
             ],
             [
              0.6666666666666666,
              "#ed7953"
             ],
             [
              0.7777777777777778,
              "#fb9f3a"
             ],
             [
              0.8888888888888888,
              "#fdca26"
             ],
             [
              1,
              "#f0f921"
             ]
            ],
            "type": "histogram2d"
           }
          ],
          "histogram2dcontour": [
           {
            "colorbar": {
             "outlinewidth": 0,
             "ticks": ""
            },
            "colorscale": [
             [
              0,
              "#0d0887"
             ],
             [
              0.1111111111111111,
              "#46039f"
             ],
             [
              0.2222222222222222,
              "#7201a8"
             ],
             [
              0.3333333333333333,
              "#9c179e"
             ],
             [
              0.4444444444444444,
              "#bd3786"
             ],
             [
              0.5555555555555556,
              "#d8576b"
             ],
             [
              0.6666666666666666,
              "#ed7953"
             ],
             [
              0.7777777777777778,
              "#fb9f3a"
             ],
             [
              0.8888888888888888,
              "#fdca26"
             ],
             [
              1,
              "#f0f921"
             ]
            ],
            "type": "histogram2dcontour"
           }
          ],
          "mesh3d": [
           {
            "colorbar": {
             "outlinewidth": 0,
             "ticks": ""
            },
            "type": "mesh3d"
           }
          ],
          "parcoords": [
           {
            "line": {
             "colorbar": {
              "outlinewidth": 0,
              "ticks": ""
             }
            },
            "type": "parcoords"
           }
          ],
          "pie": [
           {
            "automargin": true,
            "type": "pie"
           }
          ],
          "scatter": [
           {
            "fillpattern": {
             "fillmode": "overlay",
             "size": 10,
             "solidity": 0.2
            },
            "type": "scatter"
           }
          ],
          "scatter3d": [
           {
            "line": {
             "colorbar": {
              "outlinewidth": 0,
              "ticks": ""
             }
            },
            "marker": {
             "colorbar": {
              "outlinewidth": 0,
              "ticks": ""
             }
            },
            "type": "scatter3d"
           }
          ],
          "scattercarpet": [
           {
            "marker": {
             "colorbar": {
              "outlinewidth": 0,
              "ticks": ""
             }
            },
            "type": "scattercarpet"
           }
          ],
          "scattergeo": [
           {
            "marker": {
             "colorbar": {
              "outlinewidth": 0,
              "ticks": ""
             }
            },
            "type": "scattergeo"
           }
          ],
          "scattergl": [
           {
            "marker": {
             "colorbar": {
              "outlinewidth": 0,
              "ticks": ""
             }
            },
            "type": "scattergl"
           }
          ],
          "scattermapbox": [
           {
            "marker": {
             "colorbar": {
              "outlinewidth": 0,
              "ticks": ""
             }
            },
            "type": "scattermapbox"
           }
          ],
          "scatterpolar": [
           {
            "marker": {
             "colorbar": {
              "outlinewidth": 0,
              "ticks": ""
             }
            },
            "type": "scatterpolar"
           }
          ],
          "scatterpolargl": [
           {
            "marker": {
             "colorbar": {
              "outlinewidth": 0,
              "ticks": ""
             }
            },
            "type": "scatterpolargl"
           }
          ],
          "scatterternary": [
           {
            "marker": {
             "colorbar": {
              "outlinewidth": 0,
              "ticks": ""
             }
            },
            "type": "scatterternary"
           }
          ],
          "surface": [
           {
            "colorbar": {
             "outlinewidth": 0,
             "ticks": ""
            },
            "colorscale": [
             [
              0,
              "#0d0887"
             ],
             [
              0.1111111111111111,
              "#46039f"
             ],
             [
              0.2222222222222222,
              "#7201a8"
             ],
             [
              0.3333333333333333,
              "#9c179e"
             ],
             [
              0.4444444444444444,
              "#bd3786"
             ],
             [
              0.5555555555555556,
              "#d8576b"
             ],
             [
              0.6666666666666666,
              "#ed7953"
             ],
             [
              0.7777777777777778,
              "#fb9f3a"
             ],
             [
              0.8888888888888888,
              "#fdca26"
             ],
             [
              1,
              "#f0f921"
             ]
            ],
            "type": "surface"
           }
          ],
          "table": [
           {
            "cells": {
             "fill": {
              "color": "#EBF0F8"
             },
             "line": {
              "color": "white"
             }
            },
            "header": {
             "fill": {
              "color": "#C8D4E3"
             },
             "line": {
              "color": "white"
             }
            },
            "type": "table"
           }
          ]
         },
         "layout": {
          "annotationdefaults": {
           "arrowcolor": "#2a3f5f",
           "arrowhead": 0,
           "arrowwidth": 1
          },
          "autotypenumbers": "strict",
          "coloraxis": {
           "colorbar": {
            "outlinewidth": 0,
            "ticks": ""
           }
          },
          "colorscale": {
           "diverging": [
            [
             0,
             "#8e0152"
            ],
            [
             0.1,
             "#c51b7d"
            ],
            [
             0.2,
             "#de77ae"
            ],
            [
             0.3,
             "#f1b6da"
            ],
            [
             0.4,
             "#fde0ef"
            ],
            [
             0.5,
             "#f7f7f7"
            ],
            [
             0.6,
             "#e6f5d0"
            ],
            [
             0.7,
             "#b8e186"
            ],
            [
             0.8,
             "#7fbc41"
            ],
            [
             0.9,
             "#4d9221"
            ],
            [
             1,
             "#276419"
            ]
           ],
           "sequential": [
            [
             0,
             "#0d0887"
            ],
            [
             0.1111111111111111,
             "#46039f"
            ],
            [
             0.2222222222222222,
             "#7201a8"
            ],
            [
             0.3333333333333333,
             "#9c179e"
            ],
            [
             0.4444444444444444,
             "#bd3786"
            ],
            [
             0.5555555555555556,
             "#d8576b"
            ],
            [
             0.6666666666666666,
             "#ed7953"
            ],
            [
             0.7777777777777778,
             "#fb9f3a"
            ],
            [
             0.8888888888888888,
             "#fdca26"
            ],
            [
             1,
             "#f0f921"
            ]
           ],
           "sequentialminus": [
            [
             0,
             "#0d0887"
            ],
            [
             0.1111111111111111,
             "#46039f"
            ],
            [
             0.2222222222222222,
             "#7201a8"
            ],
            [
             0.3333333333333333,
             "#9c179e"
            ],
            [
             0.4444444444444444,
             "#bd3786"
            ],
            [
             0.5555555555555556,
             "#d8576b"
            ],
            [
             0.6666666666666666,
             "#ed7953"
            ],
            [
             0.7777777777777778,
             "#fb9f3a"
            ],
            [
             0.8888888888888888,
             "#fdca26"
            ],
            [
             1,
             "#f0f921"
            ]
           ]
          },
          "colorway": [
           "#636efa",
           "#EF553B",
           "#00cc96",
           "#ab63fa",
           "#FFA15A",
           "#19d3f3",
           "#FF6692",
           "#B6E880",
           "#FF97FF",
           "#FECB52"
          ],
          "font": {
           "color": "#2a3f5f"
          },
          "geo": {
           "bgcolor": "white",
           "lakecolor": "white",
           "landcolor": "#E5ECF6",
           "showlakes": true,
           "showland": true,
           "subunitcolor": "white"
          },
          "hoverlabel": {
           "align": "left"
          },
          "hovermode": "closest",
          "mapbox": {
           "style": "light"
          },
          "paper_bgcolor": "white",
          "plot_bgcolor": "#E5ECF6",
          "polar": {
           "angularaxis": {
            "gridcolor": "white",
            "linecolor": "white",
            "ticks": ""
           },
           "bgcolor": "#E5ECF6",
           "radialaxis": {
            "gridcolor": "white",
            "linecolor": "white",
            "ticks": ""
           }
          },
          "scene": {
           "xaxis": {
            "backgroundcolor": "#E5ECF6",
            "gridcolor": "white",
            "gridwidth": 2,
            "linecolor": "white",
            "showbackground": true,
            "ticks": "",
            "zerolinecolor": "white"
           },
           "yaxis": {
            "backgroundcolor": "#E5ECF6",
            "gridcolor": "white",
            "gridwidth": 2,
            "linecolor": "white",
            "showbackground": true,
            "ticks": "",
            "zerolinecolor": "white"
           },
           "zaxis": {
            "backgroundcolor": "#E5ECF6",
            "gridcolor": "white",
            "gridwidth": 2,
            "linecolor": "white",
            "showbackground": true,
            "ticks": "",
            "zerolinecolor": "white"
           }
          },
          "shapedefaults": {
           "line": {
            "color": "#2a3f5f"
           }
          },
          "ternary": {
           "aaxis": {
            "gridcolor": "white",
            "linecolor": "white",
            "ticks": ""
           },
           "baxis": {
            "gridcolor": "white",
            "linecolor": "white",
            "ticks": ""
           },
           "bgcolor": "#E5ECF6",
           "caxis": {
            "gridcolor": "white",
            "linecolor": "white",
            "ticks": ""
           }
          },
          "title": {
           "x": 0.05
          },
          "xaxis": {
           "automargin": true,
           "gridcolor": "white",
           "linecolor": "white",
           "ticks": "",
           "title": {
            "standoff": 15
           },
           "zerolinecolor": "white",
           "zerolinewidth": 2
          },
          "yaxis": {
           "automargin": true,
           "gridcolor": "white",
           "linecolor": "white",
           "ticks": "",
           "title": {
            "standoff": 15
           },
           "zerolinecolor": "white",
           "zerolinewidth": 2
          }
         }
        },
        "xaxis": {
         "anchor": "y",
         "domain": [
          0,
          1
         ],
         "title": {
          "text": "timestamp"
         }
        },
        "yaxis": {
         "anchor": "x",
         "domain": [
          0,
          1
         ],
         "title": {
          "text": "value"
         }
        }
       }
      }
     },
     "metadata": {},
     "output_type": "display_data"
    },
    {
     "data": {
      "application/vnd.plotly.v1+json": {
       "config": {
        "plotlyServerURL": "https://plot.ly"
       },
       "data": [
        {
         "hovertemplate": "variable=LIEB_Tc<br>timestamp=%{x}<br>value=%{y}<extra></extra>",
         "legendgroup": "LIEB_Tc",
         "line": {
          "color": "#636efa",
          "dash": "solid"
         },
         "marker": {
          "symbol": "circle"
         },
         "mode": "lines",
         "name": "LIEB_Tc",
         "showlegend": true,
         "type": "scattergl",
         "x": [
          "2025-02-12T11:11:57",
          "2025-02-12T11:15:00",
          "2025-02-12T11:30:00",
          "2025-02-12T11:45:00",
          "2025-02-12T12:00:00",
          "2025-02-12T12:15:00",
          "2025-02-12T12:30:00",
          "2025-02-12T12:45:00",
          "2025-02-12T13:00:00",
          "2025-02-12T13:15:00",
          "2025-02-12T13:30:00",
          "2025-02-12T13:45:00",
          "2025-02-12T14:00:00",
          "2025-02-12T14:15:00",
          "2025-02-12T14:30:00",
          "2025-02-12T14:45:00",
          "2025-02-12T15:00:00",
          "2025-02-12T15:15:00",
          "2025-02-12T15:30:00",
          "2025-02-12T15:45:00",
          "2025-02-12T16:00:00",
          "2025-02-12T16:15:00",
          "2025-02-12T16:30:00",
          "2025-02-12T16:45:00",
          "2025-02-12T17:00:00",
          "2025-02-12T17:15:00",
          "2025-02-12T17:30:00",
          "2025-02-12T17:45:00",
          "2025-02-12T18:00:00",
          "2025-02-12T18:15:00",
          "2025-02-12T18:30:00",
          "2025-02-12T18:45:00",
          "2025-02-12T19:00:00",
          "2025-02-12T19:15:00",
          "2025-02-12T19:30:00",
          "2025-02-12T19:45:00",
          "2025-02-12T20:00:00",
          "2025-02-12T20:15:00",
          "2025-02-12T20:30:00",
          "2025-02-12T20:45:00",
          "2025-02-12T21:00:00",
          "2025-02-12T21:15:00",
          "2025-02-12T21:30:00",
          "2025-02-12T21:45:00",
          "2025-02-12T22:00:00",
          "2025-02-12T22:15:00",
          "2025-02-12T22:30:00",
          "2025-02-12T22:45:00",
          "2025-02-12T23:00:00",
          "2025-02-12T23:15:00",
          "2025-02-12T23:30:00",
          "2025-02-12T23:45:00",
          "2025-02-13T00:00:00",
          "2025-02-13T00:15:00",
          "2025-02-13T00:30:00",
          "2025-02-13T00:45:00",
          "2025-02-13T01:00:00",
          "2025-02-13T01:15:00",
          "2025-02-13T01:30:00",
          "2025-02-13T01:45:00",
          "2025-02-13T02:00:00",
          "2025-02-13T02:15:00",
          "2025-02-13T02:30:00",
          "2025-02-13T02:45:00",
          "2025-02-13T03:00:00",
          "2025-02-13T03:15:00",
          "2025-02-13T03:30:00",
          "2025-02-13T03:45:00",
          "2025-02-13T04:00:00",
          "2025-02-13T04:15:00",
          "2025-02-13T04:30:00",
          "2025-02-13T04:45:00",
          "2025-02-13T05:00:00",
          "2025-02-13T05:15:00",
          "2025-02-13T05:30:00",
          "2025-02-13T05:45:00",
          "2025-02-13T06:00:00",
          "2025-02-13T06:15:00",
          "2025-02-13T06:30:00",
          "2025-02-13T06:45:00",
          "2025-02-13T07:00:00",
          "2025-02-13T07:15:00",
          "2025-02-13T07:30:00",
          "2025-02-13T07:45:00",
          "2025-02-13T08:00:00",
          "2025-02-13T08:15:00",
          "2025-02-13T08:30:00",
          "2025-02-13T08:45:00",
          "2025-02-13T09:00:00",
          "2025-02-13T09:15:00",
          "2025-02-13T09:30:00",
          "2025-02-13T09:45:00",
          "2025-02-13T10:00:00",
          "2025-02-13T10:15:00",
          "2025-02-13T10:30:00",
          "2025-02-13T10:45:00",
          "2025-02-13T11:00:00",
          "2025-02-13T11:15:00",
          "2025-02-13T11:30:00",
          "2025-02-13T11:45:00",
          "2025-02-13T12:00:00",
          "2025-02-13T12:15:00",
          "2025-02-13T12:30:00",
          "2025-02-13T12:45:00",
          "2025-02-13T13:00:00",
          "2025-02-13T13:15:00",
          "2025-02-13T13:30:00",
          "2025-02-13T13:45:00",
          "2025-02-13T14:00:00",
          "2025-02-13T14:15:00",
          "2025-02-13T14:30:00",
          "2025-02-13T14:45:00",
          "2025-02-13T15:00:00",
          "2025-02-13T15:15:00",
          "2025-02-13T15:30:00",
          "2025-02-13T15:45:00",
          "2025-02-13T16:00:00"
         ],
         "xaxis": "x",
         "y": [
          59,
          59,
          59,
          59,
          59,
          59,
          78,
          79,
          79,
          79,
          79,
          79,
          79,
          79,
          79,
          79,
          80,
          78,
          79,
          80,
          73,
          80,
          80,
          80,
          79,
          79,
          63,
          55,
          55,
          79,
          80,
          80,
          80,
          80,
          80,
          79,
          79,
          79,
          79,
          79,
          79,
          80,
          80,
          80,
          81,
          80,
          80,
          79,
          79,
          80,
          79,
          80,
          80,
          80,
          80,
          80,
          80,
          80,
          80,
          80,
          80,
          80,
          80,
          81,
          81,
          81,
          81,
          81,
          81,
          81,
          81,
          81,
          80,
          80,
          81,
          80,
          80,
          82,
          82,
          81,
          81,
          81,
          82,
          82,
          82,
          82,
          82,
          60,
          60,
          60,
          60,
          60,
          60,
          60,
          59,
          59,
          59,
          59,
          59,
          59,
          59,
          58,
          58,
          58,
          58,
          58,
          58,
          58,
          58,
          59,
          58,
          59,
          58,
          59,
          58,
          59,
          58
         ],
         "yaxis": "y"
        },
        {
         "hovertemplate": "variable=LIEB_Tf<br>timestamp=%{x}<br>value=%{y}<extra></extra>",
         "legendgroup": "LIEB_Tf",
         "line": {
          "color": "#EF553B",
          "dash": "solid"
         },
         "marker": {
          "symbol": "circle"
         },
         "mode": "lines",
         "name": "LIEB_Tf",
         "showlegend": true,
         "type": "scattergl",
         "x": [
          "2025-02-12T11:11:57",
          "2025-02-12T11:15:00",
          "2025-02-12T11:30:00",
          "2025-02-12T11:45:00",
          "2025-02-12T12:00:00",
          "2025-02-12T12:15:00",
          "2025-02-12T12:30:00",
          "2025-02-12T12:45:00",
          "2025-02-12T13:00:00",
          "2025-02-12T13:15:00",
          "2025-02-12T13:30:00",
          "2025-02-12T13:45:00",
          "2025-02-12T14:00:00",
          "2025-02-12T14:15:00",
          "2025-02-12T14:30:00",
          "2025-02-12T14:45:00",
          "2025-02-12T15:00:00",
          "2025-02-12T15:15:00",
          "2025-02-12T15:30:00",
          "2025-02-12T15:45:00",
          "2025-02-12T16:00:00",
          "2025-02-12T16:15:00",
          "2025-02-12T16:30:00",
          "2025-02-12T16:45:00",
          "2025-02-12T17:00:00",
          "2025-02-12T17:15:00",
          "2025-02-12T17:30:00",
          "2025-02-12T17:45:00",
          "2025-02-12T18:00:00",
          "2025-02-12T18:15:00",
          "2025-02-12T18:30:00",
          "2025-02-12T18:45:00",
          "2025-02-12T19:00:00",
          "2025-02-12T19:15:00",
          "2025-02-12T19:30:00",
          "2025-02-12T19:45:00",
          "2025-02-12T20:00:00",
          "2025-02-12T20:15:00",
          "2025-02-12T20:30:00",
          "2025-02-12T20:45:00",
          "2025-02-12T21:00:00",
          "2025-02-12T21:15:00",
          "2025-02-12T21:30:00",
          "2025-02-12T21:45:00",
          "2025-02-12T22:00:00",
          "2025-02-12T22:15:00",
          "2025-02-12T22:30:00",
          "2025-02-12T22:45:00",
          "2025-02-12T23:00:00",
          "2025-02-12T23:15:00",
          "2025-02-12T23:30:00",
          "2025-02-12T23:45:00",
          "2025-02-13T00:00:00",
          "2025-02-13T00:15:00",
          "2025-02-13T00:30:00",
          "2025-02-13T00:45:00",
          "2025-02-13T01:00:00",
          "2025-02-13T01:15:00",
          "2025-02-13T01:30:00",
          "2025-02-13T01:45:00",
          "2025-02-13T02:00:00",
          "2025-02-13T02:15:00",
          "2025-02-13T02:30:00",
          "2025-02-13T02:45:00",
          "2025-02-13T03:00:00",
          "2025-02-13T03:15:00",
          "2025-02-13T03:30:00",
          "2025-02-13T03:45:00",
          "2025-02-13T04:00:00",
          "2025-02-13T04:15:00",
          "2025-02-13T04:30:00",
          "2025-02-13T04:45:00",
          "2025-02-13T05:00:00",
          "2025-02-13T05:15:00",
          "2025-02-13T05:30:00",
          "2025-02-13T05:45:00",
          "2025-02-13T06:00:00",
          "2025-02-13T06:15:00",
          "2025-02-13T06:30:00",
          "2025-02-13T06:45:00",
          "2025-02-13T07:00:00",
          "2025-02-13T07:15:00",
          "2025-02-13T07:30:00",
          "2025-02-13T07:45:00",
          "2025-02-13T08:00:00",
          "2025-02-13T08:15:00",
          "2025-02-13T08:30:00",
          "2025-02-13T08:45:00",
          "2025-02-13T09:00:00",
          "2025-02-13T09:15:00",
          "2025-02-13T09:30:00",
          "2025-02-13T09:45:00",
          "2025-02-13T10:00:00",
          "2025-02-13T10:15:00",
          "2025-02-13T10:30:00",
          "2025-02-13T10:45:00",
          "2025-02-13T11:00:00",
          "2025-02-13T11:15:00",
          "2025-02-13T11:30:00",
          "2025-02-13T11:45:00",
          "2025-02-13T12:00:00",
          "2025-02-13T12:15:00",
          "2025-02-13T12:30:00",
          "2025-02-13T12:45:00",
          "2025-02-13T13:00:00",
          "2025-02-13T13:15:00",
          "2025-02-13T13:30:00",
          "2025-02-13T13:45:00",
          "2025-02-13T14:00:00",
          "2025-02-13T14:15:00",
          "2025-02-13T14:30:00",
          "2025-02-13T14:45:00",
          "2025-02-13T15:00:00",
          "2025-02-13T15:15:00",
          "2025-02-13T15:30:00",
          "2025-02-13T15:45:00",
          "2025-02-13T16:00:00"
         ],
         "xaxis": "x",
         "y": [
          62,
          62,
          62,
          62,
          62,
          61,
          62,
          62,
          63,
          63,
          63,
          63,
          63,
          63,
          63,
          63,
          61,
          64,
          64,
          62,
          60,
          64,
          65,
          64,
          64,
          63,
          61,
          56,
          57,
          64,
          64,
          63,
          63,
          63,
          63,
          63,
          62,
          64,
          64,
          63,
          64,
          65,
          65,
          65,
          65,
          65,
          65,
          65,
          65,
          66,
          66,
          66,
          66,
          66,
          66,
          66,
          65,
          65,
          65,
          65,
          66,
          66,
          65,
          65,
          65,
          65,
          65,
          65,
          65,
          65,
          65,
          65,
          64,
          64,
          64,
          63,
          63,
          63,
          64,
          64,
          64,
          63,
          63,
          63,
          63,
          63,
          63,
          62,
          62,
          62,
          62,
          62,
          62,
          62,
          62,
          62,
          61,
          62,
          61,
          61,
          61,
          61,
          61,
          61,
          61,
          61,
          61,
          61,
          61,
          61,
          61,
          61,
          61,
          62,
          61,
          61,
          61
         ],
         "yaxis": "y"
        },
        {
         "hovertemplate": "variable=LIEB_Q<br>timestamp=%{x}<br>value=%{y}<extra></extra>",
         "legendgroup": "LIEB_Q",
         "line": {
          "color": "#00cc96",
          "dash": "solid"
         },
         "marker": {
          "symbol": "circle"
         },
         "mode": "lines",
         "name": "LIEB_Q",
         "showlegend": true,
         "type": "scattergl",
         "x": [
          "2025-02-12T11:11:57",
          "2025-02-12T11:15:00",
          "2025-02-12T11:30:00",
          "2025-02-12T11:45:00",
          "2025-02-12T12:00:00",
          "2025-02-12T12:15:00",
          "2025-02-12T12:30:00",
          "2025-02-12T12:45:00",
          "2025-02-12T13:00:00",
          "2025-02-12T13:15:00",
          "2025-02-12T13:30:00",
          "2025-02-12T13:45:00",
          "2025-02-12T14:00:00",
          "2025-02-12T14:15:00",
          "2025-02-12T14:30:00",
          "2025-02-12T14:45:00",
          "2025-02-12T15:00:00",
          "2025-02-12T15:15:00",
          "2025-02-12T15:30:00",
          "2025-02-12T15:45:00",
          "2025-02-12T16:00:00",
          "2025-02-12T16:15:00",
          "2025-02-12T16:30:00",
          "2025-02-12T16:45:00",
          "2025-02-12T17:00:00",
          "2025-02-12T17:15:00",
          "2025-02-12T17:30:00",
          "2025-02-12T17:45:00",
          "2025-02-12T18:00:00",
          "2025-02-12T18:15:00",
          "2025-02-12T18:30:00",
          "2025-02-12T18:45:00",
          "2025-02-12T19:00:00",
          "2025-02-12T19:15:00",
          "2025-02-12T19:30:00",
          "2025-02-12T19:45:00",
          "2025-02-12T20:00:00",
          "2025-02-12T20:15:00",
          "2025-02-12T20:30:00",
          "2025-02-12T20:45:00",
          "2025-02-12T21:00:00",
          "2025-02-12T21:15:00",
          "2025-02-12T21:30:00",
          "2025-02-12T21:45:00",
          "2025-02-12T22:00:00",
          "2025-02-12T22:15:00",
          "2025-02-12T22:30:00",
          "2025-02-12T22:45:00",
          "2025-02-12T23:00:00",
          "2025-02-12T23:15:00",
          "2025-02-12T23:30:00",
          "2025-02-12T23:45:00",
          "2025-02-13T00:00:00",
          "2025-02-13T00:15:00",
          "2025-02-13T00:30:00",
          "2025-02-13T00:45:00",
          "2025-02-13T01:00:00",
          "2025-02-13T01:15:00",
          "2025-02-13T01:30:00",
          "2025-02-13T01:45:00",
          "2025-02-13T02:00:00",
          "2025-02-13T02:15:00",
          "2025-02-13T02:30:00",
          "2025-02-13T02:45:00",
          "2025-02-13T03:00:00",
          "2025-02-13T03:15:00",
          "2025-02-13T03:30:00",
          "2025-02-13T03:45:00",
          "2025-02-13T04:00:00",
          "2025-02-13T04:15:00",
          "2025-02-13T04:30:00",
          "2025-02-13T04:45:00",
          "2025-02-13T05:00:00",
          "2025-02-13T05:15:00",
          "2025-02-13T05:30:00",
          "2025-02-13T05:45:00",
          "2025-02-13T06:00:00",
          "2025-02-13T06:15:00",
          "2025-02-13T06:30:00",
          "2025-02-13T06:45:00",
          "2025-02-13T07:00:00",
          "2025-02-13T07:15:00",
          "2025-02-13T07:30:00",
          "2025-02-13T07:45:00",
          "2025-02-13T08:00:00",
          "2025-02-13T08:15:00",
          "2025-02-13T08:30:00",
          "2025-02-13T08:45:00",
          "2025-02-13T09:00:00",
          "2025-02-13T09:15:00",
          "2025-02-13T09:30:00",
          "2025-02-13T09:45:00",
          "2025-02-13T10:00:00",
          "2025-02-13T10:15:00",
          "2025-02-13T10:30:00",
          "2025-02-13T10:45:00",
          "2025-02-13T11:00:00",
          "2025-02-13T11:15:00",
          "2025-02-13T11:30:00",
          "2025-02-13T11:45:00",
          "2025-02-13T12:00:00",
          "2025-02-13T12:15:00",
          "2025-02-13T12:30:00",
          "2025-02-13T12:45:00",
          "2025-02-13T13:00:00",
          "2025-02-13T13:15:00",
          "2025-02-13T13:30:00",
          "2025-02-13T13:45:00",
          "2025-02-13T14:00:00",
          "2025-02-13T14:15:00",
          "2025-02-13T14:30:00",
          "2025-02-13T14:45:00",
          "2025-02-13T15:00:00",
          "2025-02-13T15:15:00",
          "2025-02-13T15:30:00",
          "2025-02-13T15:45:00",
          "2025-02-13T16:00:00"
         ],
         "xaxis": "x",
         "y": [
          9,
          9,
          9,
          9,
          9,
          9,
          9,
          9,
          9,
          9,
          9,
          9,
          9,
          9,
          9,
          9,
          9,
          9,
          9,
          9,
          9,
          9,
          9,
          9,
          9,
          9,
          9,
          9,
          9,
          9,
          9,
          9,
          9,
          9,
          9,
          9,
          9,
          9,
          9,
          9,
          9,
          9,
          8,
          8,
          8,
          8,
          8,
          8,
          7,
          7,
          7,
          7,
          7,
          7,
          7,
          7,
          8,
          8,
          7,
          7,
          7,
          7,
          7,
          8,
          8,
          7,
          8,
          8,
          8,
          8,
          8,
          8,
          8,
          9,
          9,
          9,
          9,
          9,
          9,
          9,
          9,
          9,
          9,
          9,
          9,
          9,
          9,
          9,
          9,
          9,
          9,
          9,
          9,
          9,
          9,
          9,
          9,
          9,
          9,
          9,
          9,
          8,
          9,
          8,
          8,
          9,
          9,
          9,
          8,
          8,
          9,
          9,
          8,
          9,
          9,
          9,
          9
         ],
         "yaxis": "y"
        },
        {
         "hovertemplate": "variable=LIEB_P<br>timestamp=%{x}<br>value=%{y}<extra></extra>",
         "legendgroup": "LIEB_P",
         "line": {
          "color": "#ab63fa",
          "dash": "solid"
         },
         "marker": {
          "symbol": "circle"
         },
         "mode": "lines",
         "name": "LIEB_P",
         "showlegend": true,
         "type": "scattergl",
         "x": [
          "2025-02-12T11:11:57",
          "2025-02-12T11:15:00",
          "2025-02-12T11:30:00",
          "2025-02-12T11:45:00",
          "2025-02-12T12:00:00",
          "2025-02-12T12:15:00",
          "2025-02-12T12:30:00",
          "2025-02-12T12:45:00",
          "2025-02-12T13:00:00",
          "2025-02-12T13:15:00",
          "2025-02-12T13:30:00",
          "2025-02-12T13:45:00",
          "2025-02-12T14:00:00",
          "2025-02-12T14:15:00",
          "2025-02-12T14:30:00",
          "2025-02-12T14:45:00",
          "2025-02-12T15:00:00",
          "2025-02-12T15:15:00",
          "2025-02-12T15:30:00",
          "2025-02-12T15:45:00",
          "2025-02-12T16:00:00",
          "2025-02-12T16:15:00",
          "2025-02-12T16:30:00",
          "2025-02-12T16:45:00",
          "2025-02-12T17:00:00",
          "2025-02-12T17:15:00",
          "2025-02-12T17:30:00",
          "2025-02-12T17:45:00",
          "2025-02-12T18:00:00",
          "2025-02-12T18:15:00",
          "2025-02-12T18:30:00",
          "2025-02-12T18:45:00",
          "2025-02-12T19:00:00",
          "2025-02-12T19:15:00",
          "2025-02-12T19:30:00",
          "2025-02-12T19:45:00",
          "2025-02-12T20:00:00",
          "2025-02-12T20:15:00",
          "2025-02-12T20:30:00",
          "2025-02-12T20:45:00",
          "2025-02-12T21:00:00",
          "2025-02-12T21:15:00",
          "2025-02-12T21:30:00",
          "2025-02-12T21:45:00",
          "2025-02-12T22:00:00",
          "2025-02-12T22:15:00",
          "2025-02-12T22:30:00",
          "2025-02-12T22:45:00",
          "2025-02-12T23:00:00",
          "2025-02-12T23:15:00",
          "2025-02-12T23:30:00",
          "2025-02-12T23:45:00",
          "2025-02-13T00:00:00",
          "2025-02-13T00:15:00",
          "2025-02-13T00:30:00",
          "2025-02-13T00:45:00",
          "2025-02-13T01:00:00",
          "2025-02-13T01:15:00",
          "2025-02-13T01:30:00",
          "2025-02-13T01:45:00",
          "2025-02-13T02:00:00",
          "2025-02-13T02:15:00",
          "2025-02-13T02:30:00",
          "2025-02-13T02:45:00",
          "2025-02-13T03:00:00",
          "2025-02-13T03:15:00",
          "2025-02-13T03:30:00",
          "2025-02-13T03:45:00",
          "2025-02-13T04:00:00",
          "2025-02-13T04:15:00",
          "2025-02-13T04:30:00",
          "2025-02-13T04:45:00",
          "2025-02-13T05:00:00",
          "2025-02-13T05:15:00",
          "2025-02-13T05:30:00",
          "2025-02-13T05:45:00",
          "2025-02-13T06:00:00",
          "2025-02-13T06:15:00",
          "2025-02-13T06:30:00",
          "2025-02-13T06:45:00",
          "2025-02-13T07:00:00",
          "2025-02-13T07:15:00",
          "2025-02-13T07:30:00",
          "2025-02-13T07:45:00",
          "2025-02-13T08:00:00",
          "2025-02-13T08:15:00",
          "2025-02-13T08:30:00",
          "2025-02-13T08:45:00",
          "2025-02-13T09:00:00",
          "2025-02-13T09:15:00",
          "2025-02-13T09:30:00",
          "2025-02-13T09:45:00",
          "2025-02-13T10:00:00",
          "2025-02-13T10:15:00",
          "2025-02-13T10:30:00",
          "2025-02-13T10:45:00",
          "2025-02-13T11:00:00",
          "2025-02-13T11:15:00",
          "2025-02-13T11:30:00",
          "2025-02-13T11:45:00",
          "2025-02-13T12:00:00",
          "2025-02-13T12:15:00",
          "2025-02-13T12:30:00",
          "2025-02-13T12:45:00",
          "2025-02-13T13:00:00",
          "2025-02-13T13:15:00",
          "2025-02-13T13:30:00",
          "2025-02-13T13:45:00",
          "2025-02-13T14:00:00",
          "2025-02-13T14:15:00",
          "2025-02-13T14:30:00",
          "2025-02-13T14:45:00",
          "2025-02-13T15:00:00",
          "2025-02-13T15:15:00",
          "2025-02-13T15:30:00",
          "2025-02-13T15:45:00",
          "2025-02-13T16:00:00"
         ],
         "xaxis": "x",
         "y": [
          30,
          31,
          32,
          33,
          30,
          26,
          155,
          171,
          164,
          162,
          158,
          163,
          165,
          158,
          159,
          161,
          181,
          149,
          158,
          179,
          134,
          156,
          155,
          162,
          152,
          166,
          21,
          19,
          26,
          156,
          158,
          171,
          168,
          168,
          173,
          159,
          171,
          146,
          145,
          163,
          149,
          150,
          141,
          136,
          144,
          142,
          125,
          124,
          114,
          111,
          114,
          114,
          119,
          114,
          117,
          121,
          132,
          126,
          125,
          113,
          116,
          119,
          116,
          141,
          130,
          128,
          139,
          138,
          149,
          148,
          155,
          152,
          149,
          158,
          167,
          161,
          178,
          197,
          185,
          176,
          179,
          178,
          187,
          197,
          189,
          190,
          192,
          21,
          25,
          24,
          23,
          24,
          25,
          26,
          25,
          26,
          27,
          29,
          28,
          26,
          26,
          24,
          26,
          27,
          26,
          27,
          27,
          27,
          25,
          23,
          29,
          27,
          29,
          31,
          26,
          27,
          28
         ],
         "yaxis": "y"
        },
        {
         "hovertemplate": "variable=JEN1_Tc<br>timestamp=%{x}<br>value=%{y}<extra></extra>",
         "legendgroup": "JEN1_Tc",
         "line": {
          "color": "#FFA15A",
          "dash": "solid"
         },
         "marker": {
          "symbol": "circle"
         },
         "mode": "lines",
         "name": "JEN1_Tc",
         "showlegend": true,
         "type": "scattergl",
         "x": [
          "2025-02-12T11:11:57",
          "2025-02-12T11:15:00",
          "2025-02-12T11:30:00",
          "2025-02-12T11:45:00",
          "2025-02-12T12:00:00",
          "2025-02-12T12:15:00",
          "2025-02-12T12:30:00",
          "2025-02-12T12:45:00",
          "2025-02-12T13:00:00",
          "2025-02-12T13:15:00",
          "2025-02-12T13:30:00",
          "2025-02-12T13:45:00",
          "2025-02-12T14:00:00",
          "2025-02-12T14:15:00",
          "2025-02-12T14:30:00",
          "2025-02-12T14:45:00",
          "2025-02-12T15:00:00",
          "2025-02-12T15:15:00",
          "2025-02-12T15:30:00",
          "2025-02-12T15:45:00",
          "2025-02-12T16:00:00",
          "2025-02-12T16:15:00",
          "2025-02-12T16:30:00",
          "2025-02-12T16:45:00",
          "2025-02-12T17:00:00",
          "2025-02-12T17:15:00",
          "2025-02-12T17:30:00",
          "2025-02-12T17:45:00",
          "2025-02-12T18:00:00",
          "2025-02-12T18:15:00",
          "2025-02-12T18:30:00",
          "2025-02-12T18:45:00",
          "2025-02-12T19:00:00",
          "2025-02-12T19:15:00",
          "2025-02-12T19:30:00",
          "2025-02-12T19:45:00",
          "2025-02-12T20:00:00",
          "2025-02-12T20:15:00",
          "2025-02-12T20:30:00",
          "2025-02-12T20:45:00",
          "2025-02-12T21:00:00",
          "2025-02-12T21:15:00",
          "2025-02-12T21:30:00",
          "2025-02-12T21:45:00",
          "2025-02-12T22:00:00",
          "2025-02-12T22:15:00",
          "2025-02-12T22:30:00",
          "2025-02-12T22:45:00",
          "2025-02-12T23:00:00",
          "2025-02-12T23:15:00",
          "2025-02-12T23:30:00",
          "2025-02-12T23:45:00",
          "2025-02-13T00:00:00",
          "2025-02-13T00:15:00",
          "2025-02-13T00:30:00",
          "2025-02-13T00:45:00",
          "2025-02-13T01:00:00",
          "2025-02-13T01:15:00",
          "2025-02-13T01:30:00",
          "2025-02-13T01:45:00",
          "2025-02-13T02:00:00",
          "2025-02-13T02:15:00",
          "2025-02-13T02:30:00",
          "2025-02-13T02:45:00",
          "2025-02-13T03:00:00",
          "2025-02-13T03:15:00",
          "2025-02-13T03:30:00",
          "2025-02-13T03:45:00",
          "2025-02-13T04:00:00",
          "2025-02-13T04:15:00",
          "2025-02-13T04:30:00",
          "2025-02-13T04:45:00",
          "2025-02-13T05:00:00",
          "2025-02-13T05:15:00",
          "2025-02-13T05:30:00",
          "2025-02-13T05:45:00",
          "2025-02-13T06:00:00",
          "2025-02-13T06:15:00",
          "2025-02-13T06:30:00",
          "2025-02-13T06:45:00",
          "2025-02-13T07:00:00",
          "2025-02-13T07:15:00",
          "2025-02-13T07:30:00",
          "2025-02-13T07:45:00",
          "2025-02-13T08:00:00",
          "2025-02-13T08:15:00",
          "2025-02-13T08:30:00",
          "2025-02-13T08:45:00",
          "2025-02-13T09:00:00",
          "2025-02-13T09:15:00",
          "2025-02-13T09:30:00",
          "2025-02-13T09:45:00",
          "2025-02-13T10:00:00",
          "2025-02-13T10:15:00",
          "2025-02-13T10:30:00",
          "2025-02-13T10:45:00",
          "2025-02-13T11:00:00",
          "2025-02-13T11:15:00",
          "2025-02-13T11:30:00",
          "2025-02-13T11:45:00",
          "2025-02-13T12:00:00",
          "2025-02-13T12:15:00",
          "2025-02-13T12:30:00",
          "2025-02-13T12:45:00",
          "2025-02-13T13:00:00",
          "2025-02-13T13:15:00",
          "2025-02-13T13:30:00",
          "2025-02-13T13:45:00",
          "2025-02-13T14:00:00",
          "2025-02-13T14:15:00",
          "2025-02-13T14:30:00",
          "2025-02-13T14:45:00",
          "2025-02-13T15:00:00",
          "2025-02-13T15:15:00",
          "2025-02-13T15:30:00",
          "2025-02-13T15:45:00",
          "2025-02-13T16:00:00"
         ],
         "xaxis": "x",
         "y": [
          78,
          78,
          77,
          76,
          77,
          72,
          77,
          76,
          78,
          78,
          78,
          78,
          78,
          78,
          77,
          77,
          63,
          77,
          76,
          63,
          73,
          76,
          76,
          75,
          75,
          75,
          62,
          57,
          69,
          77,
          78,
          77,
          75,
          76,
          78,
          77,
          77,
          77,
          77,
          77,
          77,
          79,
          79,
          79,
          79,
          78,
          78,
          78,
          78,
          78,
          78,
          79,
          78,
          79,
          78,
          79,
          79,
          80,
          80,
          79,
          78,
          78,
          80,
          78,
          78,
          80,
          78,
          78,
          78,
          79,
          77,
          78,
          78,
          77,
          77,
          76,
          76,
          78,
          79,
          76,
          76,
          75,
          78,
          77,
          77,
          78,
          76,
          74,
          77,
          78,
          76,
          78,
          76,
          77,
          77,
          76,
          77,
          78,
          77,
          77,
          75,
          76,
          76,
          78,
          77,
          77,
          75,
          77,
          77,
          77,
          76,
          77,
          77,
          78,
          76,
          76,
          77
         ],
         "yaxis": "y"
        },
        {
         "hovertemplate": "variable=JEN1_Tf<br>timestamp=%{x}<br>value=%{y}<extra></extra>",
         "legendgroup": "JEN1_Tf",
         "line": {
          "color": "#19d3f3",
          "dash": "solid"
         },
         "marker": {
          "symbol": "circle"
         },
         "mode": "lines",
         "name": "JEN1_Tf",
         "showlegend": true,
         "type": "scattergl",
         "x": [
          "2025-02-12T11:11:57",
          "2025-02-12T11:15:00",
          "2025-02-12T11:30:00",
          "2025-02-12T11:45:00",
          "2025-02-12T12:00:00",
          "2025-02-12T12:15:00",
          "2025-02-12T12:30:00",
          "2025-02-12T12:45:00",
          "2025-02-12T13:00:00",
          "2025-02-12T13:15:00",
          "2025-02-12T13:30:00",
          "2025-02-12T13:45:00",
          "2025-02-12T14:00:00",
          "2025-02-12T14:15:00",
          "2025-02-12T14:30:00",
          "2025-02-12T14:45:00",
          "2025-02-12T15:00:00",
          "2025-02-12T15:15:00",
          "2025-02-12T15:30:00",
          "2025-02-12T15:45:00",
          "2025-02-12T16:00:00",
          "2025-02-12T16:15:00",
          "2025-02-12T16:30:00",
          "2025-02-12T16:45:00",
          "2025-02-12T17:00:00",
          "2025-02-12T17:15:00",
          "2025-02-12T17:30:00",
          "2025-02-12T17:45:00",
          "2025-02-12T18:00:00",
          "2025-02-12T18:15:00",
          "2025-02-12T18:30:00",
          "2025-02-12T18:45:00",
          "2025-02-12T19:00:00",
          "2025-02-12T19:15:00",
          "2025-02-12T19:30:00",
          "2025-02-12T19:45:00",
          "2025-02-12T20:00:00",
          "2025-02-12T20:15:00",
          "2025-02-12T20:30:00",
          "2025-02-12T20:45:00",
          "2025-02-12T21:00:00",
          "2025-02-12T21:15:00",
          "2025-02-12T21:30:00",
          "2025-02-12T21:45:00",
          "2025-02-12T22:00:00",
          "2025-02-12T22:15:00",
          "2025-02-12T22:30:00",
          "2025-02-12T22:45:00",
          "2025-02-12T23:00:00",
          "2025-02-12T23:15:00",
          "2025-02-12T23:30:00",
          "2025-02-12T23:45:00",
          "2025-02-13T00:00:00",
          "2025-02-13T00:15:00",
          "2025-02-13T00:30:00",
          "2025-02-13T00:45:00",
          "2025-02-13T01:00:00",
          "2025-02-13T01:15:00",
          "2025-02-13T01:30:00",
          "2025-02-13T01:45:00",
          "2025-02-13T02:00:00",
          "2025-02-13T02:15:00",
          "2025-02-13T02:30:00",
          "2025-02-13T02:45:00",
          "2025-02-13T03:00:00",
          "2025-02-13T03:15:00",
          "2025-02-13T03:30:00",
          "2025-02-13T03:45:00",
          "2025-02-13T04:00:00",
          "2025-02-13T04:15:00",
          "2025-02-13T04:30:00",
          "2025-02-13T04:45:00",
          "2025-02-13T05:00:00",
          "2025-02-13T05:15:00",
          "2025-02-13T05:30:00",
          "2025-02-13T05:45:00",
          "2025-02-13T06:00:00",
          "2025-02-13T06:15:00",
          "2025-02-13T06:30:00",
          "2025-02-13T06:45:00",
          "2025-02-13T07:00:00",
          "2025-02-13T07:15:00",
          "2025-02-13T07:30:00",
          "2025-02-13T07:45:00",
          "2025-02-13T08:00:00",
          "2025-02-13T08:15:00",
          "2025-02-13T08:30:00",
          "2025-02-13T08:45:00",
          "2025-02-13T09:00:00",
          "2025-02-13T09:15:00",
          "2025-02-13T09:30:00",
          "2025-02-13T09:45:00",
          "2025-02-13T10:00:00",
          "2025-02-13T10:15:00",
          "2025-02-13T10:30:00",
          "2025-02-13T10:45:00",
          "2025-02-13T11:00:00",
          "2025-02-13T11:15:00",
          "2025-02-13T11:30:00",
          "2025-02-13T11:45:00",
          "2025-02-13T12:00:00",
          "2025-02-13T12:15:00",
          "2025-02-13T12:30:00",
          "2025-02-13T12:45:00",
          "2025-02-13T13:00:00",
          "2025-02-13T13:15:00",
          "2025-02-13T13:30:00",
          "2025-02-13T13:45:00",
          "2025-02-13T14:00:00",
          "2025-02-13T14:15:00",
          "2025-02-13T14:30:00",
          "2025-02-13T14:45:00",
          "2025-02-13T15:00:00",
          "2025-02-13T15:15:00",
          "2025-02-13T15:30:00",
          "2025-02-13T15:45:00",
          "2025-02-13T16:00:00"
         ],
         "xaxis": "x",
         "y": [
          63,
          63,
          63,
          63,
          63,
          62,
          64,
          64,
          64,
          64,
          64,
          64,
          64,
          64,
          64,
          65,
          62,
          65,
          65,
          63,
          62,
          65,
          66,
          65,
          65,
          64,
          62,
          57,
          59,
          65,
          65,
          64,
          64,
          64,
          64,
          64,
          64,
          66,
          65,
          65,
          65,
          66,
          66,
          66,
          67,
          67,
          67,
          67,
          67,
          67,
          67,
          68,
          67,
          68,
          67,
          67,
          67,
          67,
          67,
          67,
          67,
          67,
          67,
          67,
          67,
          67,
          67,
          67,
          66,
          66,
          66,
          66,
          66,
          66,
          65,
          64,
          64,
          64,
          65,
          65,
          65,
          64,
          64,
          65,
          65,
          64,
          65,
          63,
          64,
          63,
          63,
          64,
          63,
          63,
          63,
          63,
          63,
          63,
          63,
          62,
          63,
          62,
          62,
          62,
          62,
          62,
          62,
          62,
          62,
          62,
          63,
          63,
          63,
          63,
          62,
          63,
          63
         ],
         "yaxis": "y"
        },
        {
         "hovertemplate": "variable=JEN1_Q<br>timestamp=%{x}<br>value=%{y}<extra></extra>",
         "legendgroup": "JEN1_Q",
         "line": {
          "color": "#FF6692",
          "dash": "solid"
         },
         "marker": {
          "symbol": "circle"
         },
         "mode": "lines",
         "name": "JEN1_Q",
         "showlegend": true,
         "type": "scattergl",
         "x": [
          "2025-02-12T11:11:57",
          "2025-02-12T11:15:00",
          "2025-02-12T11:30:00",
          "2025-02-12T11:45:00",
          "2025-02-12T12:00:00",
          "2025-02-12T12:15:00",
          "2025-02-12T12:30:00",
          "2025-02-12T12:45:00",
          "2025-02-12T13:00:00",
          "2025-02-12T13:15:00",
          "2025-02-12T13:30:00",
          "2025-02-12T13:45:00",
          "2025-02-12T14:00:00",
          "2025-02-12T14:15:00",
          "2025-02-12T14:30:00",
          "2025-02-12T14:45:00",
          "2025-02-12T15:00:00",
          "2025-02-12T15:15:00",
          "2025-02-12T15:30:00",
          "2025-02-12T15:45:00",
          "2025-02-12T16:00:00",
          "2025-02-12T16:15:00",
          "2025-02-12T16:30:00",
          "2025-02-12T16:45:00",
          "2025-02-12T17:00:00",
          "2025-02-12T17:15:00",
          "2025-02-12T17:30:00",
          "2025-02-12T17:45:00",
          "2025-02-12T18:00:00",
          "2025-02-12T18:15:00",
          "2025-02-12T18:30:00",
          "2025-02-12T18:45:00",
          "2025-02-12T19:00:00",
          "2025-02-12T19:15:00",
          "2025-02-12T19:30:00",
          "2025-02-12T19:45:00",
          "2025-02-12T20:00:00",
          "2025-02-12T20:15:00",
          "2025-02-12T20:30:00",
          "2025-02-12T20:45:00",
          "2025-02-12T21:00:00",
          "2025-02-12T21:15:00",
          "2025-02-12T21:30:00",
          "2025-02-12T21:45:00",
          "2025-02-12T22:00:00",
          "2025-02-12T22:15:00",
          "2025-02-12T22:30:00",
          "2025-02-12T22:45:00",
          "2025-02-12T23:00:00",
          "2025-02-12T23:15:00",
          "2025-02-12T23:30:00",
          "2025-02-12T23:45:00",
          "2025-02-13T00:00:00",
          "2025-02-13T00:15:00",
          "2025-02-13T00:30:00",
          "2025-02-13T00:45:00",
          "2025-02-13T01:00:00",
          "2025-02-13T01:15:00",
          "2025-02-13T01:30:00",
          "2025-02-13T01:45:00",
          "2025-02-13T02:00:00",
          "2025-02-13T02:15:00",
          "2025-02-13T02:30:00",
          "2025-02-13T02:45:00",
          "2025-02-13T03:00:00",
          "2025-02-13T03:15:00",
          "2025-02-13T03:30:00",
          "2025-02-13T03:45:00",
          "2025-02-13T04:00:00",
          "2025-02-13T04:15:00",
          "2025-02-13T04:30:00",
          "2025-02-13T04:45:00",
          "2025-02-13T05:00:00",
          "2025-02-13T05:15:00",
          "2025-02-13T05:30:00",
          "2025-02-13T05:45:00",
          "2025-02-13T06:00:00",
          "2025-02-13T06:15:00",
          "2025-02-13T06:30:00",
          "2025-02-13T06:45:00",
          "2025-02-13T07:00:00",
          "2025-02-13T07:15:00",
          "2025-02-13T07:30:00",
          "2025-02-13T07:45:00",
          "2025-02-13T08:00:00",
          "2025-02-13T08:15:00",
          "2025-02-13T08:30:00",
          "2025-02-13T08:45:00",
          "2025-02-13T09:00:00",
          "2025-02-13T09:15:00",
          "2025-02-13T09:30:00",
          "2025-02-13T09:45:00",
          "2025-02-13T10:00:00",
          "2025-02-13T10:15:00",
          "2025-02-13T10:30:00",
          "2025-02-13T10:45:00",
          "2025-02-13T11:00:00",
          "2025-02-13T11:15:00",
          "2025-02-13T11:30:00",
          "2025-02-13T11:45:00",
          "2025-02-13T12:00:00",
          "2025-02-13T12:15:00",
          "2025-02-13T12:30:00",
          "2025-02-13T12:45:00",
          "2025-02-13T13:00:00",
          "2025-02-13T13:15:00",
          "2025-02-13T13:30:00",
          "2025-02-13T13:45:00",
          "2025-02-13T14:00:00",
          "2025-02-13T14:15:00",
          "2025-02-13T14:30:00",
          "2025-02-13T14:45:00",
          "2025-02-13T15:00:00",
          "2025-02-13T15:15:00",
          "2025-02-13T15:30:00",
          "2025-02-13T15:45:00",
          "2025-02-13T16:00:00"
         ],
         "xaxis": "x",
         "y": [
          57,
          57,
          57,
          57,
          57,
          57,
          57,
          57,
          57,
          57,
          57,
          57,
          57,
          57,
          57,
          58,
          57,
          56,
          58,
          57,
          57,
          57,
          57,
          57,
          56,
          57,
          57,
          57,
          57,
          57,
          57,
          58,
          58,
          57,
          57,
          57,
          58,
          57,
          57,
          57,
          57,
          57,
          57,
          57,
          57,
          58,
          57,
          56,
          56,
          57,
          57,
          57,
          56,
          57,
          56,
          56,
          57,
          57,
          57,
          57,
          56,
          56,
          57,
          57,
          57,
          57,
          57,
          57,
          57,
          57,
          57,
          57,
          57,
          57,
          57,
          58,
          58,
          57,
          57,
          57,
          57,
          57,
          57,
          57,
          57,
          57,
          57,
          57,
          57,
          57,
          57,
          57,
          57,
          57,
          57,
          57,
          57,
          56,
          57,
          57,
          57,
          58,
          57,
          57,
          57,
          57,
          56,
          57,
          58,
          57,
          57,
          58,
          57,
          57,
          58,
          58,
          57
         ],
         "yaxis": "y"
        },
        {
         "hovertemplate": "variable=JEN1_P<br>timestamp=%{x}<br>value=%{y}<extra></extra>",
         "legendgroup": "JEN1_P",
         "line": {
          "color": "#B6E880",
          "dash": "solid"
         },
         "marker": {
          "symbol": "circle"
         },
         "mode": "lines",
         "name": "JEN1_P",
         "showlegend": true,
         "type": "scattergl",
         "x": [
          "2025-02-12T11:11:57",
          "2025-02-12T11:15:00",
          "2025-02-12T11:30:00",
          "2025-02-12T11:45:00",
          "2025-02-12T12:00:00",
          "2025-02-12T12:15:00",
          "2025-02-12T12:30:00",
          "2025-02-12T12:45:00",
          "2025-02-12T13:00:00",
          "2025-02-12T13:15:00",
          "2025-02-12T13:30:00",
          "2025-02-12T13:45:00",
          "2025-02-12T14:00:00",
          "2025-02-12T14:15:00",
          "2025-02-12T14:30:00",
          "2025-02-12T14:45:00",
          "2025-02-12T15:00:00",
          "2025-02-12T15:15:00",
          "2025-02-12T15:30:00",
          "2025-02-12T15:45:00",
          "2025-02-12T16:00:00",
          "2025-02-12T16:15:00",
          "2025-02-12T16:30:00",
          "2025-02-12T16:45:00",
          "2025-02-12T17:00:00",
          "2025-02-12T17:15:00",
          "2025-02-12T17:30:00",
          "2025-02-12T17:45:00",
          "2025-02-12T18:00:00",
          "2025-02-12T18:15:00",
          "2025-02-12T18:30:00",
          "2025-02-12T18:45:00",
          "2025-02-12T19:00:00",
          "2025-02-12T19:15:00",
          "2025-02-12T19:30:00",
          "2025-02-12T19:45:00",
          "2025-02-12T20:00:00",
          "2025-02-12T20:15:00",
          "2025-02-12T20:30:00",
          "2025-02-12T20:45:00",
          "2025-02-12T21:00:00",
          "2025-02-12T21:15:00",
          "2025-02-12T21:30:00",
          "2025-02-12T21:45:00",
          "2025-02-12T22:00:00",
          "2025-02-12T22:15:00",
          "2025-02-12T22:30:00",
          "2025-02-12T22:45:00",
          "2025-02-12T23:00:00",
          "2025-02-12T23:15:00",
          "2025-02-12T23:30:00",
          "2025-02-12T23:45:00",
          "2025-02-13T00:00:00",
          "2025-02-13T00:15:00",
          "2025-02-13T00:30:00",
          "2025-02-13T00:45:00",
          "2025-02-13T01:00:00",
          "2025-02-13T01:15:00",
          "2025-02-13T01:30:00",
          "2025-02-13T01:45:00",
          "2025-02-13T02:00:00",
          "2025-02-13T02:15:00",
          "2025-02-13T02:30:00",
          "2025-02-13T02:45:00",
          "2025-02-13T03:00:00",
          "2025-02-13T03:15:00",
          "2025-02-13T03:30:00",
          "2025-02-13T03:45:00",
          "2025-02-13T04:00:00",
          "2025-02-13T04:15:00",
          "2025-02-13T04:30:00",
          "2025-02-13T04:45:00",
          "2025-02-13T05:00:00",
          "2025-02-13T05:15:00",
          "2025-02-13T05:30:00",
          "2025-02-13T05:45:00",
          "2025-02-13T06:00:00",
          "2025-02-13T06:15:00",
          "2025-02-13T06:30:00",
          "2025-02-13T06:45:00",
          "2025-02-13T07:00:00",
          "2025-02-13T07:15:00",
          "2025-02-13T07:30:00",
          "2025-02-13T07:45:00",
          "2025-02-13T08:00:00",
          "2025-02-13T08:15:00",
          "2025-02-13T08:30:00",
          "2025-02-13T08:45:00",
          "2025-02-13T09:00:00",
          "2025-02-13T09:15:00",
          "2025-02-13T09:30:00",
          "2025-02-13T09:45:00",
          "2025-02-13T10:00:00",
          "2025-02-13T10:15:00",
          "2025-02-13T10:30:00",
          "2025-02-13T10:45:00",
          "2025-02-13T11:00:00",
          "2025-02-13T11:15:00",
          "2025-02-13T11:30:00",
          "2025-02-13T11:45:00",
          "2025-02-13T12:00:00",
          "2025-02-13T12:15:00",
          "2025-02-13T12:30:00",
          "2025-02-13T12:45:00",
          "2025-02-13T13:00:00",
          "2025-02-13T13:15:00",
          "2025-02-13T13:30:00",
          "2025-02-13T13:45:00",
          "2025-02-13T14:00:00",
          "2025-02-13T14:15:00",
          "2025-02-13T14:30:00",
          "2025-02-13T14:45:00",
          "2025-02-13T15:00:00",
          "2025-02-13T15:15:00",
          "2025-02-13T15:30:00",
          "2025-02-13T15:45:00",
          "2025-02-13T16:00:00"
         ],
         "xaxis": "x",
         "y": [
          938,
          956,
          867,
          821,
          877,
          639,
          871,
          926,
          919,
          933,
          898,
          900,
          931,
          908,
          821,
          800,
          36,
          772,
          708,
          27,
          595,
          697,
          666,
          654,
          652,
          725,
          42,
          1,
          662,
          796,
          822,
          805,
          866,
          765,
          906,
          861,
          856,
          756,
          784,
          795,
          751,
          802,
          840,
          833,
          831,
          729,
          731,
          715,
          703,
          709,
          701,
          737,
          700,
          716,
          712,
          787,
          719,
          856,
          842,
          747,
          714,
          717,
          810,
          751,
          717,
          823,
          732,
          764,
          746,
          812,
          741,
          781,
          795,
          757,
          765,
          785,
          754,
          902,
          894,
          743,
          744,
          716,
          899,
          820,
          778,
          856,
          767,
          761,
          941,
          917,
          801,
          934,
          852,
          911,
          892,
          811,
          930,
          960,
          929,
          957,
          817,
          923,
          905,
          977,
          953,
          937,
          816,
          960,
          997,
          941,
          852,
          953,
          948,
          949,
          915,
          882,
          908
         ],
         "yaxis": "y"
        },
        {
         "hovertemplate": "variable=JEN2_Tc<br>timestamp=%{x}<br>value=%{y}<extra></extra>",
         "legendgroup": "JEN2_Tc",
         "line": {
          "color": "#FF97FF",
          "dash": "solid"
         },
         "marker": {
          "symbol": "circle"
         },
         "mode": "lines",
         "name": "JEN2_Tc",
         "showlegend": true,
         "type": "scattergl",
         "x": [
          "2025-02-12T11:11:57",
          "2025-02-12T11:15:00",
          "2025-02-12T11:30:00",
          "2025-02-12T11:45:00",
          "2025-02-12T12:00:00",
          "2025-02-12T12:15:00",
          "2025-02-12T12:30:00",
          "2025-02-12T12:45:00",
          "2025-02-12T13:00:00",
          "2025-02-12T13:15:00",
          "2025-02-12T13:30:00",
          "2025-02-12T13:45:00",
          "2025-02-12T14:00:00",
          "2025-02-12T14:15:00",
          "2025-02-12T14:30:00",
          "2025-02-12T14:45:00",
          "2025-02-12T15:00:00",
          "2025-02-12T15:15:00",
          "2025-02-12T15:30:00",
          "2025-02-12T15:45:00",
          "2025-02-12T16:00:00",
          "2025-02-12T16:15:00",
          "2025-02-12T16:30:00",
          "2025-02-12T16:45:00",
          "2025-02-12T17:00:00",
          "2025-02-12T17:15:00",
          "2025-02-12T17:30:00",
          "2025-02-12T17:45:00",
          "2025-02-12T18:00:00",
          "2025-02-12T18:15:00",
          "2025-02-12T18:30:00",
          "2025-02-12T18:45:00",
          "2025-02-12T19:00:00",
          "2025-02-12T19:15:00",
          "2025-02-12T19:30:00",
          "2025-02-12T19:45:00",
          "2025-02-12T20:00:00",
          "2025-02-12T20:15:00",
          "2025-02-12T20:30:00",
          "2025-02-12T20:45:00",
          "2025-02-12T21:00:00",
          "2025-02-12T21:15:00",
          "2025-02-12T21:30:00",
          "2025-02-12T21:45:00",
          "2025-02-12T22:00:00",
          "2025-02-12T22:15:00",
          "2025-02-12T22:30:00",
          "2025-02-12T22:45:00",
          "2025-02-12T23:00:00",
          "2025-02-12T23:15:00",
          "2025-02-12T23:30:00",
          "2025-02-12T23:45:00",
          "2025-02-13T00:00:00",
          "2025-02-13T00:15:00",
          "2025-02-13T00:30:00",
          "2025-02-13T00:45:00",
          "2025-02-13T01:00:00",
          "2025-02-13T01:15:00",
          "2025-02-13T01:30:00",
          "2025-02-13T01:45:00",
          "2025-02-13T02:00:00",
          "2025-02-13T02:15:00",
          "2025-02-13T02:30:00",
          "2025-02-13T02:45:00",
          "2025-02-13T03:00:00",
          "2025-02-13T03:15:00",
          "2025-02-13T03:30:00",
          "2025-02-13T03:45:00",
          "2025-02-13T04:00:00",
          "2025-02-13T04:15:00",
          "2025-02-13T04:30:00",
          "2025-02-13T04:45:00",
          "2025-02-13T05:00:00",
          "2025-02-13T05:15:00",
          "2025-02-13T05:30:00",
          "2025-02-13T05:45:00",
          "2025-02-13T06:00:00",
          "2025-02-13T06:15:00",
          "2025-02-13T06:30:00",
          "2025-02-13T06:45:00",
          "2025-02-13T07:00:00",
          "2025-02-13T07:15:00",
          "2025-02-13T07:30:00",
          "2025-02-13T07:45:00",
          "2025-02-13T08:00:00",
          "2025-02-13T08:15:00",
          "2025-02-13T08:30:00",
          "2025-02-13T08:45:00",
          "2025-02-13T09:00:00",
          "2025-02-13T09:15:00",
          "2025-02-13T09:30:00",
          "2025-02-13T09:45:00",
          "2025-02-13T10:00:00",
          "2025-02-13T10:15:00",
          "2025-02-13T10:30:00",
          "2025-02-13T10:45:00",
          "2025-02-13T11:00:00",
          "2025-02-13T11:15:00",
          "2025-02-13T11:30:00",
          "2025-02-13T11:45:00",
          "2025-02-13T12:00:00",
          "2025-02-13T12:15:00",
          "2025-02-13T12:30:00",
          "2025-02-13T12:45:00",
          "2025-02-13T13:00:00",
          "2025-02-13T13:15:00",
          "2025-02-13T13:30:00",
          "2025-02-13T13:45:00",
          "2025-02-13T14:00:00",
          "2025-02-13T14:15:00",
          "2025-02-13T14:30:00",
          "2025-02-13T14:45:00",
          "2025-02-13T15:00:00",
          "2025-02-13T15:15:00",
          "2025-02-13T15:30:00",
          "2025-02-13T15:45:00",
          "2025-02-13T16:00:00"
         ],
         "xaxis": "x",
         "y": [
          79,
          80,
          81,
          81,
          81,
          76,
          80,
          80,
          80,
          80,
          81,
          82,
          82,
          79,
          79,
          79,
          63,
          78,
          80,
          64,
          77,
          80,
          80,
          80,
          80,
          78,
          63,
          53,
          73,
          78,
          78,
          78,
          78,
          78,
          65,
          64,
          64,
          64,
          65,
          64,
          64,
          64,
          65,
          65,
          65,
          65,
          66,
          66,
          66,
          66,
          66,
          66,
          66,
          66,
          66,
          66,
          66,
          65,
          66,
          65,
          66,
          66,
          66,
          65,
          65,
          65,
          65,
          65,
          65,
          65,
          65,
          64,
          64,
          63,
          63,
          63,
          62,
          63,
          63,
          63,
          63,
          63,
          63,
          63,
          64,
          64,
          64,
          61,
          77,
          78,
          79,
          79,
          79,
          77,
          77,
          78,
          78,
          78,
          78,
          78,
          77,
          78,
          78,
          80,
          80,
          80,
          80,
          80,
          80,
          80,
          80,
          80,
          80,
          80,
          79,
          79,
          79
         ],
         "yaxis": "y"
        },
        {
         "hovertemplate": "variable=JEN2_Tf<br>timestamp=%{x}<br>value=%{y}<extra></extra>",
         "legendgroup": "JEN2_Tf",
         "line": {
          "color": "#FECB52",
          "dash": "solid"
         },
         "marker": {
          "symbol": "circle"
         },
         "mode": "lines",
         "name": "JEN2_Tf",
         "showlegend": true,
         "type": "scattergl",
         "x": [
          "2025-02-12T11:11:57",
          "2025-02-12T11:15:00",
          "2025-02-12T11:30:00",
          "2025-02-12T11:45:00",
          "2025-02-12T12:00:00",
          "2025-02-12T12:15:00",
          "2025-02-12T12:30:00",
          "2025-02-12T12:45:00",
          "2025-02-12T13:00:00",
          "2025-02-12T13:15:00",
          "2025-02-12T13:30:00",
          "2025-02-12T13:45:00",
          "2025-02-12T14:00:00",
          "2025-02-12T14:15:00",
          "2025-02-12T14:30:00",
          "2025-02-12T14:45:00",
          "2025-02-12T15:00:00",
          "2025-02-12T15:15:00",
          "2025-02-12T15:30:00",
          "2025-02-12T15:45:00",
          "2025-02-12T16:00:00",
          "2025-02-12T16:15:00",
          "2025-02-12T16:30:00",
          "2025-02-12T16:45:00",
          "2025-02-12T17:00:00",
          "2025-02-12T17:15:00",
          "2025-02-12T17:30:00",
          "2025-02-12T17:45:00",
          "2025-02-12T18:00:00",
          "2025-02-12T18:15:00",
          "2025-02-12T18:30:00",
          "2025-02-12T18:45:00",
          "2025-02-12T19:00:00",
          "2025-02-12T19:15:00",
          "2025-02-12T19:30:00",
          "2025-02-12T19:45:00",
          "2025-02-12T20:00:00",
          "2025-02-12T20:15:00",
          "2025-02-12T20:30:00",
          "2025-02-12T20:45:00",
          "2025-02-12T21:00:00",
          "2025-02-12T21:15:00",
          "2025-02-12T21:30:00",
          "2025-02-12T21:45:00",
          "2025-02-12T22:00:00",
          "2025-02-12T22:15:00",
          "2025-02-12T22:30:00",
          "2025-02-12T22:45:00",
          "2025-02-12T23:00:00",
          "2025-02-12T23:15:00",
          "2025-02-12T23:30:00",
          "2025-02-12T23:45:00",
          "2025-02-13T00:00:00",
          "2025-02-13T00:15:00",
          "2025-02-13T00:30:00",
          "2025-02-13T00:45:00",
          "2025-02-13T01:00:00",
          "2025-02-13T01:15:00",
          "2025-02-13T01:30:00",
          "2025-02-13T01:45:00",
          "2025-02-13T02:00:00",
          "2025-02-13T02:15:00",
          "2025-02-13T02:30:00",
          "2025-02-13T02:45:00",
          "2025-02-13T03:00:00",
          "2025-02-13T03:15:00",
          "2025-02-13T03:30:00",
          "2025-02-13T03:45:00",
          "2025-02-13T04:00:00",
          "2025-02-13T04:15:00",
          "2025-02-13T04:30:00",
          "2025-02-13T04:45:00",
          "2025-02-13T05:00:00",
          "2025-02-13T05:15:00",
          "2025-02-13T05:30:00",
          "2025-02-13T05:45:00",
          "2025-02-13T06:00:00",
          "2025-02-13T06:15:00",
          "2025-02-13T06:30:00",
          "2025-02-13T06:45:00",
          "2025-02-13T07:00:00",
          "2025-02-13T07:15:00",
          "2025-02-13T07:30:00",
          "2025-02-13T07:45:00",
          "2025-02-13T08:00:00",
          "2025-02-13T08:15:00",
          "2025-02-13T08:30:00",
          "2025-02-13T08:45:00",
          "2025-02-13T09:00:00",
          "2025-02-13T09:15:00",
          "2025-02-13T09:30:00",
          "2025-02-13T09:45:00",
          "2025-02-13T10:00:00",
          "2025-02-13T10:15:00",
          "2025-02-13T10:30:00",
          "2025-02-13T10:45:00",
          "2025-02-13T11:00:00",
          "2025-02-13T11:15:00",
          "2025-02-13T11:30:00",
          "2025-02-13T11:45:00",
          "2025-02-13T12:00:00",
          "2025-02-13T12:15:00",
          "2025-02-13T12:30:00",
          "2025-02-13T12:45:00",
          "2025-02-13T13:00:00",
          "2025-02-13T13:15:00",
          "2025-02-13T13:30:00",
          "2025-02-13T13:45:00",
          "2025-02-13T14:00:00",
          "2025-02-13T14:15:00",
          "2025-02-13T14:30:00",
          "2025-02-13T14:45:00",
          "2025-02-13T15:00:00",
          "2025-02-13T15:15:00",
          "2025-02-13T15:30:00",
          "2025-02-13T15:45:00",
          "2025-02-13T16:00:00"
         ],
         "xaxis": "x",
         "y": [
          65,
          65,
          65,
          65,
          64,
          65,
          64,
          65,
          65,
          65,
          65,
          65,
          65,
          65,
          65,
          65,
          63,
          65,
          65,
          64,
          66,
          65,
          65,
          65,
          65,
          65,
          63,
          53,
          62,
          64,
          64,
          64,
          64,
          64,
          65,
          64,
          64,
          64,
          65,
          64,
          64,
          64,
          65,
          65,
          65,
          65,
          66,
          66,
          66,
          66,
          66,
          66,
          66,
          66,
          66,
          66,
          66,
          65,
          65,
          65,
          66,
          66,
          66,
          65,
          65,
          65,
          65,
          65,
          65,
          65,
          64,
          64,
          64,
          63,
          63,
          63,
          62,
          63,
          63,
          63,
          62,
          63,
          63,
          63,
          64,
          64,
          64,
          61,
          63,
          64,
          64,
          64,
          64,
          64,
          64,
          64,
          64,
          64,
          64,
          64,
          63,
          63,
          63,
          63,
          63,
          63,
          63,
          64,
          64,
          64,
          64,
          64,
          64,
          64,
          64,
          64,
          64
         ],
         "yaxis": "y"
        },
        {
         "hovertemplate": "variable=JEN2_Q<br>timestamp=%{x}<br>value=%{y}<extra></extra>",
         "legendgroup": "JEN2_Q",
         "line": {
          "color": "#636efa",
          "dash": "solid"
         },
         "marker": {
          "symbol": "circle"
         },
         "mode": "lines",
         "name": "JEN2_Q",
         "showlegend": true,
         "type": "scattergl",
         "x": [
          "2025-02-12T11:11:57",
          "2025-02-12T11:15:00",
          "2025-02-12T11:30:00",
          "2025-02-12T11:45:00",
          "2025-02-12T12:00:00",
          "2025-02-12T12:15:00",
          "2025-02-12T12:30:00",
          "2025-02-12T12:45:00",
          "2025-02-12T13:00:00",
          "2025-02-12T13:15:00",
          "2025-02-12T13:30:00",
          "2025-02-12T13:45:00",
          "2025-02-12T14:00:00",
          "2025-02-12T14:15:00",
          "2025-02-12T14:30:00",
          "2025-02-12T14:45:00",
          "2025-02-12T15:00:00",
          "2025-02-12T15:15:00",
          "2025-02-12T15:30:00",
          "2025-02-12T15:45:00",
          "2025-02-12T16:00:00",
          "2025-02-12T16:15:00",
          "2025-02-12T16:30:00",
          "2025-02-12T16:45:00",
          "2025-02-12T17:00:00",
          "2025-02-12T17:15:00",
          "2025-02-12T17:30:00",
          "2025-02-12T17:45:00",
          "2025-02-12T18:00:00",
          "2025-02-12T18:15:00",
          "2025-02-12T18:30:00",
          "2025-02-12T18:45:00",
          "2025-02-12T19:00:00",
          "2025-02-12T19:15:00",
          "2025-02-12T19:30:00",
          "2025-02-12T19:45:00",
          "2025-02-12T20:00:00",
          "2025-02-12T20:15:00",
          "2025-02-12T20:30:00",
          "2025-02-12T20:45:00",
          "2025-02-12T21:00:00",
          "2025-02-12T21:15:00",
          "2025-02-12T21:30:00",
          "2025-02-12T21:45:00",
          "2025-02-12T22:00:00",
          "2025-02-12T22:15:00",
          "2025-02-12T22:30:00",
          "2025-02-12T22:45:00",
          "2025-02-12T23:00:00",
          "2025-02-12T23:15:00",
          "2025-02-12T23:30:00",
          "2025-02-12T23:45:00",
          "2025-02-13T00:00:00",
          "2025-02-13T00:15:00",
          "2025-02-13T00:30:00",
          "2025-02-13T00:45:00",
          "2025-02-13T01:00:00",
          "2025-02-13T01:15:00",
          "2025-02-13T01:30:00",
          "2025-02-13T01:45:00",
          "2025-02-13T02:00:00",
          "2025-02-13T02:15:00",
          "2025-02-13T02:30:00",
          "2025-02-13T02:45:00",
          "2025-02-13T03:00:00",
          "2025-02-13T03:15:00",
          "2025-02-13T03:30:00",
          "2025-02-13T03:45:00",
          "2025-02-13T04:00:00",
          "2025-02-13T04:15:00",
          "2025-02-13T04:30:00",
          "2025-02-13T04:45:00",
          "2025-02-13T05:00:00",
          "2025-02-13T05:15:00",
          "2025-02-13T05:30:00",
          "2025-02-13T05:45:00",
          "2025-02-13T06:00:00",
          "2025-02-13T06:15:00",
          "2025-02-13T06:30:00",
          "2025-02-13T06:45:00",
          "2025-02-13T07:00:00",
          "2025-02-13T07:15:00",
          "2025-02-13T07:30:00",
          "2025-02-13T07:45:00",
          "2025-02-13T08:00:00",
          "2025-02-13T08:15:00",
          "2025-02-13T08:30:00",
          "2025-02-13T08:45:00",
          "2025-02-13T09:00:00",
          "2025-02-13T09:15:00",
          "2025-02-13T09:30:00",
          "2025-02-13T09:45:00",
          "2025-02-13T10:00:00",
          "2025-02-13T10:15:00",
          "2025-02-13T10:30:00",
          "2025-02-13T10:45:00",
          "2025-02-13T11:00:00",
          "2025-02-13T11:15:00",
          "2025-02-13T11:30:00",
          "2025-02-13T11:45:00",
          "2025-02-13T12:00:00",
          "2025-02-13T12:15:00",
          "2025-02-13T12:30:00",
          "2025-02-13T12:45:00",
          "2025-02-13T13:00:00",
          "2025-02-13T13:15:00",
          "2025-02-13T13:30:00",
          "2025-02-13T13:45:00",
          "2025-02-13T14:00:00",
          "2025-02-13T14:15:00",
          "2025-02-13T14:30:00",
          "2025-02-13T14:45:00",
          "2025-02-13T15:00:00",
          "2025-02-13T15:15:00",
          "2025-02-13T15:30:00",
          "2025-02-13T15:45:00",
          "2025-02-13T16:00:00"
         ],
         "xaxis": "x",
         "y": [
          59,
          60,
          60,
          62,
          60,
          58,
          61,
          60,
          60,
          61,
          60,
          62,
          60,
          61,
          62,
          60,
          60,
          60,
          61,
          62,
          60,
          59,
          59,
          61,
          59,
          58,
          60,
          60,
          59,
          60,
          58,
          60,
          59,
          60,
          59,
          60,
          59,
          59,
          59,
          58,
          59,
          58,
          58,
          59,
          59,
          60,
          61,
          59,
          60,
          60,
          59,
          59,
          60,
          59,
          60,
          60,
          61,
          60,
          61,
          59,
          59,
          59,
          60,
          60,
          58,
          58,
          60,
          59,
          59,
          59,
          60,
          60,
          60,
          60,
          59,
          61,
          60,
          60,
          60,
          59,
          59,
          60,
          60,
          61,
          59,
          59,
          59,
          59,
          60,
          60,
          60,
          62,
          62,
          60,
          60,
          60,
          60,
          59,
          61,
          60,
          58,
          60,
          59,
          59,
          59,
          58,
          60,
          60,
          61,
          60,
          58,
          59,
          59,
          61,
          58,
          60,
          61
         ],
         "yaxis": "y"
        },
        {
         "hovertemplate": "variable=JEN2_P<br>timestamp=%{x}<br>value=%{y}<extra></extra>",
         "legendgroup": "JEN2_P",
         "line": {
          "color": "#EF553B",
          "dash": "solid"
         },
         "marker": {
          "symbol": "circle"
         },
         "mode": "lines",
         "name": "JEN2_P",
         "showlegend": true,
         "type": "scattergl",
         "x": [
          "2025-02-12T11:11:57",
          "2025-02-12T11:15:00",
          "2025-02-12T11:30:00",
          "2025-02-12T11:45:00",
          "2025-02-12T12:00:00",
          "2025-02-12T12:15:00",
          "2025-02-12T12:30:00",
          "2025-02-12T12:45:00",
          "2025-02-12T13:00:00",
          "2025-02-12T13:15:00",
          "2025-02-12T13:30:00",
          "2025-02-12T13:45:00",
          "2025-02-12T14:00:00",
          "2025-02-12T14:15:00",
          "2025-02-12T14:30:00",
          "2025-02-12T14:45:00",
          "2025-02-12T15:00:00",
          "2025-02-12T15:15:00",
          "2025-02-12T15:30:00",
          "2025-02-12T15:45:00",
          "2025-02-12T16:00:00",
          "2025-02-12T16:15:00",
          "2025-02-12T16:30:00",
          "2025-02-12T16:45:00",
          "2025-02-12T17:00:00",
          "2025-02-12T17:15:00",
          "2025-02-12T17:30:00",
          "2025-02-12T17:45:00",
          "2025-02-12T18:00:00",
          "2025-02-12T18:15:00",
          "2025-02-12T18:30:00",
          "2025-02-12T18:45:00",
          "2025-02-12T19:00:00",
          "2025-02-12T19:15:00",
          "2025-02-12T19:30:00",
          "2025-02-12T19:45:00",
          "2025-02-12T20:00:00",
          "2025-02-12T20:15:00",
          "2025-02-12T20:30:00",
          "2025-02-12T20:45:00",
          "2025-02-12T21:00:00",
          "2025-02-12T21:15:00",
          "2025-02-12T21:30:00",
          "2025-02-12T21:45:00",
          "2025-02-12T22:00:00",
          "2025-02-12T22:15:00",
          "2025-02-12T22:30:00",
          "2025-02-12T22:45:00",
          "2025-02-12T23:00:00",
          "2025-02-12T23:15:00",
          "2025-02-12T23:30:00",
          "2025-02-12T23:45:00",
          "2025-02-13T00:00:00",
          "2025-02-13T00:15:00",
          "2025-02-13T00:30:00",
          "2025-02-13T00:45:00",
          "2025-02-13T01:00:00",
          "2025-02-13T01:15:00",
          "2025-02-13T01:30:00",
          "2025-02-13T01:45:00",
          "2025-02-13T02:00:00",
          "2025-02-13T02:15:00",
          "2025-02-13T02:30:00",
          "2025-02-13T02:45:00",
          "2025-02-13T03:00:00",
          "2025-02-13T03:15:00",
          "2025-02-13T03:30:00",
          "2025-02-13T03:45:00",
          "2025-02-13T04:00:00",
          "2025-02-13T04:15:00",
          "2025-02-13T04:30:00",
          "2025-02-13T04:45:00",
          "2025-02-13T05:00:00",
          "2025-02-13T05:15:00",
          "2025-02-13T05:30:00",
          "2025-02-13T05:45:00",
          "2025-02-13T06:00:00",
          "2025-02-13T06:15:00",
          "2025-02-13T06:30:00",
          "2025-02-13T06:45:00",
          "2025-02-13T07:00:00",
          "2025-02-13T07:15:00",
          "2025-02-13T07:30:00",
          "2025-02-13T07:45:00",
          "2025-02-13T08:00:00",
          "2025-02-13T08:15:00",
          "2025-02-13T08:30:00",
          "2025-02-13T08:45:00",
          "2025-02-13T09:00:00",
          "2025-02-13T09:15:00",
          "2025-02-13T09:30:00",
          "2025-02-13T09:45:00",
          "2025-02-13T10:00:00",
          "2025-02-13T10:15:00",
          "2025-02-13T10:30:00",
          "2025-02-13T10:45:00",
          "2025-02-13T11:00:00",
          "2025-02-13T11:15:00",
          "2025-02-13T11:30:00",
          "2025-02-13T11:45:00",
          "2025-02-13T12:00:00",
          "2025-02-13T12:15:00",
          "2025-02-13T12:30:00",
          "2025-02-13T12:45:00",
          "2025-02-13T13:00:00",
          "2025-02-13T13:15:00",
          "2025-02-13T13:30:00",
          "2025-02-13T13:45:00",
          "2025-02-13T14:00:00",
          "2025-02-13T14:15:00",
          "2025-02-13T14:30:00",
          "2025-02-13T14:45:00",
          "2025-02-13T15:00:00",
          "2025-02-13T15:15:00",
          "2025-02-13T15:30:00",
          "2025-02-13T15:45:00",
          "2025-02-13T16:00:00"
         ],
         "xaxis": "x",
         "y": [
          954,
          1039,
          1101,
          1142,
          1130,
          763,
          1062,
          1074,
          1053,
          1088,
          1087,
          1196,
          1168,
          979,
          986,
          950,
          21,
          903,
          1017,
          12,
          777,
          985,
          991,
          1026,
          1003,
          856,
          15,
          12,
          709,
          947,
          883,
          905,
          892,
          889,
          7,
          4,
          3,
          4,
          6,
          3,
          4,
          5,
          6,
          3,
          4,
          6,
          2,
          3,
          4,
          4,
          4,
          1,
          4,
          4,
          6,
          1,
          5,
          5,
          5,
          3,
          4,
          5,
          1,
          4,
          5,
          4,
          3,
          1,
          6,
          3,
          5,
          6,
          4,
          2,
          5,
          5,
          3,
          5,
          3,
          5,
          5,
          5,
          2,
          0,
          2,
          3,
          4,
          8,
          939,
          975,
          1018,
          1072,
          1046,
          906,
          904,
          957,
          955,
          961,
          971,
          942,
          912,
          1016,
          1010,
          1127,
          1100,
          1095,
          1118,
          1130,
          1135,
          1126,
          1065,
          1055,
          1096,
          1118,
          996,
          1015,
          1107
         ],
         "yaxis": "y"
        },
        {
         "hovertemplate": "variable=HX1_P<br>timestamp=%{x}<br>value=%{y}<extra></extra>",
         "legendgroup": "HX1_P",
         "line": {
          "color": "#00cc96",
          "dash": "solid"
         },
         "marker": {
          "symbol": "circle"
         },
         "mode": "lines",
         "name": "HX1_P",
         "showlegend": true,
         "type": "scattergl",
         "x": [
          "2025-02-12T11:11:57",
          "2025-02-12T11:15:00",
          "2025-02-12T11:30:00",
          "2025-02-12T11:45:00",
          "2025-02-12T12:00:00",
          "2025-02-12T12:15:00",
          "2025-02-12T12:30:00",
          "2025-02-12T12:45:00",
          "2025-02-12T13:00:00",
          "2025-02-12T13:15:00",
          "2025-02-12T13:30:00",
          "2025-02-12T13:45:00",
          "2025-02-12T14:00:00",
          "2025-02-12T14:15:00",
          "2025-02-12T14:30:00",
          "2025-02-12T14:45:00",
          "2025-02-12T15:00:00",
          "2025-02-12T15:15:00",
          "2025-02-12T15:30:00",
          "2025-02-12T15:45:00",
          "2025-02-12T16:00:00",
          "2025-02-12T16:15:00",
          "2025-02-12T16:30:00",
          "2025-02-12T16:45:00",
          "2025-02-12T17:00:00",
          "2025-02-12T17:15:00",
          "2025-02-12T17:30:00",
          "2025-02-12T17:45:00",
          "2025-02-12T18:00:00",
          "2025-02-12T18:15:00",
          "2025-02-12T18:30:00",
          "2025-02-12T18:45:00",
          "2025-02-12T19:00:00",
          "2025-02-12T19:15:00",
          "2025-02-12T19:30:00",
          "2025-02-12T19:45:00",
          "2025-02-12T20:00:00",
          "2025-02-12T20:15:00",
          "2025-02-12T20:30:00",
          "2025-02-12T20:45:00",
          "2025-02-12T21:00:00",
          "2025-02-12T21:15:00",
          "2025-02-12T21:30:00",
          "2025-02-12T21:45:00",
          "2025-02-12T22:00:00",
          "2025-02-12T22:15:00",
          "2025-02-12T22:30:00",
          "2025-02-12T22:45:00",
          "2025-02-12T23:00:00",
          "2025-02-12T23:15:00",
          "2025-02-12T23:30:00",
          "2025-02-12T23:45:00",
          "2025-02-13T00:00:00",
          "2025-02-13T00:15:00",
          "2025-02-13T00:30:00",
          "2025-02-13T00:45:00",
          "2025-02-13T01:00:00",
          "2025-02-13T01:15:00",
          "2025-02-13T01:30:00",
          "2025-02-13T01:45:00",
          "2025-02-13T02:00:00",
          "2025-02-13T02:15:00",
          "2025-02-13T02:30:00",
          "2025-02-13T02:45:00",
          "2025-02-13T03:00:00",
          "2025-02-13T03:15:00",
          "2025-02-13T03:30:00",
          "2025-02-13T03:45:00",
          "2025-02-13T04:00:00",
          "2025-02-13T04:15:00",
          "2025-02-13T04:30:00",
          "2025-02-13T04:45:00",
          "2025-02-13T05:00:00",
          "2025-02-13T05:15:00",
          "2025-02-13T05:30:00",
          "2025-02-13T05:45:00",
          "2025-02-13T06:00:00",
          "2025-02-13T06:15:00",
          "2025-02-13T06:30:00",
          "2025-02-13T06:45:00",
          "2025-02-13T07:00:00",
          "2025-02-13T07:15:00",
          "2025-02-13T07:30:00",
          "2025-02-13T07:45:00",
          "2025-02-13T08:00:00",
          "2025-02-13T08:15:00",
          "2025-02-13T08:30:00",
          "2025-02-13T08:45:00",
          "2025-02-13T09:00:00",
          "2025-02-13T09:15:00",
          "2025-02-13T09:30:00",
          "2025-02-13T09:45:00",
          "2025-02-13T10:00:00",
          "2025-02-13T10:15:00",
          "2025-02-13T10:30:00",
          "2025-02-13T10:45:00",
          "2025-02-13T11:00:00",
          "2025-02-13T11:15:00",
          "2025-02-13T11:30:00",
          "2025-02-13T11:45:00",
          "2025-02-13T12:00:00",
          "2025-02-13T12:15:00",
          "2025-02-13T12:30:00",
          "2025-02-13T12:45:00",
          "2025-02-13T13:00:00",
          "2025-02-13T13:15:00",
          "2025-02-13T13:30:00",
          "2025-02-13T13:45:00",
          "2025-02-13T14:00:00",
          "2025-02-13T14:15:00",
          "2025-02-13T14:30:00",
          "2025-02-13T14:45:00",
          "2025-02-13T15:00:00",
          "2025-02-13T15:15:00",
          "2025-02-13T15:30:00",
          "2025-02-13T15:45:00",
          "2025-02-13T16:00:00"
         ],
         "xaxis": "x",
         "y": [
          358,
          342,
          336,
          355,
          363,
          299,
          409,
          430,
          423,
          410,
          408,
          403,
          407,
          406,
          416,
          425,
          165,
          365,
          355,
          152,
          129,
          329,
          347,
          339,
          358,
          365,
          186,
          21,
          112,
          367,
          341,
          392,
          404,
          367,
          410,
          427,
          423,
          383,
          380,
          398,
          364,
          348,
          336,
          321,
          329,
          346,
          327,
          346,
          311,
          309,
          326,
          320,
          307,
          330,
          320,
          343,
          332,
          327,
          322,
          311,
          303,
          316,
          304,
          330,
          320,
          332,
          323,
          314,
          348,
          345,
          363,
          351,
          314,
          379,
          383,
          359,
          327,
          384,
          378,
          374,
          360,
          379,
          379,
          427,
          411,
          388,
          422,
          296,
          347,
          314,
          328,
          375,
          323,
          330,
          361,
          367,
          358,
          364,
          364,
          356,
          373,
          360,
          357,
          367,
          367,
          360,
          386,
          365,
          377,
          360,
          371,
          434,
          357,
          368,
          344,
          342,
          350
         ],
         "yaxis": "y"
        },
        {
         "hovertemplate": "variable=HX2_P<br>timestamp=%{x}<br>value=%{y}<extra></extra>",
         "legendgroup": "HX2_P",
         "line": {
          "color": "#ab63fa",
          "dash": "solid"
         },
         "marker": {
          "symbol": "circle"
         },
         "mode": "lines",
         "name": "HX2_P",
         "showlegend": true,
         "type": "scattergl",
         "x": [
          "2025-02-12T11:11:57",
          "2025-02-12T11:15:00",
          "2025-02-12T11:30:00",
          "2025-02-12T11:45:00",
          "2025-02-12T12:00:00",
          "2025-02-12T12:15:00",
          "2025-02-12T12:30:00",
          "2025-02-12T12:45:00",
          "2025-02-12T13:00:00",
          "2025-02-12T13:15:00",
          "2025-02-12T13:30:00",
          "2025-02-12T13:45:00",
          "2025-02-12T14:00:00",
          "2025-02-12T14:15:00",
          "2025-02-12T14:30:00",
          "2025-02-12T14:45:00",
          "2025-02-12T15:00:00",
          "2025-02-12T15:15:00",
          "2025-02-12T15:30:00",
          "2025-02-12T15:45:00",
          "2025-02-12T16:00:00",
          "2025-02-12T16:15:00",
          "2025-02-12T16:30:00",
          "2025-02-12T16:45:00",
          "2025-02-12T17:00:00",
          "2025-02-12T17:15:00",
          "2025-02-12T17:30:00",
          "2025-02-12T17:45:00",
          "2025-02-12T18:00:00",
          "2025-02-12T18:15:00",
          "2025-02-12T18:30:00",
          "2025-02-12T18:45:00",
          "2025-02-12T19:00:00",
          "2025-02-12T19:15:00",
          "2025-02-12T19:30:00",
          "2025-02-12T19:45:00",
          "2025-02-12T20:00:00",
          "2025-02-12T20:15:00",
          "2025-02-12T20:30:00",
          "2025-02-12T20:45:00",
          "2025-02-12T21:00:00",
          "2025-02-12T21:15:00",
          "2025-02-12T21:30:00",
          "2025-02-12T21:45:00",
          "2025-02-12T22:00:00",
          "2025-02-12T22:15:00",
          "2025-02-12T22:30:00",
          "2025-02-12T22:45:00",
          "2025-02-12T23:00:00",
          "2025-02-12T23:15:00",
          "2025-02-12T23:30:00",
          "2025-02-12T23:45:00",
          "2025-02-13T00:00:00",
          "2025-02-13T00:15:00",
          "2025-02-13T00:30:00",
          "2025-02-13T00:45:00",
          "2025-02-13T01:00:00",
          "2025-02-13T01:15:00",
          "2025-02-13T01:30:00",
          "2025-02-13T01:45:00",
          "2025-02-13T02:00:00",
          "2025-02-13T02:15:00",
          "2025-02-13T02:30:00",
          "2025-02-13T02:45:00",
          "2025-02-13T03:00:00",
          "2025-02-13T03:15:00",
          "2025-02-13T03:30:00",
          "2025-02-13T03:45:00",
          "2025-02-13T04:00:00",
          "2025-02-13T04:15:00",
          "2025-02-13T04:30:00",
          "2025-02-13T04:45:00",
          "2025-02-13T05:00:00",
          "2025-02-13T05:15:00",
          "2025-02-13T05:30:00",
          "2025-02-13T05:45:00",
          "2025-02-13T06:00:00",
          "2025-02-13T06:15:00",
          "2025-02-13T06:30:00",
          "2025-02-13T06:45:00",
          "2025-02-13T07:00:00",
          "2025-02-13T07:15:00",
          "2025-02-13T07:30:00",
          "2025-02-13T07:45:00",
          "2025-02-13T08:00:00",
          "2025-02-13T08:15:00",
          "2025-02-13T08:30:00",
          "2025-02-13T08:45:00",
          "2025-02-13T09:00:00",
          "2025-02-13T09:15:00",
          "2025-02-13T09:30:00",
          "2025-02-13T09:45:00",
          "2025-02-13T10:00:00",
          "2025-02-13T10:15:00",
          "2025-02-13T10:30:00",
          "2025-02-13T10:45:00",
          "2025-02-13T11:00:00",
          "2025-02-13T11:15:00",
          "2025-02-13T11:30:00",
          "2025-02-13T11:45:00",
          "2025-02-13T12:00:00",
          "2025-02-13T12:15:00",
          "2025-02-13T12:30:00",
          "2025-02-13T12:45:00",
          "2025-02-13T13:00:00",
          "2025-02-13T13:15:00",
          "2025-02-13T13:30:00",
          "2025-02-13T13:45:00",
          "2025-02-13T14:00:00",
          "2025-02-13T14:15:00",
          "2025-02-13T14:30:00",
          "2025-02-13T14:45:00",
          "2025-02-13T15:00:00",
          "2025-02-13T15:15:00",
          "2025-02-13T15:30:00",
          "2025-02-13T15:45:00",
          "2025-02-13T16:00:00"
         ],
         "xaxis": "x",
         "y": [
          348,
          364,
          351,
          372,
          370,
          291,
          403,
          431,
          431,
          424,
          429,
          401,
          429,
          431,
          414,
          379,
          140,
          368,
          358,
          147,
          142,
          326,
          352,
          353,
          357,
          349,
          146,
          22,
          129,
          368,
          374,
          391,
          404,
          364,
          403,
          436,
          420,
          374,
          384,
          403,
          381,
          351,
          340,
          330,
          332,
          340,
          329,
          337,
          311,
          304,
          304,
          316,
          313,
          310,
          304,
          303,
          333,
          327,
          317,
          312,
          301,
          310,
          317,
          325,
          349,
          302,
          314,
          322,
          337,
          360,
          361,
          371,
          328,
          374,
          347,
          366,
          328,
          394,
          378,
          375,
          347,
          395,
          399,
          397,
          411,
          391,
          395,
          292,
          360,
          323,
          345,
          333,
          329,
          330,
          363,
          373,
          356,
          379,
          366,
          343,
          356,
          360,
          374,
          379,
          361,
          345,
          378,
          371,
          387,
          351,
          366,
          359,
          356,
          354,
          354,
          349,
          349
         ],
         "yaxis": "y"
        },
        {
         "hovertemplate": "variable=Sech_P<br>timestamp=%{x}<br>value=%{y}<extra></extra>",
         "legendgroup": "Sech_P",
         "line": {
          "color": "#FFA15A",
          "dash": "solid"
         },
         "marker": {
          "symbol": "circle"
         },
         "mode": "lines",
         "name": "Sech_P",
         "showlegend": true,
         "type": "scattergl",
         "x": [
          "2025-02-12T11:11:57",
          "2025-02-12T11:15:00",
          "2025-02-12T11:30:00",
          "2025-02-12T11:45:00",
          "2025-02-12T12:00:00",
          "2025-02-12T12:15:00",
          "2025-02-12T12:30:00",
          "2025-02-12T12:45:00",
          "2025-02-12T13:00:00",
          "2025-02-12T13:15:00",
          "2025-02-12T13:30:00",
          "2025-02-12T13:45:00",
          "2025-02-12T14:00:00",
          "2025-02-12T14:15:00",
          "2025-02-12T14:30:00",
          "2025-02-12T14:45:00",
          "2025-02-12T15:00:00",
          "2025-02-12T15:15:00",
          "2025-02-12T15:30:00",
          "2025-02-12T15:45:00",
          "2025-02-12T16:00:00",
          "2025-02-12T16:15:00",
          "2025-02-12T16:30:00",
          "2025-02-12T16:45:00",
          "2025-02-12T17:00:00",
          "2025-02-12T17:15:00",
          "2025-02-12T17:30:00",
          "2025-02-12T17:45:00",
          "2025-02-12T18:00:00",
          "2025-02-12T18:15:00",
          "2025-02-12T18:30:00",
          "2025-02-12T18:45:00",
          "2025-02-12T19:00:00",
          "2025-02-12T19:15:00",
          "2025-02-12T19:30:00",
          "2025-02-12T19:45:00",
          "2025-02-12T20:00:00",
          "2025-02-12T20:15:00",
          "2025-02-12T20:30:00",
          "2025-02-12T20:45:00",
          "2025-02-12T21:00:00",
          "2025-02-12T21:15:00",
          "2025-02-12T21:30:00",
          "2025-02-12T21:45:00",
          "2025-02-12T22:00:00",
          "2025-02-12T22:15:00",
          "2025-02-12T22:30:00",
          "2025-02-12T22:45:00",
          "2025-02-12T23:00:00",
          "2025-02-12T23:15:00",
          "2025-02-12T23:30:00",
          "2025-02-12T23:45:00",
          "2025-02-13T00:00:00",
          "2025-02-13T00:15:00",
          "2025-02-13T00:30:00",
          "2025-02-13T00:45:00",
          "2025-02-13T01:00:00",
          "2025-02-13T01:15:00",
          "2025-02-13T01:30:00",
          "2025-02-13T01:45:00",
          "2025-02-13T02:00:00",
          "2025-02-13T02:15:00",
          "2025-02-13T02:30:00",
          "2025-02-13T02:45:00",
          "2025-02-13T03:00:00",
          "2025-02-13T03:15:00",
          "2025-02-13T03:30:00",
          "2025-02-13T03:45:00",
          "2025-02-13T04:00:00",
          "2025-02-13T04:15:00",
          "2025-02-13T04:30:00",
          "2025-02-13T04:45:00",
          "2025-02-13T05:00:00",
          "2025-02-13T05:15:00",
          "2025-02-13T05:30:00",
          "2025-02-13T05:45:00",
          "2025-02-13T06:00:00",
          "2025-02-13T06:15:00",
          "2025-02-13T06:30:00",
          "2025-02-13T06:45:00",
          "2025-02-13T07:00:00",
          "2025-02-13T07:15:00",
          "2025-02-13T07:30:00",
          "2025-02-13T07:45:00",
          "2025-02-13T08:00:00",
          "2025-02-13T08:15:00",
          "2025-02-13T08:30:00",
          "2025-02-13T08:45:00",
          "2025-02-13T09:00:00",
          "2025-02-13T09:15:00",
          "2025-02-13T09:30:00",
          "2025-02-13T09:45:00",
          "2025-02-13T10:00:00",
          "2025-02-13T10:15:00",
          "2025-02-13T10:30:00",
          "2025-02-13T10:45:00",
          "2025-02-13T11:00:00",
          "2025-02-13T11:15:00",
          "2025-02-13T11:30:00",
          "2025-02-13T11:45:00",
          "2025-02-13T12:00:00",
          "2025-02-13T12:15:00",
          "2025-02-13T12:30:00",
          "2025-02-13T12:45:00",
          "2025-02-13T13:00:00",
          "2025-02-13T13:15:00",
          "2025-02-13T13:30:00",
          "2025-02-13T13:45:00",
          "2025-02-13T14:00:00",
          "2025-02-13T14:15:00",
          "2025-02-13T14:30:00",
          "2025-02-13T14:45:00",
          "2025-02-13T15:00:00",
          "2025-02-13T15:15:00",
          "2025-02-13T15:30:00",
          "2025-02-13T15:45:00",
          "2025-02-13T16:00:00"
         ],
         "xaxis": "x",
         "y": [
          1082,
          1140,
          1198,
          1198,
          1252,
          778,
          1209,
          1210,
          1199,
          1207,
          1208,
          1317,
          1303,
          1078,
          1109,
          1099,
          118,
          1037,
          1130,
          76,
          423,
          1067,
          1094,
          1147,
          1170,
          968,
          74,
          100,
          376,
          1075,
          1057,
          1035,
          1026,
          1002,
          189,
          198,
          187,
          191,
          194,
          196,
          189,
          211,
          216,
          228,
          212,
          210,
          197,
          201,
          207,
          202,
          204,
          211,
          193,
          220,
          212,
          219,
          204,
          227,
          222,
          224,
          215,
          224,
          225,
          214,
          219,
          253,
          220,
          221,
          221,
          212,
          216,
          215,
          225,
          221,
          221,
          211,
          206,
          207,
          224,
          203,
          216,
          206,
          219,
          203,
          205,
          200,
          187,
          197,
          1069,
          1029,
          1084,
          1114,
          1099,
          991,
          959,
          1066,
          1056,
          1077,
          1056,
          1006,
          994,
          1131,
          1124,
          1301,
          1190,
          1191,
          1228,
          1211,
          1209,
          1212,
          1171,
          1144,
          1189,
          1246,
          1148,
          1102,
          1192
         ],
         "yaxis": "y"
        },
        {
         "hovertemplate": "variable=Dig_P<br>timestamp=%{x}<br>value=%{y}<extra></extra>",
         "legendgroup": "Dig_P",
         "line": {
          "color": "#19d3f3",
          "dash": "solid"
         },
         "marker": {
          "symbol": "circle"
         },
         "mode": "lines",
         "name": "Dig_P",
         "showlegend": true,
         "type": "scattergl",
         "x": [
          "2025-02-12T11:11:57",
          "2025-02-12T11:15:00",
          "2025-02-12T11:30:00",
          "2025-02-12T11:45:00",
          "2025-02-12T12:00:00",
          "2025-02-12T12:15:00",
          "2025-02-12T12:30:00",
          "2025-02-12T12:45:00",
          "2025-02-12T13:00:00",
          "2025-02-12T13:15:00",
          "2025-02-12T13:30:00",
          "2025-02-12T13:45:00",
          "2025-02-12T14:00:00",
          "2025-02-12T14:15:00",
          "2025-02-12T14:30:00",
          "2025-02-12T14:45:00",
          "2025-02-12T15:00:00",
          "2025-02-12T15:15:00",
          "2025-02-12T15:30:00",
          "2025-02-12T15:45:00",
          "2025-02-12T16:00:00",
          "2025-02-12T16:15:00",
          "2025-02-12T16:30:00",
          "2025-02-12T16:45:00",
          "2025-02-12T17:00:00",
          "2025-02-12T17:15:00",
          "2025-02-12T17:30:00",
          "2025-02-12T17:45:00",
          "2025-02-12T18:00:00",
          "2025-02-12T18:15:00",
          "2025-02-12T18:30:00",
          "2025-02-12T18:45:00",
          "2025-02-12T19:00:00",
          "2025-02-12T19:15:00",
          "2025-02-12T19:30:00",
          "2025-02-12T19:45:00",
          "2025-02-12T20:00:00",
          "2025-02-12T20:15:00",
          "2025-02-12T20:30:00",
          "2025-02-12T20:45:00",
          "2025-02-12T21:00:00",
          "2025-02-12T21:15:00",
          "2025-02-12T21:30:00",
          "2025-02-12T21:45:00",
          "2025-02-12T22:00:00",
          "2025-02-12T22:15:00",
          "2025-02-12T22:30:00",
          "2025-02-12T22:45:00",
          "2025-02-12T23:00:00",
          "2025-02-12T23:15:00",
          "2025-02-12T23:30:00",
          "2025-02-12T23:45:00",
          "2025-02-13T00:00:00",
          "2025-02-13T00:15:00",
          "2025-02-13T00:30:00",
          "2025-02-13T00:45:00",
          "2025-02-13T01:00:00",
          "2025-02-13T01:15:00",
          "2025-02-13T01:30:00",
          "2025-02-13T01:45:00",
          "2025-02-13T02:00:00",
          "2025-02-13T02:15:00",
          "2025-02-13T02:30:00",
          "2025-02-13T02:45:00",
          "2025-02-13T03:00:00",
          "2025-02-13T03:15:00",
          "2025-02-13T03:30:00",
          "2025-02-13T03:45:00",
          "2025-02-13T04:00:00",
          "2025-02-13T04:15:00",
          "2025-02-13T04:30:00",
          "2025-02-13T04:45:00",
          "2025-02-13T05:00:00",
          "2025-02-13T05:15:00",
          "2025-02-13T05:30:00",
          "2025-02-13T05:45:00",
          "2025-02-13T06:00:00",
          "2025-02-13T06:15:00",
          "2025-02-13T06:30:00",
          "2025-02-13T06:45:00",
          "2025-02-13T07:00:00",
          "2025-02-13T07:15:00",
          "2025-02-13T07:30:00",
          "2025-02-13T07:45:00",
          "2025-02-13T08:00:00",
          "2025-02-13T08:15:00",
          "2025-02-13T08:30:00",
          "2025-02-13T08:45:00",
          "2025-02-13T09:00:00",
          "2025-02-13T09:15:00",
          "2025-02-13T09:30:00",
          "2025-02-13T09:45:00",
          "2025-02-13T10:00:00",
          "2025-02-13T10:15:00",
          "2025-02-13T10:30:00",
          "2025-02-13T10:45:00",
          "2025-02-13T11:00:00",
          "2025-02-13T11:15:00",
          "2025-02-13T11:30:00",
          "2025-02-13T11:45:00",
          "2025-02-13T12:00:00",
          "2025-02-13T12:15:00",
          "2025-02-13T12:30:00",
          "2025-02-13T12:45:00",
          "2025-02-13T13:00:00",
          "2025-02-13T13:15:00",
          "2025-02-13T13:30:00",
          "2025-02-13T13:45:00",
          "2025-02-13T14:00:00",
          "2025-02-13T14:15:00",
          "2025-02-13T14:30:00",
          "2025-02-13T14:45:00",
          "2025-02-13T15:00:00",
          "2025-02-13T15:15:00",
          "2025-02-13T15:30:00",
          "2025-02-13T15:45:00",
          "2025-02-13T16:00:00"
         ],
         "xaxis": "x",
         "y": [
          0,
          0,
          0,
          0,
          0,
          0,
          0,
          0,
          0,
          0,
          0,
          0,
          0,
          0,
          0,
          0,
          0,
          0,
          0,
          0,
          0,
          0,
          0,
          0,
          0,
          0,
          0,
          0,
          0,
          0,
          0,
          0,
          0,
          0,
          0,
          0,
          0,
          0,
          0,
          0,
          0,
          0,
          0,
          0,
          0,
          0,
          0,
          0,
          0,
          0,
          0,
          0,
          0,
          0,
          0,
          0,
          0,
          0,
          0,
          0,
          0,
          0,
          0,
          0,
          0,
          0,
          0,
          0,
          0,
          0,
          0,
          0,
          0,
          0,
          0,
          0,
          0,
          0,
          0,
          0,
          0,
          0,
          0,
          0,
          0,
          0,
          0,
          0,
          0,
          0,
          0,
          0,
          0,
          0,
          0,
          0,
          0,
          0,
          0,
          0,
          0,
          0,
          0,
          0,
          0,
          0,
          0,
          0,
          0,
          0,
          0,
          0,
          0,
          0,
          0,
          0,
          0
         ],
         "yaxis": "y"
        }
       ],
       "layout": {
        "height": 600,
        "legend": {
         "title": {
          "text": "Variables"
         },
         "tracegroupgap": 0
        },
        "margin": {
         "t": 60
        },
        "template": {
         "data": {
          "bar": [
           {
            "error_x": {
             "color": "#2a3f5f"
            },
            "error_y": {
             "color": "#2a3f5f"
            },
            "marker": {
             "line": {
              "color": "#E5ECF6",
              "width": 0.5
             },
             "pattern": {
              "fillmode": "overlay",
              "size": 10,
              "solidity": 0.2
             }
            },
            "type": "bar"
           }
          ],
          "barpolar": [
           {
            "marker": {
             "line": {
              "color": "#E5ECF6",
              "width": 0.5
             },
             "pattern": {
              "fillmode": "overlay",
              "size": 10,
              "solidity": 0.2
             }
            },
            "type": "barpolar"
           }
          ],
          "carpet": [
           {
            "aaxis": {
             "endlinecolor": "#2a3f5f",
             "gridcolor": "white",
             "linecolor": "white",
             "minorgridcolor": "white",
             "startlinecolor": "#2a3f5f"
            },
            "baxis": {
             "endlinecolor": "#2a3f5f",
             "gridcolor": "white",
             "linecolor": "white",
             "minorgridcolor": "white",
             "startlinecolor": "#2a3f5f"
            },
            "type": "carpet"
           }
          ],
          "choropleth": [
           {
            "colorbar": {
             "outlinewidth": 0,
             "ticks": ""
            },
            "type": "choropleth"
           }
          ],
          "contour": [
           {
            "colorbar": {
             "outlinewidth": 0,
             "ticks": ""
            },
            "colorscale": [
             [
              0,
              "#0d0887"
             ],
             [
              0.1111111111111111,
              "#46039f"
             ],
             [
              0.2222222222222222,
              "#7201a8"
             ],
             [
              0.3333333333333333,
              "#9c179e"
             ],
             [
              0.4444444444444444,
              "#bd3786"
             ],
             [
              0.5555555555555556,
              "#d8576b"
             ],
             [
              0.6666666666666666,
              "#ed7953"
             ],
             [
              0.7777777777777778,
              "#fb9f3a"
             ],
             [
              0.8888888888888888,
              "#fdca26"
             ],
             [
              1,
              "#f0f921"
             ]
            ],
            "type": "contour"
           }
          ],
          "contourcarpet": [
           {
            "colorbar": {
             "outlinewidth": 0,
             "ticks": ""
            },
            "type": "contourcarpet"
           }
          ],
          "heatmap": [
           {
            "colorbar": {
             "outlinewidth": 0,
             "ticks": ""
            },
            "colorscale": [
             [
              0,
              "#0d0887"
             ],
             [
              0.1111111111111111,
              "#46039f"
             ],
             [
              0.2222222222222222,
              "#7201a8"
             ],
             [
              0.3333333333333333,
              "#9c179e"
             ],
             [
              0.4444444444444444,
              "#bd3786"
             ],
             [
              0.5555555555555556,
              "#d8576b"
             ],
             [
              0.6666666666666666,
              "#ed7953"
             ],
             [
              0.7777777777777778,
              "#fb9f3a"
             ],
             [
              0.8888888888888888,
              "#fdca26"
             ],
             [
              1,
              "#f0f921"
             ]
            ],
            "type": "heatmap"
           }
          ],
          "heatmapgl": [
           {
            "colorbar": {
             "outlinewidth": 0,
             "ticks": ""
            },
            "colorscale": [
             [
              0,
              "#0d0887"
             ],
             [
              0.1111111111111111,
              "#46039f"
             ],
             [
              0.2222222222222222,
              "#7201a8"
             ],
             [
              0.3333333333333333,
              "#9c179e"
             ],
             [
              0.4444444444444444,
              "#bd3786"
             ],
             [
              0.5555555555555556,
              "#d8576b"
             ],
             [
              0.6666666666666666,
              "#ed7953"
             ],
             [
              0.7777777777777778,
              "#fb9f3a"
             ],
             [
              0.8888888888888888,
              "#fdca26"
             ],
             [
              1,
              "#f0f921"
             ]
            ],
            "type": "heatmapgl"
           }
          ],
          "histogram": [
           {
            "marker": {
             "pattern": {
              "fillmode": "overlay",
              "size": 10,
              "solidity": 0.2
             }
            },
            "type": "histogram"
           }
          ],
          "histogram2d": [
           {
            "colorbar": {
             "outlinewidth": 0,
             "ticks": ""
            },
            "colorscale": [
             [
              0,
              "#0d0887"
             ],
             [
              0.1111111111111111,
              "#46039f"
             ],
             [
              0.2222222222222222,
              "#7201a8"
             ],
             [
              0.3333333333333333,
              "#9c179e"
             ],
             [
              0.4444444444444444,
              "#bd3786"
             ],
             [
              0.5555555555555556,
              "#d8576b"
             ],
             [
              0.6666666666666666,
              "#ed7953"
             ],
             [
              0.7777777777777778,
              "#fb9f3a"
             ],
             [
              0.8888888888888888,
              "#fdca26"
             ],
             [
              1,
              "#f0f921"
             ]
            ],
            "type": "histogram2d"
           }
          ],
          "histogram2dcontour": [
           {
            "colorbar": {
             "outlinewidth": 0,
             "ticks": ""
            },
            "colorscale": [
             [
              0,
              "#0d0887"
             ],
             [
              0.1111111111111111,
              "#46039f"
             ],
             [
              0.2222222222222222,
              "#7201a8"
             ],
             [
              0.3333333333333333,
              "#9c179e"
             ],
             [
              0.4444444444444444,
              "#bd3786"
             ],
             [
              0.5555555555555556,
              "#d8576b"
             ],
             [
              0.6666666666666666,
              "#ed7953"
             ],
             [
              0.7777777777777778,
              "#fb9f3a"
             ],
             [
              0.8888888888888888,
              "#fdca26"
             ],
             [
              1,
              "#f0f921"
             ]
            ],
            "type": "histogram2dcontour"
           }
          ],
          "mesh3d": [
           {
            "colorbar": {
             "outlinewidth": 0,
             "ticks": ""
            },
            "type": "mesh3d"
           }
          ],
          "parcoords": [
           {
            "line": {
             "colorbar": {
              "outlinewidth": 0,
              "ticks": ""
             }
            },
            "type": "parcoords"
           }
          ],
          "pie": [
           {
            "automargin": true,
            "type": "pie"
           }
          ],
          "scatter": [
           {
            "fillpattern": {
             "fillmode": "overlay",
             "size": 10,
             "solidity": 0.2
            },
            "type": "scatter"
           }
          ],
          "scatter3d": [
           {
            "line": {
             "colorbar": {
              "outlinewidth": 0,
              "ticks": ""
             }
            },
            "marker": {
             "colorbar": {
              "outlinewidth": 0,
              "ticks": ""
             }
            },
            "type": "scatter3d"
           }
          ],
          "scattercarpet": [
           {
            "marker": {
             "colorbar": {
              "outlinewidth": 0,
              "ticks": ""
             }
            },
            "type": "scattercarpet"
           }
          ],
          "scattergeo": [
           {
            "marker": {
             "colorbar": {
              "outlinewidth": 0,
              "ticks": ""
             }
            },
            "type": "scattergeo"
           }
          ],
          "scattergl": [
           {
            "marker": {
             "colorbar": {
              "outlinewidth": 0,
              "ticks": ""
             }
            },
            "type": "scattergl"
           }
          ],
          "scattermapbox": [
           {
            "marker": {
             "colorbar": {
              "outlinewidth": 0,
              "ticks": ""
             }
            },
            "type": "scattermapbox"
           }
          ],
          "scatterpolar": [
           {
            "marker": {
             "colorbar": {
              "outlinewidth": 0,
              "ticks": ""
             }
            },
            "type": "scatterpolar"
           }
          ],
          "scatterpolargl": [
           {
            "marker": {
             "colorbar": {
              "outlinewidth": 0,
              "ticks": ""
             }
            },
            "type": "scatterpolargl"
           }
          ],
          "scatterternary": [
           {
            "marker": {
             "colorbar": {
              "outlinewidth": 0,
              "ticks": ""
             }
            },
            "type": "scatterternary"
           }
          ],
          "surface": [
           {
            "colorbar": {
             "outlinewidth": 0,
             "ticks": ""
            },
            "colorscale": [
             [
              0,
              "#0d0887"
             ],
             [
              0.1111111111111111,
              "#46039f"
             ],
             [
              0.2222222222222222,
              "#7201a8"
             ],
             [
              0.3333333333333333,
              "#9c179e"
             ],
             [
              0.4444444444444444,
              "#bd3786"
             ],
             [
              0.5555555555555556,
              "#d8576b"
             ],
             [
              0.6666666666666666,
              "#ed7953"
             ],
             [
              0.7777777777777778,
              "#fb9f3a"
             ],
             [
              0.8888888888888888,
              "#fdca26"
             ],
             [
              1,
              "#f0f921"
             ]
            ],
            "type": "surface"
           }
          ],
          "table": [
           {
            "cells": {
             "fill": {
              "color": "#EBF0F8"
             },
             "line": {
              "color": "white"
             }
            },
            "header": {
             "fill": {
              "color": "#C8D4E3"
             },
             "line": {
              "color": "white"
             }
            },
            "type": "table"
           }
          ]
         },
         "layout": {
          "annotationdefaults": {
           "arrowcolor": "#2a3f5f",
           "arrowhead": 0,
           "arrowwidth": 1
          },
          "autotypenumbers": "strict",
          "coloraxis": {
           "colorbar": {
            "outlinewidth": 0,
            "ticks": ""
           }
          },
          "colorscale": {
           "diverging": [
            [
             0,
             "#8e0152"
            ],
            [
             0.1,
             "#c51b7d"
            ],
            [
             0.2,
             "#de77ae"
            ],
            [
             0.3,
             "#f1b6da"
            ],
            [
             0.4,
             "#fde0ef"
            ],
            [
             0.5,
             "#f7f7f7"
            ],
            [
             0.6,
             "#e6f5d0"
            ],
            [
             0.7,
             "#b8e186"
            ],
            [
             0.8,
             "#7fbc41"
            ],
            [
             0.9,
             "#4d9221"
            ],
            [
             1,
             "#276419"
            ]
           ],
           "sequential": [
            [
             0,
             "#0d0887"
            ],
            [
             0.1111111111111111,
             "#46039f"
            ],
            [
             0.2222222222222222,
             "#7201a8"
            ],
            [
             0.3333333333333333,
             "#9c179e"
            ],
            [
             0.4444444444444444,
             "#bd3786"
            ],
            [
             0.5555555555555556,
             "#d8576b"
            ],
            [
             0.6666666666666666,
             "#ed7953"
            ],
            [
             0.7777777777777778,
             "#fb9f3a"
            ],
            [
             0.8888888888888888,
             "#fdca26"
            ],
            [
             1,
             "#f0f921"
            ]
           ],
           "sequentialminus": [
            [
             0,
             "#0d0887"
            ],
            [
             0.1111111111111111,
             "#46039f"
            ],
            [
             0.2222222222222222,
             "#7201a8"
            ],
            [
             0.3333333333333333,
             "#9c179e"
            ],
            [
             0.4444444444444444,
             "#bd3786"
            ],
            [
             0.5555555555555556,
             "#d8576b"
            ],
            [
             0.6666666666666666,
             "#ed7953"
            ],
            [
             0.7777777777777778,
             "#fb9f3a"
            ],
            [
             0.8888888888888888,
             "#fdca26"
            ],
            [
             1,
             "#f0f921"
            ]
           ]
          },
          "colorway": [
           "#636efa",
           "#EF553B",
           "#00cc96",
           "#ab63fa",
           "#FFA15A",
           "#19d3f3",
           "#FF6692",
           "#B6E880",
           "#FF97FF",
           "#FECB52"
          ],
          "font": {
           "color": "#2a3f5f"
          },
          "geo": {
           "bgcolor": "white",
           "lakecolor": "white",
           "landcolor": "#E5ECF6",
           "showlakes": true,
           "showland": true,
           "subunitcolor": "white"
          },
          "hoverlabel": {
           "align": "left"
          },
          "hovermode": "closest",
          "mapbox": {
           "style": "light"
          },
          "paper_bgcolor": "white",
          "plot_bgcolor": "#E5ECF6",
          "polar": {
           "angularaxis": {
            "gridcolor": "white",
            "linecolor": "white",
            "ticks": ""
           },
           "bgcolor": "#E5ECF6",
           "radialaxis": {
            "gridcolor": "white",
            "linecolor": "white",
            "ticks": ""
           }
          },
          "scene": {
           "xaxis": {
            "backgroundcolor": "#E5ECF6",
            "gridcolor": "white",
            "gridwidth": 2,
            "linecolor": "white",
            "showbackground": true,
            "ticks": "",
            "zerolinecolor": "white"
           },
           "yaxis": {
            "backgroundcolor": "#E5ECF6",
            "gridcolor": "white",
            "gridwidth": 2,
            "linecolor": "white",
            "showbackground": true,
            "ticks": "",
            "zerolinecolor": "white"
           },
           "zaxis": {
            "backgroundcolor": "#E5ECF6",
            "gridcolor": "white",
            "gridwidth": 2,
            "linecolor": "white",
            "showbackground": true,
            "ticks": "",
            "zerolinecolor": "white"
           }
          },
          "shapedefaults": {
           "line": {
            "color": "#2a3f5f"
           }
          },
          "ternary": {
           "aaxis": {
            "gridcolor": "white",
            "linecolor": "white",
            "ticks": ""
           },
           "baxis": {
            "gridcolor": "white",
            "linecolor": "white",
            "ticks": ""
           },
           "bgcolor": "#E5ECF6",
           "caxis": {
            "gridcolor": "white",
            "linecolor": "white",
            "ticks": ""
           }
          },
          "title": {
           "x": 0.05
          },
          "xaxis": {
           "automargin": true,
           "gridcolor": "white",
           "linecolor": "white",
           "ticks": "",
           "title": {
            "standoff": 15
           },
           "zerolinecolor": "white",
           "zerolinewidth": 2
          },
          "yaxis": {
           "automargin": true,
           "gridcolor": "white",
           "linecolor": "white",
           "ticks": "",
           "title": {
            "standoff": 15
           },
           "zerolinecolor": "white",
           "zerolinewidth": 2
          }
         }
        },
        "xaxis": {
         "anchor": "y",
         "domain": [
          0,
          1
         ],
         "title": {
          "text": "Timestamp"
         }
        },
        "yaxis": {
         "anchor": "x",
         "domain": [
          0,
          1
         ],
         "title": {
          "text": "Values"
         }
        }
       }
      }
     },
     "metadata": {},
     "output_type": "display_data"
    },
    {
     "data": {
      "application/vnd.plotly.v1+json": {
       "config": {
        "plotlyServerURL": "https://plot.ly"
       },
       "data": [
        {
         "fillpattern": {
          "shape": ""
         },
         "hovertemplate": "Generator=JEN1_P<br>timestamp=%{x}<br>Power=%{y}<extra></extra>",
         "legendgroup": "JEN1_P",
         "line": {
          "color": "#636efa",
          "width": 0
         },
         "marker": {
          "symbol": "circle"
         },
         "mode": "lines",
         "name": "JEN1_P",
         "orientation": "v",
         "showlegend": true,
         "stackgroup": "1",
         "type": "scatter",
         "x": [
          "2025-02-12T11:11:57",
          "2025-02-12T11:15:00",
          "2025-02-12T11:30:00",
          "2025-02-12T11:45:00",
          "2025-02-12T12:00:00",
          "2025-02-12T12:15:00",
          "2025-02-12T12:30:00",
          "2025-02-12T12:45:00",
          "2025-02-12T13:00:00",
          "2025-02-12T13:15:00",
          "2025-02-12T13:30:00",
          "2025-02-12T13:45:00",
          "2025-02-12T14:00:00",
          "2025-02-12T14:15:00",
          "2025-02-12T14:30:00",
          "2025-02-12T14:45:00",
          "2025-02-12T15:00:00",
          "2025-02-12T15:15:00",
          "2025-02-12T15:30:00",
          "2025-02-12T15:45:00",
          "2025-02-12T16:00:00",
          "2025-02-12T16:15:00",
          "2025-02-12T16:30:00",
          "2025-02-12T16:45:00",
          "2025-02-12T17:00:00",
          "2025-02-12T17:15:00",
          "2025-02-12T17:30:00",
          "2025-02-12T17:45:00",
          "2025-02-12T18:00:00",
          "2025-02-12T18:15:00",
          "2025-02-12T18:30:00",
          "2025-02-12T18:45:00",
          "2025-02-12T19:00:00",
          "2025-02-12T19:15:00",
          "2025-02-12T19:30:00",
          "2025-02-12T19:45:00",
          "2025-02-12T20:00:00",
          "2025-02-12T20:15:00",
          "2025-02-12T20:30:00",
          "2025-02-12T20:45:00",
          "2025-02-12T21:00:00",
          "2025-02-12T21:15:00",
          "2025-02-12T21:30:00",
          "2025-02-12T21:45:00",
          "2025-02-12T22:00:00",
          "2025-02-12T22:15:00",
          "2025-02-12T22:30:00",
          "2025-02-12T22:45:00",
          "2025-02-12T23:00:00",
          "2025-02-12T23:15:00",
          "2025-02-12T23:30:00",
          "2025-02-12T23:45:00",
          "2025-02-13T00:00:00",
          "2025-02-13T00:15:00",
          "2025-02-13T00:30:00",
          "2025-02-13T00:45:00",
          "2025-02-13T01:00:00",
          "2025-02-13T01:15:00",
          "2025-02-13T01:30:00",
          "2025-02-13T01:45:00",
          "2025-02-13T02:00:00",
          "2025-02-13T02:15:00",
          "2025-02-13T02:30:00",
          "2025-02-13T02:45:00",
          "2025-02-13T03:00:00",
          "2025-02-13T03:15:00",
          "2025-02-13T03:30:00",
          "2025-02-13T03:45:00",
          "2025-02-13T04:00:00",
          "2025-02-13T04:15:00",
          "2025-02-13T04:30:00",
          "2025-02-13T04:45:00",
          "2025-02-13T05:00:00",
          "2025-02-13T05:15:00",
          "2025-02-13T05:30:00",
          "2025-02-13T05:45:00",
          "2025-02-13T06:00:00",
          "2025-02-13T06:15:00",
          "2025-02-13T06:30:00",
          "2025-02-13T06:45:00",
          "2025-02-13T07:00:00",
          "2025-02-13T07:15:00",
          "2025-02-13T07:30:00",
          "2025-02-13T07:45:00",
          "2025-02-13T08:00:00",
          "2025-02-13T08:15:00",
          "2025-02-13T08:30:00",
          "2025-02-13T08:45:00",
          "2025-02-13T09:00:00",
          "2025-02-13T09:15:00",
          "2025-02-13T09:30:00",
          "2025-02-13T09:45:00",
          "2025-02-13T10:00:00",
          "2025-02-13T10:15:00",
          "2025-02-13T10:30:00",
          "2025-02-13T10:45:00",
          "2025-02-13T11:00:00",
          "2025-02-13T11:15:00",
          "2025-02-13T11:30:00",
          "2025-02-13T11:45:00",
          "2025-02-13T12:00:00",
          "2025-02-13T12:15:00",
          "2025-02-13T12:30:00",
          "2025-02-13T12:45:00",
          "2025-02-13T13:00:00",
          "2025-02-13T13:15:00",
          "2025-02-13T13:30:00",
          "2025-02-13T13:45:00",
          "2025-02-13T14:00:00",
          "2025-02-13T14:15:00",
          "2025-02-13T14:30:00",
          "2025-02-13T14:45:00",
          "2025-02-13T15:00:00",
          "2025-02-13T15:15:00",
          "2025-02-13T15:30:00",
          "2025-02-13T15:45:00",
          "2025-02-13T16:00:00"
         ],
         "xaxis": "x",
         "y": [
          938,
          956,
          867,
          821,
          877,
          639,
          871,
          926,
          919,
          933,
          898,
          900,
          931,
          908,
          821,
          800,
          36,
          772,
          708,
          27,
          595,
          697,
          666,
          654,
          652,
          725,
          42,
          1,
          662,
          796,
          822,
          805,
          866,
          765,
          906,
          861,
          856,
          756,
          784,
          795,
          751,
          802,
          840,
          833,
          831,
          729,
          731,
          715,
          703,
          709,
          701,
          737,
          700,
          716,
          712,
          787,
          719,
          856,
          842,
          747,
          714,
          717,
          810,
          751,
          717,
          823,
          732,
          764,
          746,
          812,
          741,
          781,
          795,
          757,
          765,
          785,
          754,
          902,
          894,
          743,
          744,
          716,
          899,
          820,
          778,
          856,
          767,
          761,
          941,
          917,
          801,
          934,
          852,
          911,
          892,
          811,
          930,
          960,
          929,
          957,
          817,
          923,
          905,
          977,
          953,
          937,
          816,
          960,
          997,
          941,
          852,
          953,
          948,
          949,
          915,
          882,
          908
         ],
         "yaxis": "y"
        },
        {
         "fillpattern": {
          "shape": ""
         },
         "hovertemplate": "Generator=JEN2_P<br>timestamp=%{x}<br>Power=%{y}<extra></extra>",
         "legendgroup": "JEN2_P",
         "line": {
          "color": "#EF553B",
          "width": 0
         },
         "marker": {
          "symbol": "circle"
         },
         "mode": "lines",
         "name": "JEN2_P",
         "orientation": "v",
         "showlegend": true,
         "stackgroup": "1",
         "type": "scatter",
         "x": [
          "2025-02-12T11:11:57",
          "2025-02-12T11:15:00",
          "2025-02-12T11:30:00",
          "2025-02-12T11:45:00",
          "2025-02-12T12:00:00",
          "2025-02-12T12:15:00",
          "2025-02-12T12:30:00",
          "2025-02-12T12:45:00",
          "2025-02-12T13:00:00",
          "2025-02-12T13:15:00",
          "2025-02-12T13:30:00",
          "2025-02-12T13:45:00",
          "2025-02-12T14:00:00",
          "2025-02-12T14:15:00",
          "2025-02-12T14:30:00",
          "2025-02-12T14:45:00",
          "2025-02-12T15:00:00",
          "2025-02-12T15:15:00",
          "2025-02-12T15:30:00",
          "2025-02-12T15:45:00",
          "2025-02-12T16:00:00",
          "2025-02-12T16:15:00",
          "2025-02-12T16:30:00",
          "2025-02-12T16:45:00",
          "2025-02-12T17:00:00",
          "2025-02-12T17:15:00",
          "2025-02-12T17:30:00",
          "2025-02-12T17:45:00",
          "2025-02-12T18:00:00",
          "2025-02-12T18:15:00",
          "2025-02-12T18:30:00",
          "2025-02-12T18:45:00",
          "2025-02-12T19:00:00",
          "2025-02-12T19:15:00",
          "2025-02-12T19:30:00",
          "2025-02-12T19:45:00",
          "2025-02-12T20:00:00",
          "2025-02-12T20:15:00",
          "2025-02-12T20:30:00",
          "2025-02-12T20:45:00",
          "2025-02-12T21:00:00",
          "2025-02-12T21:15:00",
          "2025-02-12T21:30:00",
          "2025-02-12T21:45:00",
          "2025-02-12T22:00:00",
          "2025-02-12T22:15:00",
          "2025-02-12T22:30:00",
          "2025-02-12T22:45:00",
          "2025-02-12T23:00:00",
          "2025-02-12T23:15:00",
          "2025-02-12T23:30:00",
          "2025-02-12T23:45:00",
          "2025-02-13T00:00:00",
          "2025-02-13T00:15:00",
          "2025-02-13T00:30:00",
          "2025-02-13T00:45:00",
          "2025-02-13T01:00:00",
          "2025-02-13T01:15:00",
          "2025-02-13T01:30:00",
          "2025-02-13T01:45:00",
          "2025-02-13T02:00:00",
          "2025-02-13T02:15:00",
          "2025-02-13T02:30:00",
          "2025-02-13T02:45:00",
          "2025-02-13T03:00:00",
          "2025-02-13T03:15:00",
          "2025-02-13T03:30:00",
          "2025-02-13T03:45:00",
          "2025-02-13T04:00:00",
          "2025-02-13T04:15:00",
          "2025-02-13T04:30:00",
          "2025-02-13T04:45:00",
          "2025-02-13T05:00:00",
          "2025-02-13T05:15:00",
          "2025-02-13T05:30:00",
          "2025-02-13T05:45:00",
          "2025-02-13T06:00:00",
          "2025-02-13T06:15:00",
          "2025-02-13T06:30:00",
          "2025-02-13T06:45:00",
          "2025-02-13T07:00:00",
          "2025-02-13T07:15:00",
          "2025-02-13T07:30:00",
          "2025-02-13T07:45:00",
          "2025-02-13T08:00:00",
          "2025-02-13T08:15:00",
          "2025-02-13T08:30:00",
          "2025-02-13T08:45:00",
          "2025-02-13T09:00:00",
          "2025-02-13T09:15:00",
          "2025-02-13T09:30:00",
          "2025-02-13T09:45:00",
          "2025-02-13T10:00:00",
          "2025-02-13T10:15:00",
          "2025-02-13T10:30:00",
          "2025-02-13T10:45:00",
          "2025-02-13T11:00:00",
          "2025-02-13T11:15:00",
          "2025-02-13T11:30:00",
          "2025-02-13T11:45:00",
          "2025-02-13T12:00:00",
          "2025-02-13T12:15:00",
          "2025-02-13T12:30:00",
          "2025-02-13T12:45:00",
          "2025-02-13T13:00:00",
          "2025-02-13T13:15:00",
          "2025-02-13T13:30:00",
          "2025-02-13T13:45:00",
          "2025-02-13T14:00:00",
          "2025-02-13T14:15:00",
          "2025-02-13T14:30:00",
          "2025-02-13T14:45:00",
          "2025-02-13T15:00:00",
          "2025-02-13T15:15:00",
          "2025-02-13T15:30:00",
          "2025-02-13T15:45:00",
          "2025-02-13T16:00:00"
         ],
         "xaxis": "x",
         "y": [
          954,
          1039,
          1101,
          1142,
          1130,
          763,
          1062,
          1074,
          1053,
          1088,
          1087,
          1196,
          1168,
          979,
          986,
          950,
          21,
          903,
          1017,
          12,
          777,
          985,
          991,
          1026,
          1003,
          856,
          15,
          12,
          709,
          947,
          883,
          905,
          892,
          889,
          7,
          4,
          3,
          4,
          6,
          3,
          4,
          5,
          6,
          3,
          4,
          6,
          2,
          3,
          4,
          4,
          4,
          1,
          4,
          4,
          6,
          1,
          5,
          5,
          5,
          3,
          4,
          5,
          1,
          4,
          5,
          4,
          3,
          1,
          6,
          3,
          5,
          6,
          4,
          2,
          5,
          5,
          3,
          5,
          3,
          5,
          5,
          5,
          2,
          0,
          2,
          3,
          4,
          8,
          939,
          975,
          1018,
          1072,
          1046,
          906,
          904,
          957,
          955,
          961,
          971,
          942,
          912,
          1016,
          1010,
          1127,
          1100,
          1095,
          1118,
          1130,
          1135,
          1126,
          1065,
          1055,
          1096,
          1118,
          996,
          1015,
          1107
         ],
         "yaxis": "y"
        },
        {
         "fillpattern": {
          "shape": ""
         },
         "hovertemplate": "Generator=LIEB_P<br>timestamp=%{x}<br>Power=%{y}<extra></extra>",
         "legendgroup": "LIEB_P",
         "line": {
          "color": "#00cc96",
          "width": 0
         },
         "marker": {
          "symbol": "circle"
         },
         "mode": "lines",
         "name": "LIEB_P",
         "orientation": "v",
         "showlegend": true,
         "stackgroup": "1",
         "type": "scatter",
         "x": [
          "2025-02-12T11:11:57",
          "2025-02-12T11:15:00",
          "2025-02-12T11:30:00",
          "2025-02-12T11:45:00",
          "2025-02-12T12:00:00",
          "2025-02-12T12:15:00",
          "2025-02-12T12:30:00",
          "2025-02-12T12:45:00",
          "2025-02-12T13:00:00",
          "2025-02-12T13:15:00",
          "2025-02-12T13:30:00",
          "2025-02-12T13:45:00",
          "2025-02-12T14:00:00",
          "2025-02-12T14:15:00",
          "2025-02-12T14:30:00",
          "2025-02-12T14:45:00",
          "2025-02-12T15:00:00",
          "2025-02-12T15:15:00",
          "2025-02-12T15:30:00",
          "2025-02-12T15:45:00",
          "2025-02-12T16:00:00",
          "2025-02-12T16:15:00",
          "2025-02-12T16:30:00",
          "2025-02-12T16:45:00",
          "2025-02-12T17:00:00",
          "2025-02-12T17:15:00",
          "2025-02-12T17:30:00",
          "2025-02-12T17:45:00",
          "2025-02-12T18:00:00",
          "2025-02-12T18:15:00",
          "2025-02-12T18:30:00",
          "2025-02-12T18:45:00",
          "2025-02-12T19:00:00",
          "2025-02-12T19:15:00",
          "2025-02-12T19:30:00",
          "2025-02-12T19:45:00",
          "2025-02-12T20:00:00",
          "2025-02-12T20:15:00",
          "2025-02-12T20:30:00",
          "2025-02-12T20:45:00",
          "2025-02-12T21:00:00",
          "2025-02-12T21:15:00",
          "2025-02-12T21:30:00",
          "2025-02-12T21:45:00",
          "2025-02-12T22:00:00",
          "2025-02-12T22:15:00",
          "2025-02-12T22:30:00",
          "2025-02-12T22:45:00",
          "2025-02-12T23:00:00",
          "2025-02-12T23:15:00",
          "2025-02-12T23:30:00",
          "2025-02-12T23:45:00",
          "2025-02-13T00:00:00",
          "2025-02-13T00:15:00",
          "2025-02-13T00:30:00",
          "2025-02-13T00:45:00",
          "2025-02-13T01:00:00",
          "2025-02-13T01:15:00",
          "2025-02-13T01:30:00",
          "2025-02-13T01:45:00",
          "2025-02-13T02:00:00",
          "2025-02-13T02:15:00",
          "2025-02-13T02:30:00",
          "2025-02-13T02:45:00",
          "2025-02-13T03:00:00",
          "2025-02-13T03:15:00",
          "2025-02-13T03:30:00",
          "2025-02-13T03:45:00",
          "2025-02-13T04:00:00",
          "2025-02-13T04:15:00",
          "2025-02-13T04:30:00",
          "2025-02-13T04:45:00",
          "2025-02-13T05:00:00",
          "2025-02-13T05:15:00",
          "2025-02-13T05:30:00",
          "2025-02-13T05:45:00",
          "2025-02-13T06:00:00",
          "2025-02-13T06:15:00",
          "2025-02-13T06:30:00",
          "2025-02-13T06:45:00",
          "2025-02-13T07:00:00",
          "2025-02-13T07:15:00",
          "2025-02-13T07:30:00",
          "2025-02-13T07:45:00",
          "2025-02-13T08:00:00",
          "2025-02-13T08:15:00",
          "2025-02-13T08:30:00",
          "2025-02-13T08:45:00",
          "2025-02-13T09:00:00",
          "2025-02-13T09:15:00",
          "2025-02-13T09:30:00",
          "2025-02-13T09:45:00",
          "2025-02-13T10:00:00",
          "2025-02-13T10:15:00",
          "2025-02-13T10:30:00",
          "2025-02-13T10:45:00",
          "2025-02-13T11:00:00",
          "2025-02-13T11:15:00",
          "2025-02-13T11:30:00",
          "2025-02-13T11:45:00",
          "2025-02-13T12:00:00",
          "2025-02-13T12:15:00",
          "2025-02-13T12:30:00",
          "2025-02-13T12:45:00",
          "2025-02-13T13:00:00",
          "2025-02-13T13:15:00",
          "2025-02-13T13:30:00",
          "2025-02-13T13:45:00",
          "2025-02-13T14:00:00",
          "2025-02-13T14:15:00",
          "2025-02-13T14:30:00",
          "2025-02-13T14:45:00",
          "2025-02-13T15:00:00",
          "2025-02-13T15:15:00",
          "2025-02-13T15:30:00",
          "2025-02-13T15:45:00",
          "2025-02-13T16:00:00"
         ],
         "xaxis": "x",
         "y": [
          30,
          31,
          32,
          33,
          30,
          26,
          155,
          171,
          164,
          162,
          158,
          163,
          165,
          158,
          159,
          161,
          181,
          149,
          158,
          179,
          134,
          156,
          155,
          162,
          152,
          166,
          21,
          19,
          26,
          156,
          158,
          171,
          168,
          168,
          173,
          159,
          171,
          146,
          145,
          163,
          149,
          150,
          141,
          136,
          144,
          142,
          125,
          124,
          114,
          111,
          114,
          114,
          119,
          114,
          117,
          121,
          132,
          126,
          125,
          113,
          116,
          119,
          116,
          141,
          130,
          128,
          139,
          138,
          149,
          148,
          155,
          152,
          149,
          158,
          167,
          161,
          178,
          197,
          185,
          176,
          179,
          178,
          187,
          197,
          189,
          190,
          192,
          21,
          25,
          24,
          23,
          24,
          25,
          26,
          25,
          26,
          27,
          29,
          28,
          26,
          26,
          24,
          26,
          27,
          26,
          27,
          27,
          27,
          25,
          23,
          29,
          27,
          29,
          31,
          26,
          27,
          28
         ],
         "yaxis": "y"
        }
       ],
       "layout": {
        "height": 600,
        "legend": {
         "title": {
          "text": "Generator"
         },
         "tracegroupgap": 0
        },
        "showlegend": true,
        "template": {
         "data": {
          "bar": [
           {
            "error_x": {
             "color": "rgb(36,36,36)"
            },
            "error_y": {
             "color": "rgb(36,36,36)"
            },
            "marker": {
             "line": {
              "color": "white",
              "width": 0.5
             },
             "pattern": {
              "fillmode": "overlay",
              "size": 10,
              "solidity": 0.2
             }
            },
            "type": "bar"
           }
          ],
          "barpolar": [
           {
            "marker": {
             "line": {
              "color": "white",
              "width": 0.5
             },
             "pattern": {
              "fillmode": "overlay",
              "size": 10,
              "solidity": 0.2
             }
            },
            "type": "barpolar"
           }
          ],
          "carpet": [
           {
            "aaxis": {
             "endlinecolor": "rgb(36,36,36)",
             "gridcolor": "white",
             "linecolor": "white",
             "minorgridcolor": "white",
             "startlinecolor": "rgb(36,36,36)"
            },
            "baxis": {
             "endlinecolor": "rgb(36,36,36)",
             "gridcolor": "white",
             "linecolor": "white",
             "minorgridcolor": "white",
             "startlinecolor": "rgb(36,36,36)"
            },
            "type": "carpet"
           }
          ],
          "choropleth": [
           {
            "colorbar": {
             "outlinewidth": 1,
             "tickcolor": "rgb(36,36,36)",
             "ticks": "outside"
            },
            "type": "choropleth"
           }
          ],
          "contour": [
           {
            "colorbar": {
             "outlinewidth": 1,
             "tickcolor": "rgb(36,36,36)",
             "ticks": "outside"
            },
            "colorscale": [
             [
              0,
              "#440154"
             ],
             [
              0.1111111111111111,
              "#482878"
             ],
             [
              0.2222222222222222,
              "#3e4989"
             ],
             [
              0.3333333333333333,
              "#31688e"
             ],
             [
              0.4444444444444444,
              "#26828e"
             ],
             [
              0.5555555555555556,
              "#1f9e89"
             ],
             [
              0.6666666666666666,
              "#35b779"
             ],
             [
              0.7777777777777778,
              "#6ece58"
             ],
             [
              0.8888888888888888,
              "#b5de2b"
             ],
             [
              1,
              "#fde725"
             ]
            ],
            "type": "contour"
           }
          ],
          "contourcarpet": [
           {
            "colorbar": {
             "outlinewidth": 1,
             "tickcolor": "rgb(36,36,36)",
             "ticks": "outside"
            },
            "type": "contourcarpet"
           }
          ],
          "heatmap": [
           {
            "colorbar": {
             "outlinewidth": 1,
             "tickcolor": "rgb(36,36,36)",
             "ticks": "outside"
            },
            "colorscale": [
             [
              0,
              "#440154"
             ],
             [
              0.1111111111111111,
              "#482878"
             ],
             [
              0.2222222222222222,
              "#3e4989"
             ],
             [
              0.3333333333333333,
              "#31688e"
             ],
             [
              0.4444444444444444,
              "#26828e"
             ],
             [
              0.5555555555555556,
              "#1f9e89"
             ],
             [
              0.6666666666666666,
              "#35b779"
             ],
             [
              0.7777777777777778,
              "#6ece58"
             ],
             [
              0.8888888888888888,
              "#b5de2b"
             ],
             [
              1,
              "#fde725"
             ]
            ],
            "type": "heatmap"
           }
          ],
          "heatmapgl": [
           {
            "colorbar": {
             "outlinewidth": 1,
             "tickcolor": "rgb(36,36,36)",
             "ticks": "outside"
            },
            "colorscale": [
             [
              0,
              "#440154"
             ],
             [
              0.1111111111111111,
              "#482878"
             ],
             [
              0.2222222222222222,
              "#3e4989"
             ],
             [
              0.3333333333333333,
              "#31688e"
             ],
             [
              0.4444444444444444,
              "#26828e"
             ],
             [
              0.5555555555555556,
              "#1f9e89"
             ],
             [
              0.6666666666666666,
              "#35b779"
             ],
             [
              0.7777777777777778,
              "#6ece58"
             ],
             [
              0.8888888888888888,
              "#b5de2b"
             ],
             [
              1,
              "#fde725"
             ]
            ],
            "type": "heatmapgl"
           }
          ],
          "histogram": [
           {
            "marker": {
             "line": {
              "color": "white",
              "width": 0.6
             }
            },
            "type": "histogram"
           }
          ],
          "histogram2d": [
           {
            "colorbar": {
             "outlinewidth": 1,
             "tickcolor": "rgb(36,36,36)",
             "ticks": "outside"
            },
            "colorscale": [
             [
              0,
              "#440154"
             ],
             [
              0.1111111111111111,
              "#482878"
             ],
             [
              0.2222222222222222,
              "#3e4989"
             ],
             [
              0.3333333333333333,
              "#31688e"
             ],
             [
              0.4444444444444444,
              "#26828e"
             ],
             [
              0.5555555555555556,
              "#1f9e89"
             ],
             [
              0.6666666666666666,
              "#35b779"
             ],
             [
              0.7777777777777778,
              "#6ece58"
             ],
             [
              0.8888888888888888,
              "#b5de2b"
             ],
             [
              1,
              "#fde725"
             ]
            ],
            "type": "histogram2d"
           }
          ],
          "histogram2dcontour": [
           {
            "colorbar": {
             "outlinewidth": 1,
             "tickcolor": "rgb(36,36,36)",
             "ticks": "outside"
            },
            "colorscale": [
             [
              0,
              "#440154"
             ],
             [
              0.1111111111111111,
              "#482878"
             ],
             [
              0.2222222222222222,
              "#3e4989"
             ],
             [
              0.3333333333333333,
              "#31688e"
             ],
             [
              0.4444444444444444,
              "#26828e"
             ],
             [
              0.5555555555555556,
              "#1f9e89"
             ],
             [
              0.6666666666666666,
              "#35b779"
             ],
             [
              0.7777777777777778,
              "#6ece58"
             ],
             [
              0.8888888888888888,
              "#b5de2b"
             ],
             [
              1,
              "#fde725"
             ]
            ],
            "type": "histogram2dcontour"
           }
          ],
          "mesh3d": [
           {
            "colorbar": {
             "outlinewidth": 1,
             "tickcolor": "rgb(36,36,36)",
             "ticks": "outside"
            },
            "type": "mesh3d"
           }
          ],
          "parcoords": [
           {
            "line": {
             "colorbar": {
              "outlinewidth": 1,
              "tickcolor": "rgb(36,36,36)",
              "ticks": "outside"
             }
            },
            "type": "parcoords"
           }
          ],
          "pie": [
           {
            "automargin": true,
            "type": "pie"
           }
          ],
          "scatter": [
           {
            "fillpattern": {
             "fillmode": "overlay",
             "size": 10,
             "solidity": 0.2
            },
            "type": "scatter"
           }
          ],
          "scatter3d": [
           {
            "line": {
             "colorbar": {
              "outlinewidth": 1,
              "tickcolor": "rgb(36,36,36)",
              "ticks": "outside"
             }
            },
            "marker": {
             "colorbar": {
              "outlinewidth": 1,
              "tickcolor": "rgb(36,36,36)",
              "ticks": "outside"
             }
            },
            "type": "scatter3d"
           }
          ],
          "scattercarpet": [
           {
            "marker": {
             "colorbar": {
              "outlinewidth": 1,
              "tickcolor": "rgb(36,36,36)",
              "ticks": "outside"
             }
            },
            "type": "scattercarpet"
           }
          ],
          "scattergeo": [
           {
            "marker": {
             "colorbar": {
              "outlinewidth": 1,
              "tickcolor": "rgb(36,36,36)",
              "ticks": "outside"
             }
            },
            "type": "scattergeo"
           }
          ],
          "scattergl": [
           {
            "marker": {
             "colorbar": {
              "outlinewidth": 1,
              "tickcolor": "rgb(36,36,36)",
              "ticks": "outside"
             }
            },
            "type": "scattergl"
           }
          ],
          "scattermapbox": [
           {
            "marker": {
             "colorbar": {
              "outlinewidth": 1,
              "tickcolor": "rgb(36,36,36)",
              "ticks": "outside"
             }
            },
            "type": "scattermapbox"
           }
          ],
          "scatterpolar": [
           {
            "marker": {
             "colorbar": {
              "outlinewidth": 1,
              "tickcolor": "rgb(36,36,36)",
              "ticks": "outside"
             }
            },
            "type": "scatterpolar"
           }
          ],
          "scatterpolargl": [
           {
            "marker": {
             "colorbar": {
              "outlinewidth": 1,
              "tickcolor": "rgb(36,36,36)",
              "ticks": "outside"
             }
            },
            "type": "scatterpolargl"
           }
          ],
          "scatterternary": [
           {
            "marker": {
             "colorbar": {
              "outlinewidth": 1,
              "tickcolor": "rgb(36,36,36)",
              "ticks": "outside"
             }
            },
            "type": "scatterternary"
           }
          ],
          "surface": [
           {
            "colorbar": {
             "outlinewidth": 1,
             "tickcolor": "rgb(36,36,36)",
             "ticks": "outside"
            },
            "colorscale": [
             [
              0,
              "#440154"
             ],
             [
              0.1111111111111111,
              "#482878"
             ],
             [
              0.2222222222222222,
              "#3e4989"
             ],
             [
              0.3333333333333333,
              "#31688e"
             ],
             [
              0.4444444444444444,
              "#26828e"
             ],
             [
              0.5555555555555556,
              "#1f9e89"
             ],
             [
              0.6666666666666666,
              "#35b779"
             ],
             [
              0.7777777777777778,
              "#6ece58"
             ],
             [
              0.8888888888888888,
              "#b5de2b"
             ],
             [
              1,
              "#fde725"
             ]
            ],
            "type": "surface"
           }
          ],
          "table": [
           {
            "cells": {
             "fill": {
              "color": "rgb(237,237,237)"
             },
             "line": {
              "color": "white"
             }
            },
            "header": {
             "fill": {
              "color": "rgb(217,217,217)"
             },
             "line": {
              "color": "white"
             }
            },
            "type": "table"
           }
          ]
         },
         "layout": {
          "annotationdefaults": {
           "arrowhead": 0,
           "arrowwidth": 1
          },
          "autotypenumbers": "strict",
          "coloraxis": {
           "colorbar": {
            "outlinewidth": 1,
            "tickcolor": "rgb(36,36,36)",
            "ticks": "outside"
           }
          },
          "colorscale": {
           "diverging": [
            [
             0,
             "rgb(103,0,31)"
            ],
            [
             0.1,
             "rgb(178,24,43)"
            ],
            [
             0.2,
             "rgb(214,96,77)"
            ],
            [
             0.3,
             "rgb(244,165,130)"
            ],
            [
             0.4,
             "rgb(253,219,199)"
            ],
            [
             0.5,
             "rgb(247,247,247)"
            ],
            [
             0.6,
             "rgb(209,229,240)"
            ],
            [
             0.7,
             "rgb(146,197,222)"
            ],
            [
             0.8,
             "rgb(67,147,195)"
            ],
            [
             0.9,
             "rgb(33,102,172)"
            ],
            [
             1,
             "rgb(5,48,97)"
            ]
           ],
           "sequential": [
            [
             0,
             "#440154"
            ],
            [
             0.1111111111111111,
             "#482878"
            ],
            [
             0.2222222222222222,
             "#3e4989"
            ],
            [
             0.3333333333333333,
             "#31688e"
            ],
            [
             0.4444444444444444,
             "#26828e"
            ],
            [
             0.5555555555555556,
             "#1f9e89"
            ],
            [
             0.6666666666666666,
             "#35b779"
            ],
            [
             0.7777777777777778,
             "#6ece58"
            ],
            [
             0.8888888888888888,
             "#b5de2b"
            ],
            [
             1,
             "#fde725"
            ]
           ],
           "sequentialminus": [
            [
             0,
             "#440154"
            ],
            [
             0.1111111111111111,
             "#482878"
            ],
            [
             0.2222222222222222,
             "#3e4989"
            ],
            [
             0.3333333333333333,
             "#31688e"
            ],
            [
             0.4444444444444444,
             "#26828e"
            ],
            [
             0.5555555555555556,
             "#1f9e89"
            ],
            [
             0.6666666666666666,
             "#35b779"
            ],
            [
             0.7777777777777778,
             "#6ece58"
            ],
            [
             0.8888888888888888,
             "#b5de2b"
            ],
            [
             1,
             "#fde725"
            ]
           ]
          },
          "colorway": [
           "#1F77B4",
           "#FF7F0E",
           "#2CA02C",
           "#D62728",
           "#9467BD",
           "#8C564B",
           "#E377C2",
           "#7F7F7F",
           "#BCBD22",
           "#17BECF"
          ],
          "font": {
           "color": "rgb(36,36,36)"
          },
          "geo": {
           "bgcolor": "white",
           "lakecolor": "white",
           "landcolor": "white",
           "showlakes": true,
           "showland": true,
           "subunitcolor": "white"
          },
          "hoverlabel": {
           "align": "left"
          },
          "hovermode": "closest",
          "mapbox": {
           "style": "light"
          },
          "paper_bgcolor": "white",
          "plot_bgcolor": "white",
          "polar": {
           "angularaxis": {
            "gridcolor": "rgb(232,232,232)",
            "linecolor": "rgb(36,36,36)",
            "showgrid": false,
            "showline": true,
            "ticks": "outside"
           },
           "bgcolor": "white",
           "radialaxis": {
            "gridcolor": "rgb(232,232,232)",
            "linecolor": "rgb(36,36,36)",
            "showgrid": false,
            "showline": true,
            "ticks": "outside"
           }
          },
          "scene": {
           "xaxis": {
            "backgroundcolor": "white",
            "gridcolor": "rgb(232,232,232)",
            "gridwidth": 2,
            "linecolor": "rgb(36,36,36)",
            "showbackground": true,
            "showgrid": false,
            "showline": true,
            "ticks": "outside",
            "zeroline": false,
            "zerolinecolor": "rgb(36,36,36)"
           },
           "yaxis": {
            "backgroundcolor": "white",
            "gridcolor": "rgb(232,232,232)",
            "gridwidth": 2,
            "linecolor": "rgb(36,36,36)",
            "showbackground": true,
            "showgrid": false,
            "showline": true,
            "ticks": "outside",
            "zeroline": false,
            "zerolinecolor": "rgb(36,36,36)"
           },
           "zaxis": {
            "backgroundcolor": "white",
            "gridcolor": "rgb(232,232,232)",
            "gridwidth": 2,
            "linecolor": "rgb(36,36,36)",
            "showbackground": true,
            "showgrid": false,
            "showline": true,
            "ticks": "outside",
            "zeroline": false,
            "zerolinecolor": "rgb(36,36,36)"
           }
          },
          "shapedefaults": {
           "fillcolor": "black",
           "line": {
            "width": 0
           },
           "opacity": 0.3
          },
          "ternary": {
           "aaxis": {
            "gridcolor": "rgb(232,232,232)",
            "linecolor": "rgb(36,36,36)",
            "showgrid": false,
            "showline": true,
            "ticks": "outside"
           },
           "baxis": {
            "gridcolor": "rgb(232,232,232)",
            "linecolor": "rgb(36,36,36)",
            "showgrid": false,
            "showline": true,
            "ticks": "outside"
           },
           "bgcolor": "white",
           "caxis": {
            "gridcolor": "rgb(232,232,232)",
            "linecolor": "rgb(36,36,36)",
            "showgrid": false,
            "showline": true,
            "ticks": "outside"
           }
          },
          "title": {
           "x": 0.05
          },
          "xaxis": {
           "automargin": true,
           "gridcolor": "rgb(232,232,232)",
           "linecolor": "rgb(36,36,36)",
           "showgrid": false,
           "showline": true,
           "ticks": "outside",
           "title": {
            "standoff": 15
           },
           "zeroline": false,
           "zerolinecolor": "rgb(36,36,36)"
          },
          "yaxis": {
           "automargin": true,
           "gridcolor": "rgb(232,232,232)",
           "linecolor": "rgb(36,36,36)",
           "showgrid": false,
           "showline": true,
           "ticks": "outside",
           "title": {
            "standoff": 15
           },
           "zeroline": false,
           "zerolinecolor": "rgb(36,36,36)"
          }
         }
        },
        "title": {
         "text": "Power Output by Generator"
        },
        "xaxis": {
         "anchor": "y",
         "domain": [
          0,
          1
         ],
         "title": {
          "text": "Timestamp"
         }
        },
        "yaxis": {
         "anchor": "x",
         "domain": [
          0,
          1
         ],
         "title": {
          "text": "Power"
         }
        }
       }
      }
     },
     "metadata": {},
     "output_type": "display_data"
    },
    {
     "data": {
      "application/vnd.plotly.v1+json": {
       "config": {
        "plotlyServerURL": "https://plot.ly"
       },
       "data": [
        {
         "fillpattern": {
          "shape": ""
         },
         "hovertemplate": "System=HX1_P<br>timestamp=%{x}<br>Power=%{y}<extra></extra>",
         "legendgroup": "HX1_P",
         "line": {
          "color": "#636efa",
          "width": 0
         },
         "marker": {
          "symbol": "circle"
         },
         "mode": "lines",
         "name": "HX1_P",
         "orientation": "v",
         "showlegend": true,
         "stackgroup": "1",
         "type": "scatter",
         "x": [
          "2025-02-12T11:11:57",
          "2025-02-12T11:15:00",
          "2025-02-12T11:30:00",
          "2025-02-12T11:45:00",
          "2025-02-12T12:00:00",
          "2025-02-12T12:15:00",
          "2025-02-12T12:30:00",
          "2025-02-12T12:45:00",
          "2025-02-12T13:00:00",
          "2025-02-12T13:15:00",
          "2025-02-12T13:30:00",
          "2025-02-12T13:45:00",
          "2025-02-12T14:00:00",
          "2025-02-12T14:15:00",
          "2025-02-12T14:30:00",
          "2025-02-12T14:45:00",
          "2025-02-12T15:00:00",
          "2025-02-12T15:15:00",
          "2025-02-12T15:30:00",
          "2025-02-12T15:45:00",
          "2025-02-12T16:00:00",
          "2025-02-12T16:15:00",
          "2025-02-12T16:30:00",
          "2025-02-12T16:45:00",
          "2025-02-12T17:00:00",
          "2025-02-12T17:15:00",
          "2025-02-12T17:30:00",
          "2025-02-12T17:45:00",
          "2025-02-12T18:00:00",
          "2025-02-12T18:15:00",
          "2025-02-12T18:30:00",
          "2025-02-12T18:45:00",
          "2025-02-12T19:00:00",
          "2025-02-12T19:15:00",
          "2025-02-12T19:30:00",
          "2025-02-12T19:45:00",
          "2025-02-12T20:00:00",
          "2025-02-12T20:15:00",
          "2025-02-12T20:30:00",
          "2025-02-12T20:45:00",
          "2025-02-12T21:00:00",
          "2025-02-12T21:15:00",
          "2025-02-12T21:30:00",
          "2025-02-12T21:45:00",
          "2025-02-12T22:00:00",
          "2025-02-12T22:15:00",
          "2025-02-12T22:30:00",
          "2025-02-12T22:45:00",
          "2025-02-12T23:00:00",
          "2025-02-12T23:15:00",
          "2025-02-12T23:30:00",
          "2025-02-12T23:45:00",
          "2025-02-13T00:00:00",
          "2025-02-13T00:15:00",
          "2025-02-13T00:30:00",
          "2025-02-13T00:45:00",
          "2025-02-13T01:00:00",
          "2025-02-13T01:15:00",
          "2025-02-13T01:30:00",
          "2025-02-13T01:45:00",
          "2025-02-13T02:00:00",
          "2025-02-13T02:15:00",
          "2025-02-13T02:30:00",
          "2025-02-13T02:45:00",
          "2025-02-13T03:00:00",
          "2025-02-13T03:15:00",
          "2025-02-13T03:30:00",
          "2025-02-13T03:45:00",
          "2025-02-13T04:00:00",
          "2025-02-13T04:15:00",
          "2025-02-13T04:30:00",
          "2025-02-13T04:45:00",
          "2025-02-13T05:00:00",
          "2025-02-13T05:15:00",
          "2025-02-13T05:30:00",
          "2025-02-13T05:45:00",
          "2025-02-13T06:00:00",
          "2025-02-13T06:15:00",
          "2025-02-13T06:30:00",
          "2025-02-13T06:45:00",
          "2025-02-13T07:00:00",
          "2025-02-13T07:15:00",
          "2025-02-13T07:30:00",
          "2025-02-13T07:45:00",
          "2025-02-13T08:00:00",
          "2025-02-13T08:15:00",
          "2025-02-13T08:30:00",
          "2025-02-13T08:45:00",
          "2025-02-13T09:00:00",
          "2025-02-13T09:15:00",
          "2025-02-13T09:30:00",
          "2025-02-13T09:45:00",
          "2025-02-13T10:00:00",
          "2025-02-13T10:15:00",
          "2025-02-13T10:30:00",
          "2025-02-13T10:45:00",
          "2025-02-13T11:00:00",
          "2025-02-13T11:15:00",
          "2025-02-13T11:30:00",
          "2025-02-13T11:45:00",
          "2025-02-13T12:00:00",
          "2025-02-13T12:15:00",
          "2025-02-13T12:30:00",
          "2025-02-13T12:45:00",
          "2025-02-13T13:00:00",
          "2025-02-13T13:15:00",
          "2025-02-13T13:30:00",
          "2025-02-13T13:45:00",
          "2025-02-13T14:00:00",
          "2025-02-13T14:15:00",
          "2025-02-13T14:30:00",
          "2025-02-13T14:45:00",
          "2025-02-13T15:00:00",
          "2025-02-13T15:15:00",
          "2025-02-13T15:30:00",
          "2025-02-13T15:45:00",
          "2025-02-13T16:00:00"
         ],
         "xaxis": "x",
         "y": [
          358,
          342,
          336,
          355,
          363,
          299,
          409,
          430,
          423,
          410,
          408,
          403,
          407,
          406,
          416,
          425,
          165,
          365,
          355,
          152,
          129,
          329,
          347,
          339,
          358,
          365,
          186,
          21,
          112,
          367,
          341,
          392,
          404,
          367,
          410,
          427,
          423,
          383,
          380,
          398,
          364,
          348,
          336,
          321,
          329,
          346,
          327,
          346,
          311,
          309,
          326,
          320,
          307,
          330,
          320,
          343,
          332,
          327,
          322,
          311,
          303,
          316,
          304,
          330,
          320,
          332,
          323,
          314,
          348,
          345,
          363,
          351,
          314,
          379,
          383,
          359,
          327,
          384,
          378,
          374,
          360,
          379,
          379,
          427,
          411,
          388,
          422,
          296,
          347,
          314,
          328,
          375,
          323,
          330,
          361,
          367,
          358,
          364,
          364,
          356,
          373,
          360,
          357,
          367,
          367,
          360,
          386,
          365,
          377,
          360,
          371,
          434,
          357,
          368,
          344,
          342,
          350
         ],
         "yaxis": "y"
        },
        {
         "fillpattern": {
          "shape": ""
         },
         "hovertemplate": "System=HX2_P<br>timestamp=%{x}<br>Power=%{y}<extra></extra>",
         "legendgroup": "HX2_P",
         "line": {
          "color": "#EF553B",
          "width": 0
         },
         "marker": {
          "symbol": "circle"
         },
         "mode": "lines",
         "name": "HX2_P",
         "orientation": "v",
         "showlegend": true,
         "stackgroup": "1",
         "type": "scatter",
         "x": [
          "2025-02-12T11:11:57",
          "2025-02-12T11:15:00",
          "2025-02-12T11:30:00",
          "2025-02-12T11:45:00",
          "2025-02-12T12:00:00",
          "2025-02-12T12:15:00",
          "2025-02-12T12:30:00",
          "2025-02-12T12:45:00",
          "2025-02-12T13:00:00",
          "2025-02-12T13:15:00",
          "2025-02-12T13:30:00",
          "2025-02-12T13:45:00",
          "2025-02-12T14:00:00",
          "2025-02-12T14:15:00",
          "2025-02-12T14:30:00",
          "2025-02-12T14:45:00",
          "2025-02-12T15:00:00",
          "2025-02-12T15:15:00",
          "2025-02-12T15:30:00",
          "2025-02-12T15:45:00",
          "2025-02-12T16:00:00",
          "2025-02-12T16:15:00",
          "2025-02-12T16:30:00",
          "2025-02-12T16:45:00",
          "2025-02-12T17:00:00",
          "2025-02-12T17:15:00",
          "2025-02-12T17:30:00",
          "2025-02-12T17:45:00",
          "2025-02-12T18:00:00",
          "2025-02-12T18:15:00",
          "2025-02-12T18:30:00",
          "2025-02-12T18:45:00",
          "2025-02-12T19:00:00",
          "2025-02-12T19:15:00",
          "2025-02-12T19:30:00",
          "2025-02-12T19:45:00",
          "2025-02-12T20:00:00",
          "2025-02-12T20:15:00",
          "2025-02-12T20:30:00",
          "2025-02-12T20:45:00",
          "2025-02-12T21:00:00",
          "2025-02-12T21:15:00",
          "2025-02-12T21:30:00",
          "2025-02-12T21:45:00",
          "2025-02-12T22:00:00",
          "2025-02-12T22:15:00",
          "2025-02-12T22:30:00",
          "2025-02-12T22:45:00",
          "2025-02-12T23:00:00",
          "2025-02-12T23:15:00",
          "2025-02-12T23:30:00",
          "2025-02-12T23:45:00",
          "2025-02-13T00:00:00",
          "2025-02-13T00:15:00",
          "2025-02-13T00:30:00",
          "2025-02-13T00:45:00",
          "2025-02-13T01:00:00",
          "2025-02-13T01:15:00",
          "2025-02-13T01:30:00",
          "2025-02-13T01:45:00",
          "2025-02-13T02:00:00",
          "2025-02-13T02:15:00",
          "2025-02-13T02:30:00",
          "2025-02-13T02:45:00",
          "2025-02-13T03:00:00",
          "2025-02-13T03:15:00",
          "2025-02-13T03:30:00",
          "2025-02-13T03:45:00",
          "2025-02-13T04:00:00",
          "2025-02-13T04:15:00",
          "2025-02-13T04:30:00",
          "2025-02-13T04:45:00",
          "2025-02-13T05:00:00",
          "2025-02-13T05:15:00",
          "2025-02-13T05:30:00",
          "2025-02-13T05:45:00",
          "2025-02-13T06:00:00",
          "2025-02-13T06:15:00",
          "2025-02-13T06:30:00",
          "2025-02-13T06:45:00",
          "2025-02-13T07:00:00",
          "2025-02-13T07:15:00",
          "2025-02-13T07:30:00",
          "2025-02-13T07:45:00",
          "2025-02-13T08:00:00",
          "2025-02-13T08:15:00",
          "2025-02-13T08:30:00",
          "2025-02-13T08:45:00",
          "2025-02-13T09:00:00",
          "2025-02-13T09:15:00",
          "2025-02-13T09:30:00",
          "2025-02-13T09:45:00",
          "2025-02-13T10:00:00",
          "2025-02-13T10:15:00",
          "2025-02-13T10:30:00",
          "2025-02-13T10:45:00",
          "2025-02-13T11:00:00",
          "2025-02-13T11:15:00",
          "2025-02-13T11:30:00",
          "2025-02-13T11:45:00",
          "2025-02-13T12:00:00",
          "2025-02-13T12:15:00",
          "2025-02-13T12:30:00",
          "2025-02-13T12:45:00",
          "2025-02-13T13:00:00",
          "2025-02-13T13:15:00",
          "2025-02-13T13:30:00",
          "2025-02-13T13:45:00",
          "2025-02-13T14:00:00",
          "2025-02-13T14:15:00",
          "2025-02-13T14:30:00",
          "2025-02-13T14:45:00",
          "2025-02-13T15:00:00",
          "2025-02-13T15:15:00",
          "2025-02-13T15:30:00",
          "2025-02-13T15:45:00",
          "2025-02-13T16:00:00"
         ],
         "xaxis": "x",
         "y": [
          348,
          364,
          351,
          372,
          370,
          291,
          403,
          431,
          431,
          424,
          429,
          401,
          429,
          431,
          414,
          379,
          140,
          368,
          358,
          147,
          142,
          326,
          352,
          353,
          357,
          349,
          146,
          22,
          129,
          368,
          374,
          391,
          404,
          364,
          403,
          436,
          420,
          374,
          384,
          403,
          381,
          351,
          340,
          330,
          332,
          340,
          329,
          337,
          311,
          304,
          304,
          316,
          313,
          310,
          304,
          303,
          333,
          327,
          317,
          312,
          301,
          310,
          317,
          325,
          349,
          302,
          314,
          322,
          337,
          360,
          361,
          371,
          328,
          374,
          347,
          366,
          328,
          394,
          378,
          375,
          347,
          395,
          399,
          397,
          411,
          391,
          395,
          292,
          360,
          323,
          345,
          333,
          329,
          330,
          363,
          373,
          356,
          379,
          366,
          343,
          356,
          360,
          374,
          379,
          361,
          345,
          378,
          371,
          387,
          351,
          366,
          359,
          356,
          354,
          354,
          349,
          349
         ],
         "yaxis": "y"
        },
        {
         "fillpattern": {
          "shape": ""
         },
         "hovertemplate": "System=Sech_P<br>timestamp=%{x}<br>Power=%{y}<extra></extra>",
         "legendgroup": "Sech_P",
         "line": {
          "color": "#00cc96",
          "width": 0
         },
         "marker": {
          "symbol": "circle"
         },
         "mode": "lines",
         "name": "Sech_P",
         "orientation": "v",
         "showlegend": true,
         "stackgroup": "1",
         "type": "scatter",
         "x": [
          "2025-02-12T11:11:57",
          "2025-02-12T11:15:00",
          "2025-02-12T11:30:00",
          "2025-02-12T11:45:00",
          "2025-02-12T12:00:00",
          "2025-02-12T12:15:00",
          "2025-02-12T12:30:00",
          "2025-02-12T12:45:00",
          "2025-02-12T13:00:00",
          "2025-02-12T13:15:00",
          "2025-02-12T13:30:00",
          "2025-02-12T13:45:00",
          "2025-02-12T14:00:00",
          "2025-02-12T14:15:00",
          "2025-02-12T14:30:00",
          "2025-02-12T14:45:00",
          "2025-02-12T15:00:00",
          "2025-02-12T15:15:00",
          "2025-02-12T15:30:00",
          "2025-02-12T15:45:00",
          "2025-02-12T16:00:00",
          "2025-02-12T16:15:00",
          "2025-02-12T16:30:00",
          "2025-02-12T16:45:00",
          "2025-02-12T17:00:00",
          "2025-02-12T17:15:00",
          "2025-02-12T17:30:00",
          "2025-02-12T17:45:00",
          "2025-02-12T18:00:00",
          "2025-02-12T18:15:00",
          "2025-02-12T18:30:00",
          "2025-02-12T18:45:00",
          "2025-02-12T19:00:00",
          "2025-02-12T19:15:00",
          "2025-02-12T19:30:00",
          "2025-02-12T19:45:00",
          "2025-02-12T20:00:00",
          "2025-02-12T20:15:00",
          "2025-02-12T20:30:00",
          "2025-02-12T20:45:00",
          "2025-02-12T21:00:00",
          "2025-02-12T21:15:00",
          "2025-02-12T21:30:00",
          "2025-02-12T21:45:00",
          "2025-02-12T22:00:00",
          "2025-02-12T22:15:00",
          "2025-02-12T22:30:00",
          "2025-02-12T22:45:00",
          "2025-02-12T23:00:00",
          "2025-02-12T23:15:00",
          "2025-02-12T23:30:00",
          "2025-02-12T23:45:00",
          "2025-02-13T00:00:00",
          "2025-02-13T00:15:00",
          "2025-02-13T00:30:00",
          "2025-02-13T00:45:00",
          "2025-02-13T01:00:00",
          "2025-02-13T01:15:00",
          "2025-02-13T01:30:00",
          "2025-02-13T01:45:00",
          "2025-02-13T02:00:00",
          "2025-02-13T02:15:00",
          "2025-02-13T02:30:00",
          "2025-02-13T02:45:00",
          "2025-02-13T03:00:00",
          "2025-02-13T03:15:00",
          "2025-02-13T03:30:00",
          "2025-02-13T03:45:00",
          "2025-02-13T04:00:00",
          "2025-02-13T04:15:00",
          "2025-02-13T04:30:00",
          "2025-02-13T04:45:00",
          "2025-02-13T05:00:00",
          "2025-02-13T05:15:00",
          "2025-02-13T05:30:00",
          "2025-02-13T05:45:00",
          "2025-02-13T06:00:00",
          "2025-02-13T06:15:00",
          "2025-02-13T06:30:00",
          "2025-02-13T06:45:00",
          "2025-02-13T07:00:00",
          "2025-02-13T07:15:00",
          "2025-02-13T07:30:00",
          "2025-02-13T07:45:00",
          "2025-02-13T08:00:00",
          "2025-02-13T08:15:00",
          "2025-02-13T08:30:00",
          "2025-02-13T08:45:00",
          "2025-02-13T09:00:00",
          "2025-02-13T09:15:00",
          "2025-02-13T09:30:00",
          "2025-02-13T09:45:00",
          "2025-02-13T10:00:00",
          "2025-02-13T10:15:00",
          "2025-02-13T10:30:00",
          "2025-02-13T10:45:00",
          "2025-02-13T11:00:00",
          "2025-02-13T11:15:00",
          "2025-02-13T11:30:00",
          "2025-02-13T11:45:00",
          "2025-02-13T12:00:00",
          "2025-02-13T12:15:00",
          "2025-02-13T12:30:00",
          "2025-02-13T12:45:00",
          "2025-02-13T13:00:00",
          "2025-02-13T13:15:00",
          "2025-02-13T13:30:00",
          "2025-02-13T13:45:00",
          "2025-02-13T14:00:00",
          "2025-02-13T14:15:00",
          "2025-02-13T14:30:00",
          "2025-02-13T14:45:00",
          "2025-02-13T15:00:00",
          "2025-02-13T15:15:00",
          "2025-02-13T15:30:00",
          "2025-02-13T15:45:00",
          "2025-02-13T16:00:00"
         ],
         "xaxis": "x",
         "y": [
          1082,
          1140,
          1198,
          1198,
          1252,
          778,
          1209,
          1210,
          1199,
          1207,
          1208,
          1317,
          1303,
          1078,
          1109,
          1099,
          118,
          1037,
          1130,
          76,
          423,
          1067,
          1094,
          1147,
          1170,
          968,
          74,
          100,
          376,
          1075,
          1057,
          1035,
          1026,
          1002,
          189,
          198,
          187,
          191,
          194,
          196,
          189,
          211,
          216,
          228,
          212,
          210,
          197,
          201,
          207,
          202,
          204,
          211,
          193,
          220,
          212,
          219,
          204,
          227,
          222,
          224,
          215,
          224,
          225,
          214,
          219,
          253,
          220,
          221,
          221,
          212,
          216,
          215,
          225,
          221,
          221,
          211,
          206,
          207,
          224,
          203,
          216,
          206,
          219,
          203,
          205,
          200,
          187,
          197,
          1069,
          1029,
          1084,
          1114,
          1099,
          991,
          959,
          1066,
          1056,
          1077,
          1056,
          1006,
          994,
          1131,
          1124,
          1301,
          1190,
          1191,
          1228,
          1211,
          1209,
          1212,
          1171,
          1144,
          1189,
          1246,
          1148,
          1102,
          1192
         ],
         "yaxis": "y"
        },
        {
         "fillpattern": {
          "shape": ""
         },
         "hovertemplate": "System=Dig_P<br>timestamp=%{x}<br>Power=%{y}<extra></extra>",
         "legendgroup": "Dig_P",
         "line": {
          "color": "#ab63fa",
          "width": 0
         },
         "marker": {
          "symbol": "circle"
         },
         "mode": "lines",
         "name": "Dig_P",
         "orientation": "v",
         "showlegend": true,
         "stackgroup": "1",
         "type": "scatter",
         "x": [
          "2025-02-12T11:11:57",
          "2025-02-12T11:15:00",
          "2025-02-12T11:30:00",
          "2025-02-12T11:45:00",
          "2025-02-12T12:00:00",
          "2025-02-12T12:15:00",
          "2025-02-12T12:30:00",
          "2025-02-12T12:45:00",
          "2025-02-12T13:00:00",
          "2025-02-12T13:15:00",
          "2025-02-12T13:30:00",
          "2025-02-12T13:45:00",
          "2025-02-12T14:00:00",
          "2025-02-12T14:15:00",
          "2025-02-12T14:30:00",
          "2025-02-12T14:45:00",
          "2025-02-12T15:00:00",
          "2025-02-12T15:15:00",
          "2025-02-12T15:30:00",
          "2025-02-12T15:45:00",
          "2025-02-12T16:00:00",
          "2025-02-12T16:15:00",
          "2025-02-12T16:30:00",
          "2025-02-12T16:45:00",
          "2025-02-12T17:00:00",
          "2025-02-12T17:15:00",
          "2025-02-12T17:30:00",
          "2025-02-12T17:45:00",
          "2025-02-12T18:00:00",
          "2025-02-12T18:15:00",
          "2025-02-12T18:30:00",
          "2025-02-12T18:45:00",
          "2025-02-12T19:00:00",
          "2025-02-12T19:15:00",
          "2025-02-12T19:30:00",
          "2025-02-12T19:45:00",
          "2025-02-12T20:00:00",
          "2025-02-12T20:15:00",
          "2025-02-12T20:30:00",
          "2025-02-12T20:45:00",
          "2025-02-12T21:00:00",
          "2025-02-12T21:15:00",
          "2025-02-12T21:30:00",
          "2025-02-12T21:45:00",
          "2025-02-12T22:00:00",
          "2025-02-12T22:15:00",
          "2025-02-12T22:30:00",
          "2025-02-12T22:45:00",
          "2025-02-12T23:00:00",
          "2025-02-12T23:15:00",
          "2025-02-12T23:30:00",
          "2025-02-12T23:45:00",
          "2025-02-13T00:00:00",
          "2025-02-13T00:15:00",
          "2025-02-13T00:30:00",
          "2025-02-13T00:45:00",
          "2025-02-13T01:00:00",
          "2025-02-13T01:15:00",
          "2025-02-13T01:30:00",
          "2025-02-13T01:45:00",
          "2025-02-13T02:00:00",
          "2025-02-13T02:15:00",
          "2025-02-13T02:30:00",
          "2025-02-13T02:45:00",
          "2025-02-13T03:00:00",
          "2025-02-13T03:15:00",
          "2025-02-13T03:30:00",
          "2025-02-13T03:45:00",
          "2025-02-13T04:00:00",
          "2025-02-13T04:15:00",
          "2025-02-13T04:30:00",
          "2025-02-13T04:45:00",
          "2025-02-13T05:00:00",
          "2025-02-13T05:15:00",
          "2025-02-13T05:30:00",
          "2025-02-13T05:45:00",
          "2025-02-13T06:00:00",
          "2025-02-13T06:15:00",
          "2025-02-13T06:30:00",
          "2025-02-13T06:45:00",
          "2025-02-13T07:00:00",
          "2025-02-13T07:15:00",
          "2025-02-13T07:30:00",
          "2025-02-13T07:45:00",
          "2025-02-13T08:00:00",
          "2025-02-13T08:15:00",
          "2025-02-13T08:30:00",
          "2025-02-13T08:45:00",
          "2025-02-13T09:00:00",
          "2025-02-13T09:15:00",
          "2025-02-13T09:30:00",
          "2025-02-13T09:45:00",
          "2025-02-13T10:00:00",
          "2025-02-13T10:15:00",
          "2025-02-13T10:30:00",
          "2025-02-13T10:45:00",
          "2025-02-13T11:00:00",
          "2025-02-13T11:15:00",
          "2025-02-13T11:30:00",
          "2025-02-13T11:45:00",
          "2025-02-13T12:00:00",
          "2025-02-13T12:15:00",
          "2025-02-13T12:30:00",
          "2025-02-13T12:45:00",
          "2025-02-13T13:00:00",
          "2025-02-13T13:15:00",
          "2025-02-13T13:30:00",
          "2025-02-13T13:45:00",
          "2025-02-13T14:00:00",
          "2025-02-13T14:15:00",
          "2025-02-13T14:30:00",
          "2025-02-13T14:45:00",
          "2025-02-13T15:00:00",
          "2025-02-13T15:15:00",
          "2025-02-13T15:30:00",
          "2025-02-13T15:45:00",
          "2025-02-13T16:00:00"
         ],
         "xaxis": "x",
         "y": [
          0,
          0,
          0,
          0,
          0,
          0,
          0,
          0,
          0,
          0,
          0,
          0,
          0,
          0,
          0,
          0,
          0,
          0,
          0,
          0,
          0,
          0,
          0,
          0,
          0,
          0,
          0,
          0,
          0,
          0,
          0,
          0,
          0,
          0,
          0,
          0,
          0,
          0,
          0,
          0,
          0,
          0,
          0,
          0,
          0,
          0,
          0,
          0,
          0,
          0,
          0,
          0,
          0,
          0,
          0,
          0,
          0,
          0,
          0,
          0,
          0,
          0,
          0,
          0,
          0,
          0,
          0,
          0,
          0,
          0,
          0,
          0,
          0,
          0,
          0,
          0,
          0,
          0,
          0,
          0,
          0,
          0,
          0,
          0,
          0,
          0,
          0,
          0,
          0,
          0,
          0,
          0,
          0,
          0,
          0,
          0,
          0,
          0,
          0,
          0,
          0,
          0,
          0,
          0,
          0,
          0,
          0,
          0,
          0,
          0,
          0,
          0,
          0,
          0,
          0,
          0,
          0
         ],
         "yaxis": "y"
        },
        {
         "line": {
          "width": 2
         },
         "mode": "lines",
         "name": "Total Generator Power",
         "type": "scatter",
         "x": [
          "2025-02-12T11:11:57",
          "2025-02-12T11:15:00",
          "2025-02-12T11:30:00",
          "2025-02-12T11:45:00",
          "2025-02-12T12:00:00",
          "2025-02-12T12:15:00",
          "2025-02-12T12:30:00",
          "2025-02-12T12:45:00",
          "2025-02-12T13:00:00",
          "2025-02-12T13:15:00",
          "2025-02-12T13:30:00",
          "2025-02-12T13:45:00",
          "2025-02-12T14:00:00",
          "2025-02-12T14:15:00",
          "2025-02-12T14:30:00",
          "2025-02-12T14:45:00",
          "2025-02-12T15:00:00",
          "2025-02-12T15:15:00",
          "2025-02-12T15:30:00",
          "2025-02-12T15:45:00",
          "2025-02-12T16:00:00",
          "2025-02-12T16:15:00",
          "2025-02-12T16:30:00",
          "2025-02-12T16:45:00",
          "2025-02-12T17:00:00",
          "2025-02-12T17:15:00",
          "2025-02-12T17:30:00",
          "2025-02-12T17:45:00",
          "2025-02-12T18:00:00",
          "2025-02-12T18:15:00",
          "2025-02-12T18:30:00",
          "2025-02-12T18:45:00",
          "2025-02-12T19:00:00",
          "2025-02-12T19:15:00",
          "2025-02-12T19:30:00",
          "2025-02-12T19:45:00",
          "2025-02-12T20:00:00",
          "2025-02-12T20:15:00",
          "2025-02-12T20:30:00",
          "2025-02-12T20:45:00",
          "2025-02-12T21:00:00",
          "2025-02-12T21:15:00",
          "2025-02-12T21:30:00",
          "2025-02-12T21:45:00",
          "2025-02-12T22:00:00",
          "2025-02-12T22:15:00",
          "2025-02-12T22:30:00",
          "2025-02-12T22:45:00",
          "2025-02-12T23:00:00",
          "2025-02-12T23:15:00",
          "2025-02-12T23:30:00",
          "2025-02-12T23:45:00",
          "2025-02-13T00:00:00",
          "2025-02-13T00:15:00",
          "2025-02-13T00:30:00",
          "2025-02-13T00:45:00",
          "2025-02-13T01:00:00",
          "2025-02-13T01:15:00",
          "2025-02-13T01:30:00",
          "2025-02-13T01:45:00",
          "2025-02-13T02:00:00",
          "2025-02-13T02:15:00",
          "2025-02-13T02:30:00",
          "2025-02-13T02:45:00",
          "2025-02-13T03:00:00",
          "2025-02-13T03:15:00",
          "2025-02-13T03:30:00",
          "2025-02-13T03:45:00",
          "2025-02-13T04:00:00",
          "2025-02-13T04:15:00",
          "2025-02-13T04:30:00",
          "2025-02-13T04:45:00",
          "2025-02-13T05:00:00",
          "2025-02-13T05:15:00",
          "2025-02-13T05:30:00",
          "2025-02-13T05:45:00",
          "2025-02-13T06:00:00",
          "2025-02-13T06:15:00",
          "2025-02-13T06:30:00",
          "2025-02-13T06:45:00",
          "2025-02-13T07:00:00",
          "2025-02-13T07:15:00",
          "2025-02-13T07:30:00",
          "2025-02-13T07:45:00",
          "2025-02-13T08:00:00",
          "2025-02-13T08:15:00",
          "2025-02-13T08:30:00",
          "2025-02-13T08:45:00",
          "2025-02-13T09:00:00",
          "2025-02-13T09:15:00",
          "2025-02-13T09:30:00",
          "2025-02-13T09:45:00",
          "2025-02-13T10:00:00",
          "2025-02-13T10:15:00",
          "2025-02-13T10:30:00",
          "2025-02-13T10:45:00",
          "2025-02-13T11:00:00",
          "2025-02-13T11:15:00",
          "2025-02-13T11:30:00",
          "2025-02-13T11:45:00",
          "2025-02-13T12:00:00",
          "2025-02-13T12:15:00",
          "2025-02-13T12:30:00",
          "2025-02-13T12:45:00",
          "2025-02-13T13:00:00",
          "2025-02-13T13:15:00",
          "2025-02-13T13:30:00",
          "2025-02-13T13:45:00",
          "2025-02-13T14:00:00",
          "2025-02-13T14:15:00",
          "2025-02-13T14:30:00",
          "2025-02-13T14:45:00",
          "2025-02-13T15:00:00",
          "2025-02-13T15:15:00",
          "2025-02-13T15:30:00",
          "2025-02-13T15:45:00",
          "2025-02-13T16:00:00"
         ],
         "y": [
          1922,
          2026,
          2000,
          1996,
          2037,
          1428,
          2088,
          2171,
          2136,
          2183,
          2143,
          2259,
          2264,
          2045,
          1966,
          1911,
          238,
          1824,
          1883,
          218,
          1506,
          1838,
          1812,
          1842,
          1807,
          1747,
          78,
          32,
          1397,
          1899,
          1863,
          1881,
          1926,
          1822,
          1086,
          1024,
          1030,
          906,
          935,
          961,
          904,
          957,
          987,
          972,
          979,
          877,
          858,
          842,
          821,
          824,
          819,
          852,
          823,
          834,
          835,
          909,
          856,
          987,
          972,
          863,
          834,
          841,
          927,
          896,
          852,
          955,
          874,
          903,
          901,
          963,
          901,
          939,
          948,
          917,
          937,
          951,
          935,
          1104,
          1082,
          924,
          928,
          899,
          1088,
          1017,
          969,
          1049,
          963,
          790,
          1905,
          1916,
          1842,
          2030,
          1923,
          1843,
          1821,
          1794,
          1912,
          1950,
          1928,
          1925,
          1755,
          1963,
          1941,
          2131,
          2079,
          2059,
          1961,
          2117,
          2157,
          2090,
          1946,
          2035,
          2073,
          2098,
          1937,
          1924,
          2043
         ]
        }
       ],
       "layout": {
        "height": 600,
        "legend": {
         "title": {
          "text": "System"
         },
         "tracegroupgap": 0
        },
        "showlegend": true,
        "template": {
         "data": {
          "bar": [
           {
            "error_x": {
             "color": "rgb(36,36,36)"
            },
            "error_y": {
             "color": "rgb(36,36,36)"
            },
            "marker": {
             "line": {
              "color": "white",
              "width": 0.5
             },
             "pattern": {
              "fillmode": "overlay",
              "size": 10,
              "solidity": 0.2
             }
            },
            "type": "bar"
           }
          ],
          "barpolar": [
           {
            "marker": {
             "line": {
              "color": "white",
              "width": 0.5
             },
             "pattern": {
              "fillmode": "overlay",
              "size": 10,
              "solidity": 0.2
             }
            },
            "type": "barpolar"
           }
          ],
          "carpet": [
           {
            "aaxis": {
             "endlinecolor": "rgb(36,36,36)",
             "gridcolor": "white",
             "linecolor": "white",
             "minorgridcolor": "white",
             "startlinecolor": "rgb(36,36,36)"
            },
            "baxis": {
             "endlinecolor": "rgb(36,36,36)",
             "gridcolor": "white",
             "linecolor": "white",
             "minorgridcolor": "white",
             "startlinecolor": "rgb(36,36,36)"
            },
            "type": "carpet"
           }
          ],
          "choropleth": [
           {
            "colorbar": {
             "outlinewidth": 1,
             "tickcolor": "rgb(36,36,36)",
             "ticks": "outside"
            },
            "type": "choropleth"
           }
          ],
          "contour": [
           {
            "colorbar": {
             "outlinewidth": 1,
             "tickcolor": "rgb(36,36,36)",
             "ticks": "outside"
            },
            "colorscale": [
             [
              0,
              "#440154"
             ],
             [
              0.1111111111111111,
              "#482878"
             ],
             [
              0.2222222222222222,
              "#3e4989"
             ],
             [
              0.3333333333333333,
              "#31688e"
             ],
             [
              0.4444444444444444,
              "#26828e"
             ],
             [
              0.5555555555555556,
              "#1f9e89"
             ],
             [
              0.6666666666666666,
              "#35b779"
             ],
             [
              0.7777777777777778,
              "#6ece58"
             ],
             [
              0.8888888888888888,
              "#b5de2b"
             ],
             [
              1,
              "#fde725"
             ]
            ],
            "type": "contour"
           }
          ],
          "contourcarpet": [
           {
            "colorbar": {
             "outlinewidth": 1,
             "tickcolor": "rgb(36,36,36)",
             "ticks": "outside"
            },
            "type": "contourcarpet"
           }
          ],
          "heatmap": [
           {
            "colorbar": {
             "outlinewidth": 1,
             "tickcolor": "rgb(36,36,36)",
             "ticks": "outside"
            },
            "colorscale": [
             [
              0,
              "#440154"
             ],
             [
              0.1111111111111111,
              "#482878"
             ],
             [
              0.2222222222222222,
              "#3e4989"
             ],
             [
              0.3333333333333333,
              "#31688e"
             ],
             [
              0.4444444444444444,
              "#26828e"
             ],
             [
              0.5555555555555556,
              "#1f9e89"
             ],
             [
              0.6666666666666666,
              "#35b779"
             ],
             [
              0.7777777777777778,
              "#6ece58"
             ],
             [
              0.8888888888888888,
              "#b5de2b"
             ],
             [
              1,
              "#fde725"
             ]
            ],
            "type": "heatmap"
           }
          ],
          "heatmapgl": [
           {
            "colorbar": {
             "outlinewidth": 1,
             "tickcolor": "rgb(36,36,36)",
             "ticks": "outside"
            },
            "colorscale": [
             [
              0,
              "#440154"
             ],
             [
              0.1111111111111111,
              "#482878"
             ],
             [
              0.2222222222222222,
              "#3e4989"
             ],
             [
              0.3333333333333333,
              "#31688e"
             ],
             [
              0.4444444444444444,
              "#26828e"
             ],
             [
              0.5555555555555556,
              "#1f9e89"
             ],
             [
              0.6666666666666666,
              "#35b779"
             ],
             [
              0.7777777777777778,
              "#6ece58"
             ],
             [
              0.8888888888888888,
              "#b5de2b"
             ],
             [
              1,
              "#fde725"
             ]
            ],
            "type": "heatmapgl"
           }
          ],
          "histogram": [
           {
            "marker": {
             "line": {
              "color": "white",
              "width": 0.6
             }
            },
            "type": "histogram"
           }
          ],
          "histogram2d": [
           {
            "colorbar": {
             "outlinewidth": 1,
             "tickcolor": "rgb(36,36,36)",
             "ticks": "outside"
            },
            "colorscale": [
             [
              0,
              "#440154"
             ],
             [
              0.1111111111111111,
              "#482878"
             ],
             [
              0.2222222222222222,
              "#3e4989"
             ],
             [
              0.3333333333333333,
              "#31688e"
             ],
             [
              0.4444444444444444,
              "#26828e"
             ],
             [
              0.5555555555555556,
              "#1f9e89"
             ],
             [
              0.6666666666666666,
              "#35b779"
             ],
             [
              0.7777777777777778,
              "#6ece58"
             ],
             [
              0.8888888888888888,
              "#b5de2b"
             ],
             [
              1,
              "#fde725"
             ]
            ],
            "type": "histogram2d"
           }
          ],
          "histogram2dcontour": [
           {
            "colorbar": {
             "outlinewidth": 1,
             "tickcolor": "rgb(36,36,36)",
             "ticks": "outside"
            },
            "colorscale": [
             [
              0,
              "#440154"
             ],
             [
              0.1111111111111111,
              "#482878"
             ],
             [
              0.2222222222222222,
              "#3e4989"
             ],
             [
              0.3333333333333333,
              "#31688e"
             ],
             [
              0.4444444444444444,
              "#26828e"
             ],
             [
              0.5555555555555556,
              "#1f9e89"
             ],
             [
              0.6666666666666666,
              "#35b779"
             ],
             [
              0.7777777777777778,
              "#6ece58"
             ],
             [
              0.8888888888888888,
              "#b5de2b"
             ],
             [
              1,
              "#fde725"
             ]
            ],
            "type": "histogram2dcontour"
           }
          ],
          "mesh3d": [
           {
            "colorbar": {
             "outlinewidth": 1,
             "tickcolor": "rgb(36,36,36)",
             "ticks": "outside"
            },
            "type": "mesh3d"
           }
          ],
          "parcoords": [
           {
            "line": {
             "colorbar": {
              "outlinewidth": 1,
              "tickcolor": "rgb(36,36,36)",
              "ticks": "outside"
             }
            },
            "type": "parcoords"
           }
          ],
          "pie": [
           {
            "automargin": true,
            "type": "pie"
           }
          ],
          "scatter": [
           {
            "fillpattern": {
             "fillmode": "overlay",
             "size": 10,
             "solidity": 0.2
            },
            "type": "scatter"
           }
          ],
          "scatter3d": [
           {
            "line": {
             "colorbar": {
              "outlinewidth": 1,
              "tickcolor": "rgb(36,36,36)",
              "ticks": "outside"
             }
            },
            "marker": {
             "colorbar": {
              "outlinewidth": 1,
              "tickcolor": "rgb(36,36,36)",
              "ticks": "outside"
             }
            },
            "type": "scatter3d"
           }
          ],
          "scattercarpet": [
           {
            "marker": {
             "colorbar": {
              "outlinewidth": 1,
              "tickcolor": "rgb(36,36,36)",
              "ticks": "outside"
             }
            },
            "type": "scattercarpet"
           }
          ],
          "scattergeo": [
           {
            "marker": {
             "colorbar": {
              "outlinewidth": 1,
              "tickcolor": "rgb(36,36,36)",
              "ticks": "outside"
             }
            },
            "type": "scattergeo"
           }
          ],
          "scattergl": [
           {
            "marker": {
             "colorbar": {
              "outlinewidth": 1,
              "tickcolor": "rgb(36,36,36)",
              "ticks": "outside"
             }
            },
            "type": "scattergl"
           }
          ],
          "scattermapbox": [
           {
            "marker": {
             "colorbar": {
              "outlinewidth": 1,
              "tickcolor": "rgb(36,36,36)",
              "ticks": "outside"
             }
            },
            "type": "scattermapbox"
           }
          ],
          "scatterpolar": [
           {
            "marker": {
             "colorbar": {
              "outlinewidth": 1,
              "tickcolor": "rgb(36,36,36)",
              "ticks": "outside"
             }
            },
            "type": "scatterpolar"
           }
          ],
          "scatterpolargl": [
           {
            "marker": {
             "colorbar": {
              "outlinewidth": 1,
              "tickcolor": "rgb(36,36,36)",
              "ticks": "outside"
             }
            },
            "type": "scatterpolargl"
           }
          ],
          "scatterternary": [
           {
            "marker": {
             "colorbar": {
              "outlinewidth": 1,
              "tickcolor": "rgb(36,36,36)",
              "ticks": "outside"
             }
            },
            "type": "scatterternary"
           }
          ],
          "surface": [
           {
            "colorbar": {
             "outlinewidth": 1,
             "tickcolor": "rgb(36,36,36)",
             "ticks": "outside"
            },
            "colorscale": [
             [
              0,
              "#440154"
             ],
             [
              0.1111111111111111,
              "#482878"
             ],
             [
              0.2222222222222222,
              "#3e4989"
             ],
             [
              0.3333333333333333,
              "#31688e"
             ],
             [
              0.4444444444444444,
              "#26828e"
             ],
             [
              0.5555555555555556,
              "#1f9e89"
             ],
             [
              0.6666666666666666,
              "#35b779"
             ],
             [
              0.7777777777777778,
              "#6ece58"
             ],
             [
              0.8888888888888888,
              "#b5de2b"
             ],
             [
              1,
              "#fde725"
             ]
            ],
            "type": "surface"
           }
          ],
          "table": [
           {
            "cells": {
             "fill": {
              "color": "rgb(237,237,237)"
             },
             "line": {
              "color": "white"
             }
            },
            "header": {
             "fill": {
              "color": "rgb(217,217,217)"
             },
             "line": {
              "color": "white"
             }
            },
            "type": "table"
           }
          ]
         },
         "layout": {
          "annotationdefaults": {
           "arrowhead": 0,
           "arrowwidth": 1
          },
          "autotypenumbers": "strict",
          "coloraxis": {
           "colorbar": {
            "outlinewidth": 1,
            "tickcolor": "rgb(36,36,36)",
            "ticks": "outside"
           }
          },
          "colorscale": {
           "diverging": [
            [
             0,
             "rgb(103,0,31)"
            ],
            [
             0.1,
             "rgb(178,24,43)"
            ],
            [
             0.2,
             "rgb(214,96,77)"
            ],
            [
             0.3,
             "rgb(244,165,130)"
            ],
            [
             0.4,
             "rgb(253,219,199)"
            ],
            [
             0.5,
             "rgb(247,247,247)"
            ],
            [
             0.6,
             "rgb(209,229,240)"
            ],
            [
             0.7,
             "rgb(146,197,222)"
            ],
            [
             0.8,
             "rgb(67,147,195)"
            ],
            [
             0.9,
             "rgb(33,102,172)"
            ],
            [
             1,
             "rgb(5,48,97)"
            ]
           ],
           "sequential": [
            [
             0,
             "#440154"
            ],
            [
             0.1111111111111111,
             "#482878"
            ],
            [
             0.2222222222222222,
             "#3e4989"
            ],
            [
             0.3333333333333333,
             "#31688e"
            ],
            [
             0.4444444444444444,
             "#26828e"
            ],
            [
             0.5555555555555556,
             "#1f9e89"
            ],
            [
             0.6666666666666666,
             "#35b779"
            ],
            [
             0.7777777777777778,
             "#6ece58"
            ],
            [
             0.8888888888888888,
             "#b5de2b"
            ],
            [
             1,
             "#fde725"
            ]
           ],
           "sequentialminus": [
            [
             0,
             "#440154"
            ],
            [
             0.1111111111111111,
             "#482878"
            ],
            [
             0.2222222222222222,
             "#3e4989"
            ],
            [
             0.3333333333333333,
             "#31688e"
            ],
            [
             0.4444444444444444,
             "#26828e"
            ],
            [
             0.5555555555555556,
             "#1f9e89"
            ],
            [
             0.6666666666666666,
             "#35b779"
            ],
            [
             0.7777777777777778,
             "#6ece58"
            ],
            [
             0.8888888888888888,
             "#b5de2b"
            ],
            [
             1,
             "#fde725"
            ]
           ]
          },
          "colorway": [
           "#1F77B4",
           "#FF7F0E",
           "#2CA02C",
           "#D62728",
           "#9467BD",
           "#8C564B",
           "#E377C2",
           "#7F7F7F",
           "#BCBD22",
           "#17BECF"
          ],
          "font": {
           "color": "rgb(36,36,36)"
          },
          "geo": {
           "bgcolor": "white",
           "lakecolor": "white",
           "landcolor": "white",
           "showlakes": true,
           "showland": true,
           "subunitcolor": "white"
          },
          "hoverlabel": {
           "align": "left"
          },
          "hovermode": "closest",
          "mapbox": {
           "style": "light"
          },
          "paper_bgcolor": "white",
          "plot_bgcolor": "white",
          "polar": {
           "angularaxis": {
            "gridcolor": "rgb(232,232,232)",
            "linecolor": "rgb(36,36,36)",
            "showgrid": false,
            "showline": true,
            "ticks": "outside"
           },
           "bgcolor": "white",
           "radialaxis": {
            "gridcolor": "rgb(232,232,232)",
            "linecolor": "rgb(36,36,36)",
            "showgrid": false,
            "showline": true,
            "ticks": "outside"
           }
          },
          "scene": {
           "xaxis": {
            "backgroundcolor": "white",
            "gridcolor": "rgb(232,232,232)",
            "gridwidth": 2,
            "linecolor": "rgb(36,36,36)",
            "showbackground": true,
            "showgrid": false,
            "showline": true,
            "ticks": "outside",
            "zeroline": false,
            "zerolinecolor": "rgb(36,36,36)"
           },
           "yaxis": {
            "backgroundcolor": "white",
            "gridcolor": "rgb(232,232,232)",
            "gridwidth": 2,
            "linecolor": "rgb(36,36,36)",
            "showbackground": true,
            "showgrid": false,
            "showline": true,
            "ticks": "outside",
            "zeroline": false,
            "zerolinecolor": "rgb(36,36,36)"
           },
           "zaxis": {
            "backgroundcolor": "white",
            "gridcolor": "rgb(232,232,232)",
            "gridwidth": 2,
            "linecolor": "rgb(36,36,36)",
            "showbackground": true,
            "showgrid": false,
            "showline": true,
            "ticks": "outside",
            "zeroline": false,
            "zerolinecolor": "rgb(36,36,36)"
           }
          },
          "shapedefaults": {
           "fillcolor": "black",
           "line": {
            "width": 0
           },
           "opacity": 0.3
          },
          "ternary": {
           "aaxis": {
            "gridcolor": "rgb(232,232,232)",
            "linecolor": "rgb(36,36,36)",
            "showgrid": false,
            "showline": true,
            "ticks": "outside"
           },
           "baxis": {
            "gridcolor": "rgb(232,232,232)",
            "linecolor": "rgb(36,36,36)",
            "showgrid": false,
            "showline": true,
            "ticks": "outside"
           },
           "bgcolor": "white",
           "caxis": {
            "gridcolor": "rgb(232,232,232)",
            "linecolor": "rgb(36,36,36)",
            "showgrid": false,
            "showline": true,
            "ticks": "outside"
           }
          },
          "title": {
           "x": 0.05
          },
          "xaxis": {
           "automargin": true,
           "gridcolor": "rgb(232,232,232)",
           "linecolor": "rgb(36,36,36)",
           "showgrid": false,
           "showline": true,
           "ticks": "outside",
           "title": {
            "standoff": 15
           },
           "zeroline": false,
           "zerolinecolor": "rgb(36,36,36)"
          },
          "yaxis": {
           "automargin": true,
           "gridcolor": "rgb(232,232,232)",
           "linecolor": "rgb(36,36,36)",
           "showgrid": false,
           "showline": true,
           "ticks": "outside",
           "title": {
            "standoff": 15
           },
           "zeroline": false,
           "zerolinecolor": "rgb(36,36,36)"
          }
         }
        },
        "title": {
         "text": "Power Output by Heat Exchangers and Other Systems"
        },
        "xaxis": {
         "anchor": "y",
         "domain": [
          0,
          1
         ],
         "title": {
          "text": "Timestamp"
         }
        },
        "yaxis": {
         "anchor": "x",
         "domain": [
          0,
          1
         ],
         "title": {
          "text": "Power"
         }
        }
       }
      }
     },
     "metadata": {},
     "output_type": "display_data"
    },
    {
     "data": {
      "application/vnd.plotly.v1+json": {
       "config": {
        "plotlyServerURL": "https://plot.ly"
       },
       "data": [
        {
         "fillpattern": {
          "shape": ""
         },
         "hovertemplate": "System=HX1_P<br>timestamp=%{x}<br>% of Generator Power=%{y}<extra></extra>",
         "legendgroup": "HX1_P",
         "line": {
          "color": "#636efa",
          "width": 0
         },
         "marker": {
          "symbol": "circle"
         },
         "mode": "lines",
         "name": "HX1_P",
         "orientation": "v",
         "showlegend": true,
         "stackgroup": "1",
         "type": "scatter",
         "x": [
          "2025-02-12T11:11:57",
          "2025-02-12T11:15:00",
          "2025-02-12T11:30:00",
          "2025-02-12T11:45:00",
          "2025-02-12T12:00:00",
          "2025-02-12T12:15:00",
          "2025-02-12T12:30:00",
          "2025-02-12T12:45:00",
          "2025-02-12T13:00:00",
          "2025-02-12T13:15:00",
          "2025-02-12T13:30:00",
          "2025-02-12T13:45:00",
          "2025-02-12T14:00:00",
          "2025-02-12T14:15:00",
          "2025-02-12T14:30:00",
          "2025-02-12T14:45:00",
          "2025-02-12T15:00:00",
          "2025-02-12T15:15:00",
          "2025-02-12T15:30:00",
          "2025-02-12T15:45:00",
          "2025-02-12T16:00:00",
          "2025-02-12T16:15:00",
          "2025-02-12T16:30:00",
          "2025-02-12T16:45:00",
          "2025-02-12T17:00:00",
          "2025-02-12T17:15:00",
          "2025-02-12T17:30:00",
          "2025-02-12T17:45:00",
          "2025-02-12T18:00:00",
          "2025-02-12T18:15:00",
          "2025-02-12T18:30:00",
          "2025-02-12T18:45:00",
          "2025-02-12T19:00:00",
          "2025-02-12T19:15:00",
          "2025-02-12T19:30:00",
          "2025-02-12T19:45:00",
          "2025-02-12T20:00:00",
          "2025-02-12T20:15:00",
          "2025-02-12T20:30:00",
          "2025-02-12T20:45:00",
          "2025-02-12T21:00:00",
          "2025-02-12T21:15:00",
          "2025-02-12T21:30:00",
          "2025-02-12T21:45:00",
          "2025-02-12T22:00:00",
          "2025-02-12T22:15:00",
          "2025-02-12T22:30:00",
          "2025-02-12T22:45:00",
          "2025-02-12T23:00:00",
          "2025-02-12T23:15:00",
          "2025-02-12T23:30:00",
          "2025-02-12T23:45:00",
          "2025-02-13T00:00:00",
          "2025-02-13T00:15:00",
          "2025-02-13T00:30:00",
          "2025-02-13T00:45:00",
          "2025-02-13T01:00:00",
          "2025-02-13T01:15:00",
          "2025-02-13T01:30:00",
          "2025-02-13T01:45:00",
          "2025-02-13T02:00:00",
          "2025-02-13T02:15:00",
          "2025-02-13T02:30:00",
          "2025-02-13T02:45:00",
          "2025-02-13T03:00:00",
          "2025-02-13T03:15:00",
          "2025-02-13T03:30:00",
          "2025-02-13T03:45:00",
          "2025-02-13T04:00:00",
          "2025-02-13T04:15:00",
          "2025-02-13T04:30:00",
          "2025-02-13T04:45:00",
          "2025-02-13T05:00:00",
          "2025-02-13T05:15:00",
          "2025-02-13T05:30:00",
          "2025-02-13T05:45:00",
          "2025-02-13T06:00:00",
          "2025-02-13T06:15:00",
          "2025-02-13T06:30:00",
          "2025-02-13T06:45:00",
          "2025-02-13T07:00:00",
          "2025-02-13T07:15:00",
          "2025-02-13T07:30:00",
          "2025-02-13T07:45:00",
          "2025-02-13T08:00:00",
          "2025-02-13T08:15:00",
          "2025-02-13T08:30:00",
          "2025-02-13T08:45:00",
          "2025-02-13T09:00:00",
          "2025-02-13T09:15:00",
          "2025-02-13T09:30:00",
          "2025-02-13T09:45:00",
          "2025-02-13T10:00:00",
          "2025-02-13T10:15:00",
          "2025-02-13T10:30:00",
          "2025-02-13T10:45:00",
          "2025-02-13T11:00:00",
          "2025-02-13T11:15:00",
          "2025-02-13T11:30:00",
          "2025-02-13T11:45:00",
          "2025-02-13T12:00:00",
          "2025-02-13T12:15:00",
          "2025-02-13T12:30:00",
          "2025-02-13T12:45:00",
          "2025-02-13T13:00:00",
          "2025-02-13T13:15:00",
          "2025-02-13T13:30:00",
          "2025-02-13T13:45:00",
          "2025-02-13T14:00:00",
          "2025-02-13T14:15:00",
          "2025-02-13T14:30:00",
          "2025-02-13T14:45:00",
          "2025-02-13T15:00:00",
          "2025-02-13T15:15:00",
          "2025-02-13T15:30:00",
          "2025-02-13T15:45:00",
          "2025-02-13T16:00:00"
         ],
         "xaxis": "x",
         "y": [
          18.6264308012487,
          16.88055281342547,
          16.8,
          17.78557114228457,
          17.820324005891017,
          20.938375350140056,
          19.588122605363985,
          19.806540764624597,
          19.803370786516854,
          18.781493357764546,
          19.038730751283246,
          17.83975210270031,
          17.97703180212014,
          19.853300733496333,
          21.15971515768057,
          22.239665096807954,
          69.32773109243698,
          20.010964912280702,
          18.852894317578333,
          69.72477064220183,
          8.565737051792828,
          17.899891186071816,
          19.15011037527594,
          18.403908794788272,
          19.811842833425565,
          20.892959358900974,
          238.46153846153845,
          65.625,
          8.017179670722978,
          19.32596103212217,
          18.303811057434245,
          20.83997873471558,
          20.976116303219104,
          20.142700329308454,
          37.75322283609576,
          41.69921875,
          41.067961165048544,
          42.27373068432671,
          40.64171122994652,
          41.41519250780437,
          40.26548672566372,
          36.36363636363637,
          34.04255319148936,
          33.0246913580247,
          33.605720122574056,
          39.45267958950969,
          38.111888111888106,
          41.09263657957244,
          37.880633373934224,
          37.5,
          39.804639804639805,
          37.558685446009385,
          37.30255164034022,
          39.568345323741006,
          38.32335329341318,
          37.733773377337734,
          38.78504672897196,
          33.130699088145896,
          33.1275720164609,
          36.03707995365006,
          36.330935251798564,
          37.5743162901308,
          32.793959007551244,
          36.830357142857146,
          37.558685446009385,
          34.76439790575917,
          36.95652173913043,
          34.772978959025465,
          38.6237513873474,
          35.82554517133956,
          40.288568257491676,
          37.38019169329074,
          33.12236286919831,
          41.33042529989095,
          40.87513340448239,
          37.74973711882229,
          34.973262032085564,
          34.78260869565217,
          34.93530499075786,
          40.476190476190474,
          38.793103448275865,
          42.15795328142381,
          34.83455882352941,
          41.98623402163225,
          42.414860681114554,
          36.98760724499523,
          43.821391484942886,
          37.46835443037975,
          18.21522309711286,
          16.38830897703549,
          17.806731813246472,
          18.472906403940886,
          16.796671866874675,
          17.905588714053174,
          19.824272377814385,
          20.45707915273133,
          18.723849372384937,
          18.666666666666668,
          18.87966804979253,
          18.49350649350649,
          21.253561253561255,
          18.33927661742231,
          18.39258114374034,
          17.22196152041295,
          17.652717652717655,
          17.484215638659542,
          19.6838347781744,
          17.24137931034483,
          17.477978674084376,
          17.22488038277512,
          19.06474820143885,
          21.326781326781326,
          17.221418234442837,
          17.54051477597712,
          17.759421786267424,
          17.775467775467778,
          17.131669114047966
         ],
         "yaxis": "y"
        },
        {
         "fillpattern": {
          "shape": ""
         },
         "hovertemplate": "System=HX2_P<br>timestamp=%{x}<br>% of Generator Power=%{y}<extra></extra>",
         "legendgroup": "HX2_P",
         "line": {
          "color": "#EF553B",
          "width": 0
         },
         "marker": {
          "symbol": "circle"
         },
         "mode": "lines",
         "name": "HX2_P",
         "orientation": "v",
         "showlegend": true,
         "stackgroup": "1",
         "type": "scatter",
         "x": [
          "2025-02-12T11:11:57",
          "2025-02-12T11:15:00",
          "2025-02-12T11:30:00",
          "2025-02-12T11:45:00",
          "2025-02-12T12:00:00",
          "2025-02-12T12:15:00",
          "2025-02-12T12:30:00",
          "2025-02-12T12:45:00",
          "2025-02-12T13:00:00",
          "2025-02-12T13:15:00",
          "2025-02-12T13:30:00",
          "2025-02-12T13:45:00",
          "2025-02-12T14:00:00",
          "2025-02-12T14:15:00",
          "2025-02-12T14:30:00",
          "2025-02-12T14:45:00",
          "2025-02-12T15:00:00",
          "2025-02-12T15:15:00",
          "2025-02-12T15:30:00",
          "2025-02-12T15:45:00",
          "2025-02-12T16:00:00",
          "2025-02-12T16:15:00",
          "2025-02-12T16:30:00",
          "2025-02-12T16:45:00",
          "2025-02-12T17:00:00",
          "2025-02-12T17:15:00",
          "2025-02-12T17:30:00",
          "2025-02-12T17:45:00",
          "2025-02-12T18:00:00",
          "2025-02-12T18:15:00",
          "2025-02-12T18:30:00",
          "2025-02-12T18:45:00",
          "2025-02-12T19:00:00",
          "2025-02-12T19:15:00",
          "2025-02-12T19:30:00",
          "2025-02-12T19:45:00",
          "2025-02-12T20:00:00",
          "2025-02-12T20:15:00",
          "2025-02-12T20:30:00",
          "2025-02-12T20:45:00",
          "2025-02-12T21:00:00",
          "2025-02-12T21:15:00",
          "2025-02-12T21:30:00",
          "2025-02-12T21:45:00",
          "2025-02-12T22:00:00",
          "2025-02-12T22:15:00",
          "2025-02-12T22:30:00",
          "2025-02-12T22:45:00",
          "2025-02-12T23:00:00",
          "2025-02-12T23:15:00",
          "2025-02-12T23:30:00",
          "2025-02-12T23:45:00",
          "2025-02-13T00:00:00",
          "2025-02-13T00:15:00",
          "2025-02-13T00:30:00",
          "2025-02-13T00:45:00",
          "2025-02-13T01:00:00",
          "2025-02-13T01:15:00",
          "2025-02-13T01:30:00",
          "2025-02-13T01:45:00",
          "2025-02-13T02:00:00",
          "2025-02-13T02:15:00",
          "2025-02-13T02:30:00",
          "2025-02-13T02:45:00",
          "2025-02-13T03:00:00",
          "2025-02-13T03:15:00",
          "2025-02-13T03:30:00",
          "2025-02-13T03:45:00",
          "2025-02-13T04:00:00",
          "2025-02-13T04:15:00",
          "2025-02-13T04:30:00",
          "2025-02-13T04:45:00",
          "2025-02-13T05:00:00",
          "2025-02-13T05:15:00",
          "2025-02-13T05:30:00",
          "2025-02-13T05:45:00",
          "2025-02-13T06:00:00",
          "2025-02-13T06:15:00",
          "2025-02-13T06:30:00",
          "2025-02-13T06:45:00",
          "2025-02-13T07:00:00",
          "2025-02-13T07:15:00",
          "2025-02-13T07:30:00",
          "2025-02-13T07:45:00",
          "2025-02-13T08:00:00",
          "2025-02-13T08:15:00",
          "2025-02-13T08:30:00",
          "2025-02-13T08:45:00",
          "2025-02-13T09:00:00",
          "2025-02-13T09:15:00",
          "2025-02-13T09:30:00",
          "2025-02-13T09:45:00",
          "2025-02-13T10:00:00",
          "2025-02-13T10:15:00",
          "2025-02-13T10:30:00",
          "2025-02-13T10:45:00",
          "2025-02-13T11:00:00",
          "2025-02-13T11:15:00",
          "2025-02-13T11:30:00",
          "2025-02-13T11:45:00",
          "2025-02-13T12:00:00",
          "2025-02-13T12:15:00",
          "2025-02-13T12:30:00",
          "2025-02-13T12:45:00",
          "2025-02-13T13:00:00",
          "2025-02-13T13:15:00",
          "2025-02-13T13:30:00",
          "2025-02-13T13:45:00",
          "2025-02-13T14:00:00",
          "2025-02-13T14:15:00",
          "2025-02-13T14:30:00",
          "2025-02-13T14:45:00",
          "2025-02-13T15:00:00",
          "2025-02-13T15:15:00",
          "2025-02-13T15:30:00",
          "2025-02-13T15:45:00",
          "2025-02-13T16:00:00"
         ],
         "xaxis": "x",
         "y": [
          18.10613943808533,
          17.966436327739387,
          17.549999999999997,
          18.637274549098194,
          18.163966617574864,
          20.3781512605042,
          19.300766283524904,
          19.852602487333026,
          20.177902621722847,
          19.422812643151627,
          20.01866542230518,
          17.751217352810976,
          18.948763250883392,
          21.075794621026894,
          21.05798575788403,
          19.832548403976975,
          58.82352941176471,
          20.175438596491226,
          19.012214551248007,
          67.43119266055045,
          9.428950863213812,
          17.73667029379761,
          19.426048565121413,
          19.163952225841477,
          19.756502490315437,
          19.977103606182027,
          187.17948717948718,
          68.75,
          9.234073013600574,
          19.378620326487624,
          20.075147611379496,
          20.78681552365763,
          20.976116303219104,
          19.978046103183313,
          37.10865561694291,
          42.578125,
          40.77669902912621,
          41.280353200883,
          41.06951871657754,
          41.935483870967744,
          42.14601769911505,
          36.677115987460816,
          34.447821681864234,
          33.95061728395062,
          33.912155260469866,
          38.76852907639681,
          38.344988344988344,
          40.02375296912114,
          37.880633373934224,
          36.89320388349515,
          37.11843711843712,
          37.08920187793427,
          38.03159173754557,
          37.170263788968825,
          36.40718562874252,
          33.33333333333333,
          38.901869158878505,
          33.130699088145896,
          32.61316872427983,
          36.152954808806484,
          36.09112709832134,
          36.86087990487515,
          34.19633225458468,
          36.27232142857143,
          40.962441314553985,
          31.623036649214658,
          35.92677345537758,
          35.65891472868217,
          37.40288568257492,
          37.38317757009346,
          40.066592674805776,
          39.51011714589989,
          34.59915611814346,
          40.78516902944384,
          37.03308431163287,
          38.48580441640379,
          35.08021390374332,
          35.688405797101446,
          34.93530499075786,
          40.58441558441558,
          37.39224137931034,
          43.937708565072306,
          36.67279411764706,
          39.03638151425762,
          42.414860681114554,
          37.27359389895138,
          41.01765316718588,
          36.9620253164557,
          18.89763779527559,
          16.8580375782881,
          18.729641693811075,
          16.40394088669951,
          17.108684347373895,
          17.905588714053174,
          19.934102141680395,
          20.791527313266446,
          18.619246861924683,
          19.435897435897438,
          18.983402489626556,
          17.81818181818182,
          20.284900284900285,
          18.33927661742231,
          19.26841834106131,
          17.785077428437354,
          17.364117364117366,
          16.755706653715396,
          19.275879653238142,
          17.52479924421351,
          17.941585535465926,
          16.794258373205743,
          18.80781089414183,
          17.641277641277643,
          17.173178967679693,
          16.873212583412776,
          18.275684047496128,
          18.139293139293137,
          17.08272148800783
         ],
         "yaxis": "y"
        },
        {
         "fillpattern": {
          "shape": ""
         },
         "hovertemplate": "System=Sech_P<br>timestamp=%{x}<br>% of Generator Power=%{y}<extra></extra>",
         "legendgroup": "Sech_P",
         "line": {
          "color": "#00cc96",
          "width": 0
         },
         "marker": {
          "symbol": "circle"
         },
         "mode": "lines",
         "name": "Sech_P",
         "orientation": "v",
         "showlegend": true,
         "stackgroup": "1",
         "type": "scatter",
         "x": [
          "2025-02-12T11:11:57",
          "2025-02-12T11:15:00",
          "2025-02-12T11:30:00",
          "2025-02-12T11:45:00",
          "2025-02-12T12:00:00",
          "2025-02-12T12:15:00",
          "2025-02-12T12:30:00",
          "2025-02-12T12:45:00",
          "2025-02-12T13:00:00",
          "2025-02-12T13:15:00",
          "2025-02-12T13:30:00",
          "2025-02-12T13:45:00",
          "2025-02-12T14:00:00",
          "2025-02-12T14:15:00",
          "2025-02-12T14:30:00",
          "2025-02-12T14:45:00",
          "2025-02-12T15:00:00",
          "2025-02-12T15:15:00",
          "2025-02-12T15:30:00",
          "2025-02-12T15:45:00",
          "2025-02-12T16:00:00",
          "2025-02-12T16:15:00",
          "2025-02-12T16:30:00",
          "2025-02-12T16:45:00",
          "2025-02-12T17:00:00",
          "2025-02-12T17:15:00",
          "2025-02-12T17:30:00",
          "2025-02-12T17:45:00",
          "2025-02-12T18:00:00",
          "2025-02-12T18:15:00",
          "2025-02-12T18:30:00",
          "2025-02-12T18:45:00",
          "2025-02-12T19:00:00",
          "2025-02-12T19:15:00",
          "2025-02-12T19:30:00",
          "2025-02-12T19:45:00",
          "2025-02-12T20:00:00",
          "2025-02-12T20:15:00",
          "2025-02-12T20:30:00",
          "2025-02-12T20:45:00",
          "2025-02-12T21:00:00",
          "2025-02-12T21:15:00",
          "2025-02-12T21:30:00",
          "2025-02-12T21:45:00",
          "2025-02-12T22:00:00",
          "2025-02-12T22:15:00",
          "2025-02-12T22:30:00",
          "2025-02-12T22:45:00",
          "2025-02-12T23:00:00",
          "2025-02-12T23:15:00",
          "2025-02-12T23:30:00",
          "2025-02-12T23:45:00",
          "2025-02-13T00:00:00",
          "2025-02-13T00:15:00",
          "2025-02-13T00:30:00",
          "2025-02-13T00:45:00",
          "2025-02-13T01:00:00",
          "2025-02-13T01:15:00",
          "2025-02-13T01:30:00",
          "2025-02-13T01:45:00",
          "2025-02-13T02:00:00",
          "2025-02-13T02:15:00",
          "2025-02-13T02:30:00",
          "2025-02-13T02:45:00",
          "2025-02-13T03:00:00",
          "2025-02-13T03:15:00",
          "2025-02-13T03:30:00",
          "2025-02-13T03:45:00",
          "2025-02-13T04:00:00",
          "2025-02-13T04:15:00",
          "2025-02-13T04:30:00",
          "2025-02-13T04:45:00",
          "2025-02-13T05:00:00",
          "2025-02-13T05:15:00",
          "2025-02-13T05:30:00",
          "2025-02-13T05:45:00",
          "2025-02-13T06:00:00",
          "2025-02-13T06:15:00",
          "2025-02-13T06:30:00",
          "2025-02-13T06:45:00",
          "2025-02-13T07:00:00",
          "2025-02-13T07:15:00",
          "2025-02-13T07:30:00",
          "2025-02-13T07:45:00",
          "2025-02-13T08:00:00",
          "2025-02-13T08:15:00",
          "2025-02-13T08:30:00",
          "2025-02-13T08:45:00",
          "2025-02-13T09:00:00",
          "2025-02-13T09:15:00",
          "2025-02-13T09:30:00",
          "2025-02-13T09:45:00",
          "2025-02-13T10:00:00",
          "2025-02-13T10:15:00",
          "2025-02-13T10:30:00",
          "2025-02-13T10:45:00",
          "2025-02-13T11:00:00",
          "2025-02-13T11:15:00",
          "2025-02-13T11:30:00",
          "2025-02-13T11:45:00",
          "2025-02-13T12:00:00",
          "2025-02-13T12:15:00",
          "2025-02-13T12:30:00",
          "2025-02-13T12:45:00",
          "2025-02-13T13:00:00",
          "2025-02-13T13:15:00",
          "2025-02-13T13:30:00",
          "2025-02-13T13:45:00",
          "2025-02-13T14:00:00",
          "2025-02-13T14:15:00",
          "2025-02-13T14:30:00",
          "2025-02-13T14:45:00",
          "2025-02-13T15:00:00",
          "2025-02-13T15:15:00",
          "2025-02-13T15:30:00",
          "2025-02-13T15:45:00",
          "2025-02-13T16:00:00"
         ],
         "xaxis": "x",
         "y": [
          56.2955254942768,
          56.2685093780849,
          59.9,
          60.02004008016032,
          61.462935689739815,
          54.48179271708683,
          57.90229885057471,
          55.73468447719945,
          56.13295880149812,
          55.29088410444343,
          56.36957536164255,
          58.300132802124836,
          57.553003533568905,
          52.71393643031785,
          56.408952187182095,
          57.509157509157504,
          49.57983193277311,
          56.85307017543859,
          60.01062134891131,
          34.862385321100916,
          28.087649402390436,
          58.05223068552775,
          60.375275938189844,
          62.26927252985885,
          64.74820143884892,
          55.40927303949628,
          94.87179487179486,
          312.5,
          26.91481746599857,
          56.60874144286466,
          56.736446591519055,
          55.02392344497608,
          53.271028037383175,
          54.99451152579583,
          17.403314917127073,
          19.3359375,
          18.155339805825243,
          21.08167770419426,
          20.74866310160428,
          20.395421436004163,
          20.9070796460177,
          22.048066875653085,
          21.88449848024316,
          23.456790123456788,
          21.654749744637385,
          23.945267958950968,
          22.96037296037296,
          23.871733966745843,
          25.213154689403165,
          24.514563106796118,
          24.90842490842491,
          24.76525821596244,
          23.450789793438638,
          26.378896882494008,
          25.389221556886227,
          24.09240924092409,
          23.83177570093458,
          22.99898682877406,
          22.839506172839506,
          25.955967555040555,
          25.77937649880096,
          26.634958382877528,
          24.271844660194176,
          23.883928571428573,
          25.704225352112676,
          26.49214659685864,
          25.171624713958813,
          24.473975636766333,
          24.528301886792452,
          22.01453790238837,
          23.97336293007769,
          22.896698615548456,
          23.734177215189874,
          24.10032715376227,
          23.585912486659552,
          22.187171398527866,
          22.032085561497325,
          18.75,
          20.70240295748614,
          21.96969696969697,
          23.275862068965516,
          22.914349276974416,
          20.128676470588236,
          19.960668633235006,
          21.155830753353975,
          19.065776930409914,
          19.418483904465216,
          24.936708860759495,
          56.11548556430446,
          53.70563674321504,
          58.84907709011944,
          54.8768472906404,
          57.15028601144046,
          53.771025501899075,
          52.66337177375069,
          59.42028985507246,
          55.23012552301255,
          55.230769230769226,
          54.77178423236515,
          52.25974025974026,
          56.63817663817664,
          57.615894039735096,
          57.90829469345699,
          61.05114969497888,
          57.23905723905723,
          57.84361340456532,
          62.62111167771545,
          57.203589985829005,
          56.05006954102921,
          57.99043062200957,
          60.17471736896197,
          56.21621621621622,
          57.35648818137964,
          59.389895138226876,
          59.266907589055236,
          57.276507276507274,
          58.34557023984337
         ],
         "yaxis": "y"
        },
        {
         "fillpattern": {
          "shape": ""
         },
         "hovertemplate": "System=Dig_P<br>timestamp=%{x}<br>% of Generator Power=%{y}<extra></extra>",
         "legendgroup": "Dig_P",
         "line": {
          "color": "#ab63fa",
          "width": 0
         },
         "marker": {
          "symbol": "circle"
         },
         "mode": "lines",
         "name": "Dig_P",
         "orientation": "v",
         "showlegend": true,
         "stackgroup": "1",
         "type": "scatter",
         "x": [
          "2025-02-12T11:11:57",
          "2025-02-12T11:15:00",
          "2025-02-12T11:30:00",
          "2025-02-12T11:45:00",
          "2025-02-12T12:00:00",
          "2025-02-12T12:15:00",
          "2025-02-12T12:30:00",
          "2025-02-12T12:45:00",
          "2025-02-12T13:00:00",
          "2025-02-12T13:15:00",
          "2025-02-12T13:30:00",
          "2025-02-12T13:45:00",
          "2025-02-12T14:00:00",
          "2025-02-12T14:15:00",
          "2025-02-12T14:30:00",
          "2025-02-12T14:45:00",
          "2025-02-12T15:00:00",
          "2025-02-12T15:15:00",
          "2025-02-12T15:30:00",
          "2025-02-12T15:45:00",
          "2025-02-12T16:00:00",
          "2025-02-12T16:15:00",
          "2025-02-12T16:30:00",
          "2025-02-12T16:45:00",
          "2025-02-12T17:00:00",
          "2025-02-12T17:15:00",
          "2025-02-12T17:30:00",
          "2025-02-12T17:45:00",
          "2025-02-12T18:00:00",
          "2025-02-12T18:15:00",
          "2025-02-12T18:30:00",
          "2025-02-12T18:45:00",
          "2025-02-12T19:00:00",
          "2025-02-12T19:15:00",
          "2025-02-12T19:30:00",
          "2025-02-12T19:45:00",
          "2025-02-12T20:00:00",
          "2025-02-12T20:15:00",
          "2025-02-12T20:30:00",
          "2025-02-12T20:45:00",
          "2025-02-12T21:00:00",
          "2025-02-12T21:15:00",
          "2025-02-12T21:30:00",
          "2025-02-12T21:45:00",
          "2025-02-12T22:00:00",
          "2025-02-12T22:15:00",
          "2025-02-12T22:30:00",
          "2025-02-12T22:45:00",
          "2025-02-12T23:00:00",
          "2025-02-12T23:15:00",
          "2025-02-12T23:30:00",
          "2025-02-12T23:45:00",
          "2025-02-13T00:00:00",
          "2025-02-13T00:15:00",
          "2025-02-13T00:30:00",
          "2025-02-13T00:45:00",
          "2025-02-13T01:00:00",
          "2025-02-13T01:15:00",
          "2025-02-13T01:30:00",
          "2025-02-13T01:45:00",
          "2025-02-13T02:00:00",
          "2025-02-13T02:15:00",
          "2025-02-13T02:30:00",
          "2025-02-13T02:45:00",
          "2025-02-13T03:00:00",
          "2025-02-13T03:15:00",
          "2025-02-13T03:30:00",
          "2025-02-13T03:45:00",
          "2025-02-13T04:00:00",
          "2025-02-13T04:15:00",
          "2025-02-13T04:30:00",
          "2025-02-13T04:45:00",
          "2025-02-13T05:00:00",
          "2025-02-13T05:15:00",
          "2025-02-13T05:30:00",
          "2025-02-13T05:45:00",
          "2025-02-13T06:00:00",
          "2025-02-13T06:15:00",
          "2025-02-13T06:30:00",
          "2025-02-13T06:45:00",
          "2025-02-13T07:00:00",
          "2025-02-13T07:15:00",
          "2025-02-13T07:30:00",
          "2025-02-13T07:45:00",
          "2025-02-13T08:00:00",
          "2025-02-13T08:15:00",
          "2025-02-13T08:30:00",
          "2025-02-13T08:45:00",
          "2025-02-13T09:00:00",
          "2025-02-13T09:15:00",
          "2025-02-13T09:30:00",
          "2025-02-13T09:45:00",
          "2025-02-13T10:00:00",
          "2025-02-13T10:15:00",
          "2025-02-13T10:30:00",
          "2025-02-13T10:45:00",
          "2025-02-13T11:00:00",
          "2025-02-13T11:15:00",
          "2025-02-13T11:30:00",
          "2025-02-13T11:45:00",
          "2025-02-13T12:00:00",
          "2025-02-13T12:15:00",
          "2025-02-13T12:30:00",
          "2025-02-13T12:45:00",
          "2025-02-13T13:00:00",
          "2025-02-13T13:15:00",
          "2025-02-13T13:30:00",
          "2025-02-13T13:45:00",
          "2025-02-13T14:00:00",
          "2025-02-13T14:15:00",
          "2025-02-13T14:30:00",
          "2025-02-13T14:45:00",
          "2025-02-13T15:00:00",
          "2025-02-13T15:15:00",
          "2025-02-13T15:30:00",
          "2025-02-13T15:45:00",
          "2025-02-13T16:00:00"
         ],
         "xaxis": "x",
         "y": [
          0,
          0,
          0,
          0,
          0,
          0,
          0,
          0,
          0,
          0,
          0,
          0,
          0,
          0,
          0,
          0,
          0,
          0,
          0,
          0,
          0,
          0,
          0,
          0,
          0,
          0,
          0,
          0,
          0,
          0,
          0,
          0,
          0,
          0,
          0,
          0,
          0,
          0,
          0,
          0,
          0,
          0,
          0,
          0,
          0,
          0,
          0,
          0,
          0,
          0,
          0,
          0,
          0,
          0,
          0,
          0,
          0,
          0,
          0,
          0,
          0,
          0,
          0,
          0,
          0,
          0,
          0,
          0,
          0,
          0,
          0,
          0,
          0,
          0,
          0,
          0,
          0,
          0,
          0,
          0,
          0,
          0,
          0,
          0,
          0,
          0,
          0,
          0,
          0,
          0,
          0,
          0,
          0,
          0,
          0,
          0,
          0,
          0,
          0,
          0,
          0,
          0,
          0,
          0,
          0,
          0,
          0,
          0,
          0,
          0,
          0,
          0,
          0,
          0,
          0,
          0,
          0
         ],
         "yaxis": "y"
        },
        {
         "fillpattern": {
          "shape": ""
         },
         "hovertemplate": "System=Total_Gen_P<br>timestamp=%{x}<br>% of Generator Power=%{y}<extra></extra>",
         "legendgroup": "Total_Gen_P",
         "line": {
          "color": "#FFA15A",
          "width": 0
         },
         "marker": {
          "symbol": "circle"
         },
         "mode": "lines",
         "name": "Total_Gen_P",
         "orientation": "v",
         "showlegend": true,
         "stackgroup": "1",
         "type": "scatter",
         "x": [
          "2025-02-12T11:11:57",
          "2025-02-12T11:15:00",
          "2025-02-12T11:30:00",
          "2025-02-12T11:45:00",
          "2025-02-12T12:00:00",
          "2025-02-12T12:15:00",
          "2025-02-12T12:30:00",
          "2025-02-12T12:45:00",
          "2025-02-12T13:00:00",
          "2025-02-12T13:15:00",
          "2025-02-12T13:30:00",
          "2025-02-12T13:45:00",
          "2025-02-12T14:00:00",
          "2025-02-12T14:15:00",
          "2025-02-12T14:30:00",
          "2025-02-12T14:45:00",
          "2025-02-12T15:00:00",
          "2025-02-12T15:15:00",
          "2025-02-12T15:30:00",
          "2025-02-12T15:45:00",
          "2025-02-12T16:00:00",
          "2025-02-12T16:15:00",
          "2025-02-12T16:30:00",
          "2025-02-12T16:45:00",
          "2025-02-12T17:00:00",
          "2025-02-12T17:15:00",
          "2025-02-12T17:30:00",
          "2025-02-12T17:45:00",
          "2025-02-12T18:00:00",
          "2025-02-12T18:15:00",
          "2025-02-12T18:30:00",
          "2025-02-12T18:45:00",
          "2025-02-12T19:00:00",
          "2025-02-12T19:15:00",
          "2025-02-12T19:30:00",
          "2025-02-12T19:45:00",
          "2025-02-12T20:00:00",
          "2025-02-12T20:15:00",
          "2025-02-12T20:30:00",
          "2025-02-12T20:45:00",
          "2025-02-12T21:00:00",
          "2025-02-12T21:15:00",
          "2025-02-12T21:30:00",
          "2025-02-12T21:45:00",
          "2025-02-12T22:00:00",
          "2025-02-12T22:15:00",
          "2025-02-12T22:30:00",
          "2025-02-12T22:45:00",
          "2025-02-12T23:00:00",
          "2025-02-12T23:15:00",
          "2025-02-12T23:30:00",
          "2025-02-12T23:45:00",
          "2025-02-13T00:00:00",
          "2025-02-13T00:15:00",
          "2025-02-13T00:30:00",
          "2025-02-13T00:45:00",
          "2025-02-13T01:00:00",
          "2025-02-13T01:15:00",
          "2025-02-13T01:30:00",
          "2025-02-13T01:45:00",
          "2025-02-13T02:00:00",
          "2025-02-13T02:15:00",
          "2025-02-13T02:30:00",
          "2025-02-13T02:45:00",
          "2025-02-13T03:00:00",
          "2025-02-13T03:15:00",
          "2025-02-13T03:30:00",
          "2025-02-13T03:45:00",
          "2025-02-13T04:00:00",
          "2025-02-13T04:15:00",
          "2025-02-13T04:30:00",
          "2025-02-13T04:45:00",
          "2025-02-13T05:00:00",
          "2025-02-13T05:15:00",
          "2025-02-13T05:30:00",
          "2025-02-13T05:45:00",
          "2025-02-13T06:00:00",
          "2025-02-13T06:15:00",
          "2025-02-13T06:30:00",
          "2025-02-13T06:45:00",
          "2025-02-13T07:00:00",
          "2025-02-13T07:15:00",
          "2025-02-13T07:30:00",
          "2025-02-13T07:45:00",
          "2025-02-13T08:00:00",
          "2025-02-13T08:15:00",
          "2025-02-13T08:30:00",
          "2025-02-13T08:45:00",
          "2025-02-13T09:00:00",
          "2025-02-13T09:15:00",
          "2025-02-13T09:30:00",
          "2025-02-13T09:45:00",
          "2025-02-13T10:00:00",
          "2025-02-13T10:15:00",
          "2025-02-13T10:30:00",
          "2025-02-13T10:45:00",
          "2025-02-13T11:00:00",
          "2025-02-13T11:15:00",
          "2025-02-13T11:30:00",
          "2025-02-13T11:45:00",
          "2025-02-13T12:00:00",
          "2025-02-13T12:15:00",
          "2025-02-13T12:30:00",
          "2025-02-13T12:45:00",
          "2025-02-13T13:00:00",
          "2025-02-13T13:15:00",
          "2025-02-13T13:30:00",
          "2025-02-13T13:45:00",
          "2025-02-13T14:00:00",
          "2025-02-13T14:15:00",
          "2025-02-13T14:30:00",
          "2025-02-13T14:45:00",
          "2025-02-13T15:00:00",
          "2025-02-13T15:15:00",
          "2025-02-13T15:30:00",
          "2025-02-13T15:45:00",
          "2025-02-13T16:00:00"
         ],
         "xaxis": "x",
         "y": [
          100,
          100,
          100,
          100,
          100,
          100,
          100,
          100,
          100,
          100,
          100,
          100,
          100,
          100,
          100,
          100,
          100,
          100,
          100,
          100,
          100,
          100,
          100,
          100,
          100,
          100,
          100,
          100,
          100,
          100,
          100,
          100,
          100,
          100,
          100,
          100,
          100,
          100,
          100,
          100,
          100,
          100,
          100,
          100,
          100,
          100,
          100,
          100,
          100,
          100,
          100,
          100,
          100,
          100,
          100,
          100,
          100,
          100,
          100,
          100,
          100,
          100,
          100,
          100,
          100,
          100,
          100,
          100,
          100,
          100,
          100,
          100,
          100,
          100,
          100,
          100,
          100,
          100,
          100,
          100,
          100,
          100,
          100,
          100,
          100,
          100,
          100,
          100,
          100,
          100,
          100,
          100,
          100,
          100,
          100,
          100,
          100,
          100,
          100,
          100,
          100,
          100,
          100,
          100,
          100,
          100,
          100,
          100,
          100,
          100,
          100,
          100,
          100,
          100,
          100,
          100,
          100
         ],
         "yaxis": "y"
        },
        {
         "fillpattern": {
          "shape": ""
         },
         "hovertemplate": "System=Loss<br>timestamp=%{x}<br>% of Generator Power=%{y}<extra></extra>",
         "legendgroup": "Loss",
         "line": {
          "color": "#19d3f3",
          "width": 0
         },
         "marker": {
          "symbol": "circle"
         },
         "mode": "lines",
         "name": "Loss",
         "orientation": "v",
         "showlegend": true,
         "stackgroup": "1",
         "type": "scatter",
         "x": [
          "2025-02-12T11:11:57",
          "2025-02-12T11:15:00",
          "2025-02-12T11:30:00",
          "2025-02-12T11:45:00",
          "2025-02-12T12:00:00",
          "2025-02-12T12:15:00",
          "2025-02-12T12:30:00",
          "2025-02-12T12:45:00",
          "2025-02-12T13:00:00",
          "2025-02-12T13:15:00",
          "2025-02-12T13:30:00",
          "2025-02-12T13:45:00",
          "2025-02-12T14:00:00",
          "2025-02-12T14:15:00",
          "2025-02-12T14:30:00",
          "2025-02-12T14:45:00",
          "2025-02-12T15:00:00",
          "2025-02-12T15:15:00",
          "2025-02-12T15:30:00",
          "2025-02-12T15:45:00",
          "2025-02-12T16:00:00",
          "2025-02-12T16:15:00",
          "2025-02-12T16:30:00",
          "2025-02-12T16:45:00",
          "2025-02-12T17:00:00",
          "2025-02-12T17:15:00",
          "2025-02-12T17:30:00",
          "2025-02-12T17:45:00",
          "2025-02-12T18:00:00",
          "2025-02-12T18:15:00",
          "2025-02-12T18:30:00",
          "2025-02-12T18:45:00",
          "2025-02-12T19:00:00",
          "2025-02-12T19:15:00",
          "2025-02-12T19:30:00",
          "2025-02-12T19:45:00",
          "2025-02-12T20:00:00",
          "2025-02-12T20:15:00",
          "2025-02-12T20:30:00",
          "2025-02-12T20:45:00",
          "2025-02-12T21:00:00",
          "2025-02-12T21:15:00",
          "2025-02-12T21:30:00",
          "2025-02-12T21:45:00",
          "2025-02-12T22:00:00",
          "2025-02-12T22:15:00",
          "2025-02-12T22:30:00",
          "2025-02-12T22:45:00",
          "2025-02-12T23:00:00",
          "2025-02-12T23:15:00",
          "2025-02-12T23:30:00",
          "2025-02-12T23:45:00",
          "2025-02-13T00:00:00",
          "2025-02-13T00:15:00",
          "2025-02-13T00:30:00",
          "2025-02-13T00:45:00",
          "2025-02-13T01:00:00",
          "2025-02-13T01:15:00",
          "2025-02-13T01:30:00",
          "2025-02-13T01:45:00",
          "2025-02-13T02:00:00",
          "2025-02-13T02:15:00",
          "2025-02-13T02:30:00",
          "2025-02-13T02:45:00",
          "2025-02-13T03:00:00",
          "2025-02-13T03:15:00",
          "2025-02-13T03:30:00",
          "2025-02-13T03:45:00",
          "2025-02-13T04:00:00",
          "2025-02-13T04:15:00",
          "2025-02-13T04:30:00",
          "2025-02-13T04:45:00",
          "2025-02-13T05:00:00",
          "2025-02-13T05:15:00",
          "2025-02-13T05:30:00",
          "2025-02-13T05:45:00",
          "2025-02-13T06:00:00",
          "2025-02-13T06:15:00",
          "2025-02-13T06:30:00",
          "2025-02-13T06:45:00",
          "2025-02-13T07:00:00",
          "2025-02-13T07:15:00",
          "2025-02-13T07:30:00",
          "2025-02-13T07:45:00",
          "2025-02-13T08:00:00",
          "2025-02-13T08:15:00",
          "2025-02-13T08:30:00",
          "2025-02-13T08:45:00",
          "2025-02-13T09:00:00",
          "2025-02-13T09:15:00",
          "2025-02-13T09:30:00",
          "2025-02-13T09:45:00",
          "2025-02-13T10:00:00",
          "2025-02-13T10:15:00",
          "2025-02-13T10:30:00",
          "2025-02-13T10:45:00",
          "2025-02-13T11:00:00",
          "2025-02-13T11:15:00",
          "2025-02-13T11:30:00",
          "2025-02-13T11:45:00",
          "2025-02-13T12:00:00",
          "2025-02-13T12:15:00",
          "2025-02-13T12:30:00",
          "2025-02-13T12:45:00",
          "2025-02-13T13:00:00",
          "2025-02-13T13:15:00",
          "2025-02-13T13:30:00",
          "2025-02-13T13:45:00",
          "2025-02-13T14:00:00",
          "2025-02-13T14:15:00",
          "2025-02-13T14:30:00",
          "2025-02-13T14:45:00",
          "2025-02-13T15:00:00",
          "2025-02-13T15:15:00",
          "2025-02-13T15:30:00",
          "2025-02-13T15:45:00",
          "2025-02-13T16:00:00"
         ],
         "xaxis": "x",
         "y": [
          -93.02809573361083,
          -91.11549851924974,
          -94.25,
          -96.44288577154308,
          -97.4472263132057,
          -95.7983193277311,
          -96.7911877394636,
          -95.39382772915707,
          -96.11423220973782,
          -93.4951901053596,
          -95.42697153523099,
          -93.89110225763613,
          -94.47879858657245,
          -93.64303178484107,
          -98.6266531027467,
          -99.58137100994242,
          -177.7310924369748,
          -97.03947368421052,
          -97.87573021773764,
          -172.01834862385323,
          -46.08233731739708,
          -93.68879216539719,
          -98.95143487858718,
          -99.8371335504886,
          -104.31654676258992,
          -96.27933600457928,
          -520.5128205128206,
          -446.875,
          -44.16607015032213,
          -95.31332280147444,
          -95.1154052603328,
          -96.6507177033493,
          -95.22326064382139,
          -95.1152579582876,
          -92.26519337016575,
          -103.61328125,
          -100,
          -104.63576158940396,
          -102.45989304812835,
          -103.74609781477628,
          -103.31858407079648,
          -95.08881922675027,
          -90.37487335359677,
          -90.4320987654321,
          -89.17262512768133,
          -102.16647662485747,
          -99.41724941724942,
          -104.98812351543941,
          -100.97442143727162,
          -98.90776699029126,
          -101.83150183150184,
          -99.41314553990608,
          -98.78493317132444,
          -103.11750599520383,
          -100.11976047904193,
          -95.15951595159515,
          -101.51869158878503,
          -89.26038500506587,
          -88.58024691358025,
          -98.1460023174971,
          -98.20143884892087,
          -101.07015457788347,
          -91.26213592233012,
          -96.98660714285717,
          -104.22535211267603,
          -92.87958115183247,
          -98.05491990846681,
          -94.90586932447397,
          -100.55493895671475,
          -95.22326064382139,
          -104.32852386237514,
          -99.78700745473907,
          -91.45569620253164,
          -106.21592148309705,
          -101.49413020277481,
          -98.42271293375393,
          -92.08556149732621,
          -89.22101449275362,
          -90.57301293900184,
          -103.03030303030303,
          -99.46120689655172,
          -109.01001112347052,
          -91.6360294117647,
          -100.98328416912489,
          -105.98555211558309,
          -93.32697807435653,
          -104.25752855659397,
          -99.36708860759495,
          -93.22834645669292,
          -86.95198329853864,
          -95.385450597177,
          -89.7536945812808,
          -91.05564222568904,
          -89.58220293000542,
          -92.42174629324546,
          -100.66889632107024,
          -92.57322175732219,
          -93.33333333333331,
          -92.63485477178423,
          -88.57142857142858,
          -98.17663817663816,
          -94.29444727457971,
          -95.56929417825864,
          -96.0581886438292,
          -92.25589225589226,
          -92.08353569694026,
          -101.580826109128,
          -91.96976854038735,
          -91.4696337505795,
          -92.00956937799043,
          -98.04727646454265,
          -95.18427518427518,
          -91.75108538350216,
          -93.80362249761677,
          -95.30201342281879,
          -93.1912681912682,
          -92.55996084189917
         ],
         "yaxis": "y"
        }
       ],
       "layout": {
        "height": 600,
        "legend": {
         "title": {
          "text": "System"
         },
         "tracegroupgap": 0
        },
        "showlegend": true,
        "template": {
         "data": {
          "bar": [
           {
            "error_x": {
             "color": "rgb(36,36,36)"
            },
            "error_y": {
             "color": "rgb(36,36,36)"
            },
            "marker": {
             "line": {
              "color": "white",
              "width": 0.5
             },
             "pattern": {
              "fillmode": "overlay",
              "size": 10,
              "solidity": 0.2
             }
            },
            "type": "bar"
           }
          ],
          "barpolar": [
           {
            "marker": {
             "line": {
              "color": "white",
              "width": 0.5
             },
             "pattern": {
              "fillmode": "overlay",
              "size": 10,
              "solidity": 0.2
             }
            },
            "type": "barpolar"
           }
          ],
          "carpet": [
           {
            "aaxis": {
             "endlinecolor": "rgb(36,36,36)",
             "gridcolor": "white",
             "linecolor": "white",
             "minorgridcolor": "white",
             "startlinecolor": "rgb(36,36,36)"
            },
            "baxis": {
             "endlinecolor": "rgb(36,36,36)",
             "gridcolor": "white",
             "linecolor": "white",
             "minorgridcolor": "white",
             "startlinecolor": "rgb(36,36,36)"
            },
            "type": "carpet"
           }
          ],
          "choropleth": [
           {
            "colorbar": {
             "outlinewidth": 1,
             "tickcolor": "rgb(36,36,36)",
             "ticks": "outside"
            },
            "type": "choropleth"
           }
          ],
          "contour": [
           {
            "colorbar": {
             "outlinewidth": 1,
             "tickcolor": "rgb(36,36,36)",
             "ticks": "outside"
            },
            "colorscale": [
             [
              0,
              "#440154"
             ],
             [
              0.1111111111111111,
              "#482878"
             ],
             [
              0.2222222222222222,
              "#3e4989"
             ],
             [
              0.3333333333333333,
              "#31688e"
             ],
             [
              0.4444444444444444,
              "#26828e"
             ],
             [
              0.5555555555555556,
              "#1f9e89"
             ],
             [
              0.6666666666666666,
              "#35b779"
             ],
             [
              0.7777777777777778,
              "#6ece58"
             ],
             [
              0.8888888888888888,
              "#b5de2b"
             ],
             [
              1,
              "#fde725"
             ]
            ],
            "type": "contour"
           }
          ],
          "contourcarpet": [
           {
            "colorbar": {
             "outlinewidth": 1,
             "tickcolor": "rgb(36,36,36)",
             "ticks": "outside"
            },
            "type": "contourcarpet"
           }
          ],
          "heatmap": [
           {
            "colorbar": {
             "outlinewidth": 1,
             "tickcolor": "rgb(36,36,36)",
             "ticks": "outside"
            },
            "colorscale": [
             [
              0,
              "#440154"
             ],
             [
              0.1111111111111111,
              "#482878"
             ],
             [
              0.2222222222222222,
              "#3e4989"
             ],
             [
              0.3333333333333333,
              "#31688e"
             ],
             [
              0.4444444444444444,
              "#26828e"
             ],
             [
              0.5555555555555556,
              "#1f9e89"
             ],
             [
              0.6666666666666666,
              "#35b779"
             ],
             [
              0.7777777777777778,
              "#6ece58"
             ],
             [
              0.8888888888888888,
              "#b5de2b"
             ],
             [
              1,
              "#fde725"
             ]
            ],
            "type": "heatmap"
           }
          ],
          "heatmapgl": [
           {
            "colorbar": {
             "outlinewidth": 1,
             "tickcolor": "rgb(36,36,36)",
             "ticks": "outside"
            },
            "colorscale": [
             [
              0,
              "#440154"
             ],
             [
              0.1111111111111111,
              "#482878"
             ],
             [
              0.2222222222222222,
              "#3e4989"
             ],
             [
              0.3333333333333333,
              "#31688e"
             ],
             [
              0.4444444444444444,
              "#26828e"
             ],
             [
              0.5555555555555556,
              "#1f9e89"
             ],
             [
              0.6666666666666666,
              "#35b779"
             ],
             [
              0.7777777777777778,
              "#6ece58"
             ],
             [
              0.8888888888888888,
              "#b5de2b"
             ],
             [
              1,
              "#fde725"
             ]
            ],
            "type": "heatmapgl"
           }
          ],
          "histogram": [
           {
            "marker": {
             "line": {
              "color": "white",
              "width": 0.6
             }
            },
            "type": "histogram"
           }
          ],
          "histogram2d": [
           {
            "colorbar": {
             "outlinewidth": 1,
             "tickcolor": "rgb(36,36,36)",
             "ticks": "outside"
            },
            "colorscale": [
             [
              0,
              "#440154"
             ],
             [
              0.1111111111111111,
              "#482878"
             ],
             [
              0.2222222222222222,
              "#3e4989"
             ],
             [
              0.3333333333333333,
              "#31688e"
             ],
             [
              0.4444444444444444,
              "#26828e"
             ],
             [
              0.5555555555555556,
              "#1f9e89"
             ],
             [
              0.6666666666666666,
              "#35b779"
             ],
             [
              0.7777777777777778,
              "#6ece58"
             ],
             [
              0.8888888888888888,
              "#b5de2b"
             ],
             [
              1,
              "#fde725"
             ]
            ],
            "type": "histogram2d"
           }
          ],
          "histogram2dcontour": [
           {
            "colorbar": {
             "outlinewidth": 1,
             "tickcolor": "rgb(36,36,36)",
             "ticks": "outside"
            },
            "colorscale": [
             [
              0,
              "#440154"
             ],
             [
              0.1111111111111111,
              "#482878"
             ],
             [
              0.2222222222222222,
              "#3e4989"
             ],
             [
              0.3333333333333333,
              "#31688e"
             ],
             [
              0.4444444444444444,
              "#26828e"
             ],
             [
              0.5555555555555556,
              "#1f9e89"
             ],
             [
              0.6666666666666666,
              "#35b779"
             ],
             [
              0.7777777777777778,
              "#6ece58"
             ],
             [
              0.8888888888888888,
              "#b5de2b"
             ],
             [
              1,
              "#fde725"
             ]
            ],
            "type": "histogram2dcontour"
           }
          ],
          "mesh3d": [
           {
            "colorbar": {
             "outlinewidth": 1,
             "tickcolor": "rgb(36,36,36)",
             "ticks": "outside"
            },
            "type": "mesh3d"
           }
          ],
          "parcoords": [
           {
            "line": {
             "colorbar": {
              "outlinewidth": 1,
              "tickcolor": "rgb(36,36,36)",
              "ticks": "outside"
             }
            },
            "type": "parcoords"
           }
          ],
          "pie": [
           {
            "automargin": true,
            "type": "pie"
           }
          ],
          "scatter": [
           {
            "fillpattern": {
             "fillmode": "overlay",
             "size": 10,
             "solidity": 0.2
            },
            "type": "scatter"
           }
          ],
          "scatter3d": [
           {
            "line": {
             "colorbar": {
              "outlinewidth": 1,
              "tickcolor": "rgb(36,36,36)",
              "ticks": "outside"
             }
            },
            "marker": {
             "colorbar": {
              "outlinewidth": 1,
              "tickcolor": "rgb(36,36,36)",
              "ticks": "outside"
             }
            },
            "type": "scatter3d"
           }
          ],
          "scattercarpet": [
           {
            "marker": {
             "colorbar": {
              "outlinewidth": 1,
              "tickcolor": "rgb(36,36,36)",
              "ticks": "outside"
             }
            },
            "type": "scattercarpet"
           }
          ],
          "scattergeo": [
           {
            "marker": {
             "colorbar": {
              "outlinewidth": 1,
              "tickcolor": "rgb(36,36,36)",
              "ticks": "outside"
             }
            },
            "type": "scattergeo"
           }
          ],
          "scattergl": [
           {
            "marker": {
             "colorbar": {
              "outlinewidth": 1,
              "tickcolor": "rgb(36,36,36)",
              "ticks": "outside"
             }
            },
            "type": "scattergl"
           }
          ],
          "scattermapbox": [
           {
            "marker": {
             "colorbar": {
              "outlinewidth": 1,
              "tickcolor": "rgb(36,36,36)",
              "ticks": "outside"
             }
            },
            "type": "scattermapbox"
           }
          ],
          "scatterpolar": [
           {
            "marker": {
             "colorbar": {
              "outlinewidth": 1,
              "tickcolor": "rgb(36,36,36)",
              "ticks": "outside"
             }
            },
            "type": "scatterpolar"
           }
          ],
          "scatterpolargl": [
           {
            "marker": {
             "colorbar": {
              "outlinewidth": 1,
              "tickcolor": "rgb(36,36,36)",
              "ticks": "outside"
             }
            },
            "type": "scatterpolargl"
           }
          ],
          "scatterternary": [
           {
            "marker": {
             "colorbar": {
              "outlinewidth": 1,
              "tickcolor": "rgb(36,36,36)",
              "ticks": "outside"
             }
            },
            "type": "scatterternary"
           }
          ],
          "surface": [
           {
            "colorbar": {
             "outlinewidth": 1,
             "tickcolor": "rgb(36,36,36)",
             "ticks": "outside"
            },
            "colorscale": [
             [
              0,
              "#440154"
             ],
             [
              0.1111111111111111,
              "#482878"
             ],
             [
              0.2222222222222222,
              "#3e4989"
             ],
             [
              0.3333333333333333,
              "#31688e"
             ],
             [
              0.4444444444444444,
              "#26828e"
             ],
             [
              0.5555555555555556,
              "#1f9e89"
             ],
             [
              0.6666666666666666,
              "#35b779"
             ],
             [
              0.7777777777777778,
              "#6ece58"
             ],
             [
              0.8888888888888888,
              "#b5de2b"
             ],
             [
              1,
              "#fde725"
             ]
            ],
            "type": "surface"
           }
          ],
          "table": [
           {
            "cells": {
             "fill": {
              "color": "rgb(237,237,237)"
             },
             "line": {
              "color": "white"
             }
            },
            "header": {
             "fill": {
              "color": "rgb(217,217,217)"
             },
             "line": {
              "color": "white"
             }
            },
            "type": "table"
           }
          ]
         },
         "layout": {
          "annotationdefaults": {
           "arrowhead": 0,
           "arrowwidth": 1
          },
          "autotypenumbers": "strict",
          "coloraxis": {
           "colorbar": {
            "outlinewidth": 1,
            "tickcolor": "rgb(36,36,36)",
            "ticks": "outside"
           }
          },
          "colorscale": {
           "diverging": [
            [
             0,
             "rgb(103,0,31)"
            ],
            [
             0.1,
             "rgb(178,24,43)"
            ],
            [
             0.2,
             "rgb(214,96,77)"
            ],
            [
             0.3,
             "rgb(244,165,130)"
            ],
            [
             0.4,
             "rgb(253,219,199)"
            ],
            [
             0.5,
             "rgb(247,247,247)"
            ],
            [
             0.6,
             "rgb(209,229,240)"
            ],
            [
             0.7,
             "rgb(146,197,222)"
            ],
            [
             0.8,
             "rgb(67,147,195)"
            ],
            [
             0.9,
             "rgb(33,102,172)"
            ],
            [
             1,
             "rgb(5,48,97)"
            ]
           ],
           "sequential": [
            [
             0,
             "#440154"
            ],
            [
             0.1111111111111111,
             "#482878"
            ],
            [
             0.2222222222222222,
             "#3e4989"
            ],
            [
             0.3333333333333333,
             "#31688e"
            ],
            [
             0.4444444444444444,
             "#26828e"
            ],
            [
             0.5555555555555556,
             "#1f9e89"
            ],
            [
             0.6666666666666666,
             "#35b779"
            ],
            [
             0.7777777777777778,
             "#6ece58"
            ],
            [
             0.8888888888888888,
             "#b5de2b"
            ],
            [
             1,
             "#fde725"
            ]
           ],
           "sequentialminus": [
            [
             0,
             "#440154"
            ],
            [
             0.1111111111111111,
             "#482878"
            ],
            [
             0.2222222222222222,
             "#3e4989"
            ],
            [
             0.3333333333333333,
             "#31688e"
            ],
            [
             0.4444444444444444,
             "#26828e"
            ],
            [
             0.5555555555555556,
             "#1f9e89"
            ],
            [
             0.6666666666666666,
             "#35b779"
            ],
            [
             0.7777777777777778,
             "#6ece58"
            ],
            [
             0.8888888888888888,
             "#b5de2b"
            ],
            [
             1,
             "#fde725"
            ]
           ]
          },
          "colorway": [
           "#1F77B4",
           "#FF7F0E",
           "#2CA02C",
           "#D62728",
           "#9467BD",
           "#8C564B",
           "#E377C2",
           "#7F7F7F",
           "#BCBD22",
           "#17BECF"
          ],
          "font": {
           "color": "rgb(36,36,36)"
          },
          "geo": {
           "bgcolor": "white",
           "lakecolor": "white",
           "landcolor": "white",
           "showlakes": true,
           "showland": true,
           "subunitcolor": "white"
          },
          "hoverlabel": {
           "align": "left"
          },
          "hovermode": "closest",
          "mapbox": {
           "style": "light"
          },
          "paper_bgcolor": "white",
          "plot_bgcolor": "white",
          "polar": {
           "angularaxis": {
            "gridcolor": "rgb(232,232,232)",
            "linecolor": "rgb(36,36,36)",
            "showgrid": false,
            "showline": true,
            "ticks": "outside"
           },
           "bgcolor": "white",
           "radialaxis": {
            "gridcolor": "rgb(232,232,232)",
            "linecolor": "rgb(36,36,36)",
            "showgrid": false,
            "showline": true,
            "ticks": "outside"
           }
          },
          "scene": {
           "xaxis": {
            "backgroundcolor": "white",
            "gridcolor": "rgb(232,232,232)",
            "gridwidth": 2,
            "linecolor": "rgb(36,36,36)",
            "showbackground": true,
            "showgrid": false,
            "showline": true,
            "ticks": "outside",
            "zeroline": false,
            "zerolinecolor": "rgb(36,36,36)"
           },
           "yaxis": {
            "backgroundcolor": "white",
            "gridcolor": "rgb(232,232,232)",
            "gridwidth": 2,
            "linecolor": "rgb(36,36,36)",
            "showbackground": true,
            "showgrid": false,
            "showline": true,
            "ticks": "outside",
            "zeroline": false,
            "zerolinecolor": "rgb(36,36,36)"
           },
           "zaxis": {
            "backgroundcolor": "white",
            "gridcolor": "rgb(232,232,232)",
            "gridwidth": 2,
            "linecolor": "rgb(36,36,36)",
            "showbackground": true,
            "showgrid": false,
            "showline": true,
            "ticks": "outside",
            "zeroline": false,
            "zerolinecolor": "rgb(36,36,36)"
           }
          },
          "shapedefaults": {
           "fillcolor": "black",
           "line": {
            "width": 0
           },
           "opacity": 0.3
          },
          "ternary": {
           "aaxis": {
            "gridcolor": "rgb(232,232,232)",
            "linecolor": "rgb(36,36,36)",
            "showgrid": false,
            "showline": true,
            "ticks": "outside"
           },
           "baxis": {
            "gridcolor": "rgb(232,232,232)",
            "linecolor": "rgb(36,36,36)",
            "showgrid": false,
            "showline": true,
            "ticks": "outside"
           },
           "bgcolor": "white",
           "caxis": {
            "gridcolor": "rgb(232,232,232)",
            "linecolor": "rgb(36,36,36)",
            "showgrid": false,
            "showline": true,
            "ticks": "outside"
           }
          },
          "title": {
           "x": 0.05
          },
          "xaxis": {
           "automargin": true,
           "gridcolor": "rgb(232,232,232)",
           "linecolor": "rgb(36,36,36)",
           "showgrid": false,
           "showline": true,
           "ticks": "outside",
           "title": {
            "standoff": 15
           },
           "zeroline": false,
           "zerolinecolor": "rgb(36,36,36)"
          },
          "yaxis": {
           "automargin": true,
           "gridcolor": "rgb(232,232,232)",
           "linecolor": "rgb(36,36,36)",
           "showgrid": false,
           "showline": true,
           "ticks": "outside",
           "title": {
            "standoff": 15
           },
           "zeroline": false,
           "zerolinecolor": "rgb(36,36,36)"
          }
         }
        },
        "title": {
         "text": "Heat Exchanger and Other System Power as % of Total Generator Output"
        },
        "xaxis": {
         "anchor": "y",
         "domain": [
          0,
          1
         ],
         "title": {
          "text": "Timestamp"
         }
        },
        "yaxis": {
         "anchor": "x",
         "domain": [
          0,
          1
         ],
         "title": {
          "text": "Percent of Total Generator Power"
         }
        }
       }
      }
     },
     "metadata": {},
     "output_type": "display_data"
    }
   ],
   "source": [
    "# Read Cogeneratrices_Cinergie.csv file\n",
    "cogen_df = pd.read_csv('Cogen.csv',sep = \";\", header=0)\n",
    "echangeur_df = pd.read_csv('Echangeurs.csv',sep = \";\", header=0)\n",
    "\n",
    "import plotly.express as px\n",
    "\n",
    "# Convert timestamp to datetime and set as index\n",
    "def set_timestamp(df):\n",
    "    df['timestamp'] = pd.to_datetime(df['Date'] + ' ' + df['UTC Time'])\n",
    "    df.set_index('timestamp', inplace=True)\n",
    "    df.drop(columns=['Date', 'UTC Time','Record'], inplace=True)\n",
    "\n",
    "set_timestamp(cogen_df)\n",
    "set_timestamp(echangeur_df)\n",
    "\n",
    "display(cogen_df.head())\n",
    "display(echangeur_df.head())\n",
    "echangeur_df['dT_RU'] = echangeur_df['Tc_RU'] - echangeur_df['Tf_RU']\n",
    "# Create line plot for Tc_ru and Tf_ru temperatures\n",
    "fig = px.line(echangeur_df, x=echangeur_df.index, y=['Tc_RU', 'Tf_RU'],    line_shape = 'spline'\n",
    ")\n",
    "\n",
    "# Update line colors\n",
    "fig.update_traces(line_color='orange', selector=dict(name='Tc_RU'))\n",
    "fig.update_traces(line_color='blue', selector=dict(name='Tf_RU'))\n",
    "\n",
    "# Add conditional coloring for Tc_ru > 74\n",
    "fig.add_scatter(\n",
    "    x=echangeur_df[echangeur_df['Tc_RU'] > 74].index,\n",
    "    y=echangeur_df[echangeur_df['Tc_RU'] > 74]['Tc_RU'],\n",
    "    mode='markers',\n",
    "    line_color='red',\n",
    "    name='Tc_ru > 74°C',\n",
    "    showlegend=False,\n",
    "    line_shape = 'spline'\n",
    ")\n",
    "\n",
    "fig.update_layout(\n",
    "    title='Temperature Réseau Urbain',\n",
    "    xaxis_title='Date',\n",
    "    yaxis_title='Temperature (°C)',\n",
    "    height=600,\n",
    "    template='simple_white'\n",
    ")\n",
    "\n",
    "fig.show()\n",
    "\n",
    "fig_2 = px.line(echangeur_df, x=echangeur_df.index, y=['dT_RU'], line_shape = 'spline')\n",
    "fig_2.show()\n",
    "\n",
    "# Convert numeric columns by removing units\n",
    "for col in cogen_df.columns:\n",
    "    try:\n",
    "        cogen_df[col] = cogen_df[col].str.extract('([-+]?\\d*\\.?\\d+)').astype(float)\n",
    "    except (AttributeError, ValueError):\n",
    "        # Skip columns that can't be converted to numeric\n",
    "        continue\n",
    "\n",
    "# Create interactive plot with plotly express\n",
    "fig = px.line(cogen_df, x=cogen_df.index, y=cogen_df.columns)\n",
    "fig.update_layout(\n",
    "    xaxis_title=\"Timestamp\",\n",
    "    yaxis_title=\"Values\",\n",
    "    legend_title=\"Variables\",\n",
    "    height=600\n",
    ")\n",
    "fig.show()\n",
    "\n",
    "\n",
    "# Create stacked area plot for power values\n",
    "power_cols = ['JEN1_P', 'JEN2_P','LIEB_P']\n",
    "fig = px.area(cogen_df, x=cogen_df.index, y=power_cols, \n",
    "              title='Power Output by Generator',\n",
    "              labels={'value': 'Power', 'variable': 'Generator'},\n",
    "              height=600)\n",
    "\n",
    "fig.update_layout(\n",
    "    xaxis_title=\"Timestamp\",\n",
    "    yaxis_title=\"Power\",\n",
    "    showlegend=True,\n",
    "    template ='simple_white'\n",
    ")\n",
    "fig.update_traces(line=dict(width=0))\n",
    "fig.show()\n",
    "\n",
    "\n",
    "# Create stacked area plot for heat exchanger and other power values\n",
    "cogen_df['Total_Gen_P'] = cogen_df['JEN1_P'] + cogen_df['JEN2_P'] + cogen_df['LIEB_P']\n",
    "area_cols = ['HX1_P', 'HX2_P', 'Sech_P', 'Dig_P']\n",
    "\n",
    "# Create stacked area plot for heat exchangers\n",
    "fig = px.area(cogen_df, x=cogen_df.index, y=area_cols,\n",
    "              title='Power Output by Heat Exchangers and Other Systems',\n",
    "              labels={'value': 'Power', 'variable': 'System'},\n",
    "              height=600)\n",
    "fig.update_traces(selector=dict(type='scatter'), line=dict(width=0))\n",
    "\n",
    "# Add total generator power as a line on top\n",
    "fig.add_scatter(x=cogen_df.index, y=cogen_df['Total_Gen_P'], \n",
    "                name='Total Generator Power',\n",
    "                mode='lines',\n",
    "                line=dict(width=2))\n",
    "\n",
    "fig.update_layout(\n",
    "    xaxis_title=\"Timestamp\", \n",
    "    yaxis_title=\"Power\",\n",
    "    showlegend=True,\n",
    "    template='simple_white'\n",
    ")\n",
    "fig.show()\n",
    "\n",
    "# 100% stacked area plot\n",
    "# Calculate total generator power as denominator for percentages\n",
    "total_gen_power = cogen_df[power_cols].sum(axis=1)\n",
    "\n",
    "# Calculate percentage of total generator power for each heat/other system\n",
    "pct_df = pd.DataFrame()\n",
    "for col in heat_power_cols:\n",
    "    pct_df[col] = cogen_df[col] / total_gen_power * 100\n",
    "\n",
    "# Calculate loss column as difference from 100%\n",
    "pct_df['Loss'] = 100 - pct_df[heat_power_cols].sum(axis=1)\n",
    "\n",
    "# Add loss column to plot columns\n",
    "plot_cols = heat_power_cols + ['Loss']\n",
    "\n",
    "fig = px.area(pct_df, x=pct_df.index, y=plot_cols,\n",
    "              title='Heat Exchanger and Other System Power as % of Total Generator Output',\n",
    "              labels={'value': '% of Generator Power', 'variable': 'System'},\n",
    "              height=600)\n",
    "\n",
    "fig.update_layout(\n",
    "    xaxis_title=\"Timestamp\",\n",
    "    yaxis_title=\"Percent of Total Generator Power\", \n",
    "    showlegend=True,\n",
    "    template='simple_white'\n",
    ")\n",
    "fig.update_traces(line=dict(width=0))\n",
    "fig.show()\n",
    "\n"
   ]
  },
  {
   "cell_type": "code",
   "execution_count": null,
   "metadata": {},
   "outputs": [],
   "source": []
  },
  {
   "cell_type": "code",
   "execution_count": null,
   "metadata": {},
   "outputs": [],
   "source": [
    "import plotly.express as px\n",
    "merged_df.head()\n",
    "# px.line(merged_df)"
   ]
  }
 ],
 "metadata": {
  "kernelspec": {
   "display_name": "models-env",
   "language": "python",
   "name": "python3"
  },
  "language_info": {
   "codemirror_mode": {
    "name": "ipython",
    "version": 3
   },
   "file_extension": ".py",
   "mimetype": "text/x-python",
   "name": "python",
   "nbconvert_exporter": "python",
   "pygments_lexer": "ipython3",
   "version": "3.9.10"
  }
 },
 "nbformat": 4,
 "nbformat_minor": 2
}
